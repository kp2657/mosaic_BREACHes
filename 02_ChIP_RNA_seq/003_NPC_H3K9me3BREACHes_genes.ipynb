{
 "cells": [
  {
   "cell_type": "code",
   "execution_count": 6,
   "id": "78e42d74-eafb-4ef6-99f8-f8d3e54fa69d",
   "metadata": {},
   "outputs": [],
   "source": [
    "import matplotlib.pyplot as plt\n",
    "import numpy as np\n",
    "import pandas as pd\n",
    "import seaborn as sns\n",
    "from scipy.stats import zscore, pearsonr\n",
    "import os\n",
    "import random\n",
    "plt.rcParams['pdf.fonttype'] = 42\n",
    "plt.rcParams['ps.fonttype'] = 42\n",
    "plt.rcParams['font.family'] = 'Helvetica'"
   ]
  },
  {
   "cell_type": "code",
   "execution_count": 7,
   "id": "7143e842-c6e7-4ba1-9bf7-8ab3d7867798",
   "metadata": {},
   "outputs": [],
   "source": [
    "my_colors = {'NL_18':'tan', \n",
    "             'NL_25':'goldenrod', \n",
    "             'NL_27':'gold', \n",
    "             'FXS_421':'lightblue', \n",
    "             'FXS_426':'cornflowerblue', \n",
    "             'FXS_470':'b',\n",
    "             'FXS_448':'purple'}\n",
    "my_order = ('NL_18', \n",
    "             'NL_25', \n",
    "             'NL_27', \n",
    "             'FXS_421', \n",
    "             'FXS_426', \n",
    "             'FXS_470',\n",
    "             'FXS_448')"
   ]
  },
  {
   "cell_type": "code",
   "execution_count": 8,
   "id": "06b4cc95-766d-451d-84b4-27cc2c09da32",
   "metadata": {},
   "outputs": [],
   "source": [
    "MANE = pd.read_csv('MANE.GRCh38.v1.3.summary.txt', sep='\\t')\n",
    "MANE.rename(columns={'symbol': 'gene'}, inplace=True)\n",
    "MANE['chr'] = 'chr' + MANE['GRCh38_chr'].str.extract(r'(NC_\\d+)').squeeze().str.extract(r'NC_0*(\\d+)')\n",
    "MANE['length'] = abs(MANE['chr_start'] - MANE['chr_end'])\n",
    "MANE['chr'] = MANE['chr'].replace({'chr23': 'chrX', 'chr24': 'chrY'})\n",
    "MANE = MANE.dropna(subset=['chr'])\n",
    "MANE = MANE.drop(columns=['RefSeq_nuc',\n",
    " 'RefSeq_prot',\n",
    " 'Ensembl_nuc',\n",
    " 'Ensembl_prot',\n",
    " 'MANE_status']).drop_duplicates()\n",
    "genes = MANE[['gene', 'chr', 'chr_start', 'chr_end']].drop_duplicates()"
   ]
  },
  {
   "cell_type": "code",
   "execution_count": 10,
   "id": "d56845fd-484d-4fc7-a0e8-74a33466706c",
   "metadata": {},
   "outputs": [],
   "source": [
    "control_domains = pd.read_csv('./RSEG/control_domains.bed', sep='\\t', header=None, names=['chr', 'start', 'end'])\n",
    "filtered_genes = pd.merge(\n",
    "    genes,\n",
    "    control_domains,\n",
    "    on='chr',  \n",
    "    suffixes=('', '_control')\n",
    ")\n",
    "filtered_genes = filtered_genes[\n",
    "    (filtered_genes['chr_start'] >= filtered_genes['start']) &\n",
    "    (filtered_genes['chr_end'] <= filtered_genes['end'])\n",
    "]\n",
    "invariant_genes = filtered_genes[['chr', 'start', 'end', 'gene']].drop_duplicates(subset=['gene'])\n",
    "\n",
    "annotated_BREACHES = pd.read_csv('./annotated_BREACHES.bed', sep='\\t', header=None, names=['chr', 'start', 'end', 'coverage'])\n",
    "\n",
    "filtered_genes = pd.merge(\n",
    "    genes,\n",
    "    annotated_BREACHES,\n",
    "    on='chr',  \n",
    ")\n",
    "filtered_genes = filtered_genes[\n",
    "    (filtered_genes['chr_start'] >= filtered_genes['start']) &\n",
    "    (filtered_genes['chr_end'] <= filtered_genes['end'])\n",
    "]\n",
    "filtered_genes = filtered_genes[['chr', 'chr_start', 'chr_end', 'gene']]\n",
    "filtered_genes = filtered_genes[~filtered_genes['gene'].isin(invariant_genes['gene'])]"
   ]
  },
  {
   "cell_type": "code",
   "execution_count": 11,
   "id": "1bb15884-3c28-44d7-b660-d4e1532b96cb",
   "metadata": {},
   "outputs": [],
   "source": [
    "bed_files = [f for f in os.listdir('./RSEG') if f.endswith('_BREACHes.bed')]\n",
    "\n",
    "regions = {\n",
    "    \"gene_body\": lambda row: (row['chr_start'], row['chr_end']),  # Entire gene body\n",
    "    \"promoter_10kb\": lambda row: (row['chr_start'] - 2000, row['chr_start'] + 10000),  \n",
    "}\n",
    "\n",
    "result_df = filtered_genes[['gene', 'chr', 'chr_start', 'chr_end']].copy()\n",
    "result_df[['gene_body', 'promoter_10kb']] = 0  # Add columns for regions\n",
    "\n",
    "for bed_file in bed_files:\n",
    "    bed_path = os.path.join('./RSEG', bed_file)\n",
    "    \n",
    "    # Load the BED file\n",
    "    bed_df = pd.read_csv(bed_path, sep='\\t', header=None, names=['chr', 'start', 'end'])\n",
    "    \n",
    "    for region_name, region_func in regions.items():\n",
    "        # Iterate over each row in the result_df\n",
    "        for idx, gene_row in result_df.iterrows():\n",
    "            chr_gene = gene_row['chr']\n",
    "            start_region, end_region = region_func(gene_row)  # Calculate region boundaries\n",
    "            \n",
    "            # Filter the BED file to get rows that match the same chromosome\n",
    "            bed_chr = bed_df[bed_df['chr'] == chr_gene]\n",
    "            \n",
    "            for _, bed_row in bed_chr.iterrows():\n",
    "                # Calculate overlap\n",
    "                overlap_start = max(start_region, bed_row['start'])\n",
    "                overlap_end = min(end_region, bed_row['end'])\n",
    "                overlap_length = max(0, overlap_end - overlap_start)\n",
    "                \n",
    "                # Check if overlap is at least 90% of the region length\n",
    "                region_length = end_region - start_region\n",
    "                if overlap_length >= 0.9 * region_length:\n",
    "                    result_df.at[idx, region_name] += 1\n",
    "                    break  \n",
    "final_df = result_df[['gene', 'gene_body', 'promoter_10kb']].query('gene_body > 0')"
   ]
  },
  {
   "cell_type": "code",
   "execution_count": 12,
   "id": "d27a453d-de37-4a0b-9f7d-17a90ffa5135",
   "metadata": {},
   "outputs": [],
   "source": [
    "genes_NPC_CV = pd.read_csv('./genes_NPC_CV.txt', sep ='\\t', index_col=False)\n",
    "genes_NPC_CV['NPC_BREACH'] = genes_NPC_CV['gene'].isin(final_df['gene'])"
   ]
  },
  {
   "cell_type": "code",
   "execution_count": 13,
   "id": "d55a1869-148e-4719-9296-8c8e8cbcffdc",
   "metadata": {},
   "outputs": [
    {
     "data": {
      "text/plain": [
       "([], [])"
      ]
     },
     "execution_count": 13,
     "metadata": {},
     "output_type": "execute_result"
    },
    {
     "data": {
      "image/png": "[encoded data removed]",
      "text/plain": [
       "<Figure size 288x360 with 1 Axes>"
      ]
     },
     "metadata": {
      "needs_background": "light"
     },
     "output_type": "display_data"
    }
   ],
   "source": [
    "plt.figure(figsize=(4, 5))\n",
    "sns.barplot(genes_NPC_CV.sort_values('cv_FXS_zscore', ascending = False), \n",
    "                x='gene', y='cv_FXS_zscore', edgecolor=\"none\", color='grey')\n",
    "sns.scatterplot(genes_NPC_CV.query('NPC_BREACH == True').sort_values('cv_FXS_zscore', ascending = False), \n",
    "                x='gene', y='cv_FXS_zscore', edgecolor=\"none\", color='purple', s=20)\n",
    "\n",
    "sns.despine(right=True)\n",
    "\n",
    "plt.ylabel('')\n",
    "plt.ylim(-2,9)\n",
    "plt.yticks([-2,0,9])\n",
    "\n",
    "plt.xlabel('')\n",
    "plt.xticks([])\n",
    "#plt.savefig('cv_FXS_zscore_ranked.pdf', dpi=1000)"
   ]
  },
  {
   "cell_type": "code",
   "execution_count": 14,
   "id": "ff8ca2ad-9d7a-4d66-88d8-6fad11b75465",
   "metadata": {},
   "outputs": [],
   "source": [
    "sfari = pd.read_csv('SFARI-Gene_genes_01-13-2025release_01-15-2025export.csv')\n",
    "genes_sfari = genes_NPC_CV.merge(sfari, left_on='gene', right_on='gene-symbol', how='left')\n",
    "breach_data_sfari = genes_sfari.query('NPC_BREACH == True')"
   ]
  },
  {
   "cell_type": "code",
   "execution_count": 15,
   "id": "e1dcb371-45ee-4be5-8516-79b43ffb1849",
   "metadata": {},
   "outputs": [
    {
     "name": "stdout",
     "output_type": "stream",
     "text": [
      "9\n",
      "3\n",
      "8\n",
      "1\n",
      "6\n",
      "2\n"
     ]
    },
    {
     "name": "stderr",
     "output_type": "stream",
     "text": [
      "/var/folders/v1/3py01kc1619d4sj6bsmhx3br0000gn/T/ipykernel_58847/846219274.py:1: SettingWithCopyWarning: \n",
      "A value is trying to be set on a copy of a slice from a DataFrame.\n",
      "Try using .loc[row_indexer,col_indexer] = value instead\n",
      "\n",
      "See the caveats in the documentation: https://pandas.pydata.org/pandas-docs/stable/user_guide/indexing.html#returning-a-view-versus-a-copy\n",
      "  breach_data_sfari['cv_group'] = pd.cut(\n"
     ]
    },
    {
     "data": {
      "image/png": "[encoded data removed]",
      "text/plain": [
       "<Figure size 216x432 with 1 Axes>"
      ]
     },
     "metadata": {
      "needs_background": "light"
     },
     "output_type": "display_data"
    }
   ],
   "source": [
    "breach_data_sfari['cv_group'] = pd.cut(\n",
    "    breach_data_sfari['cv_FXS_zscore'],\n",
    "    bins=[-float('inf'), 0, 1.25, float('inf')],\n",
    "    labels=['< 0', '>= 0 & <= 1.25', '> 1.25']\n",
    ")\n",
    "\n",
    "proportions = {'cv_group': [], 'either': [], 'neither': []}\n",
    "\n",
    "for group in breach_data_sfari['cv_group'].unique():\n",
    "    group_data = breach_data_sfari[breach_data_sfari['cv_group'] == group]\n",
    "    total = len(group_data)\n",
    "    print(total)\n",
    "    if total > 0:\n",
    "        either_count = ((group_data['gene-score'] < 3) | (group_data['syndromic'] == 1)).sum()\n",
    "        print(either_count)\n",
    "        neither_count = total - either_count\n",
    "        proportions['cv_group'].append(group)\n",
    "        proportions['either'].append(either_count / total)\n",
    "        proportions['neither'].append(neither_count / total)\n",
    "    else:\n",
    "        proportions['cv_group'].append(group)\n",
    "        proportions['either'].append(0)\n",
    "        proportions['neither'].append(0)\n",
    "\n",
    "proportions_df = pd.DataFrame(proportions)\n",
    "\n",
    "fig, ax = plt.subplots(figsize=(3, 6))\n",
    "bar_width = 0.5\n",
    "x = range(len(proportions_df))\n",
    "\n",
    "# Stack bars\n",
    "ax.bar(x, proportions_df['either'], width=bar_width, label='Either gene-score or syndromic < 3', color='orange')\n",
    "ax.bar(x, proportions_df['neither'], width=bar_width, bottom=proportions_df['either'], label='Neither', color='lightgrey')\n",
    "\n",
    "ax.set_xticks(x)\n",
    "ax.set_xticklabels([])\n",
    "ax.spines['top'].set_visible(False)\n",
    "ax.spines['right'].set_visible(False)\n",
    "plt.ylim(0, 0.4)\n",
    "plt.yticks([0, 0.5], rotation=90, fontsize=18)\n",
    "plt.tight_layout()\n",
    "\n",
    "#plt.savefig('sfari_S12.pdf', dpi=1000)\n",
    "plt.show()"
   ]
  },
  {
   "cell_type": "code",
   "execution_count": 16,
   "id": "4ce8190c-d0c9-4ad1-9918-24f66559d943",
   "metadata": {},
   "outputs": [],
   "source": [
    "random.seed('ELIO')\n",
    "filtered_df = genes_sfari[(genes_sfari['NPC_BREACH'] == False)]\n",
    "\n",
    "empirical_samples = []\n",
    "for _ in range(10000):\n",
    "    sample = filtered_df.sample(n=9, replace=False)\n",
    "    proportion = len(sample[(sample['gene-score'] < 3) | (sample['syndromic'] == 1)]) / 9\n",
    "    empirical_samples.append(proportion)\n",
    "\n",
    "high_zscore = genes_sfari[(genes_sfari['NPC_BREACH'] == True) & \n",
    "                          (genes_sfari['cv_FXS_zscore'] > 1.25)]\n",
    "high_proportion = len(high_zscore[(high_zscore['gene-score'] < 3) | (high_zscore['syndromic'] == 1)]) / len(high_zscore)"
   ]
  },
  {
   "cell_type": "code",
   "execution_count": 17,
   "id": "3f051fb7-b60b-4f56-94b6-ffcf33710a38",
   "metadata": {},
   "outputs": [
    {
     "data": {
      "image/png": "[encoded data removed]",
      "text/plain": [
       "<Figure size 504x288 with 1 Axes>"
      ]
     },
     "metadata": {
      "needs_background": "light"
     },
     "output_type": "display_data"
    },
    {
     "name": "stdout",
     "output_type": "stream",
     "text": [
      "Empirical p-value for high zscore NPC_BREACH genes: 0.0177\n"
     ]
    }
   ],
   "source": [
    "fig, ax = plt.subplots(figsize=(7, 4))\n",
    "plt.hist(empirical_samples, bins=5, color='lightblue', alpha=0.7, label='10,000 draws of non-BREACH genes')\n",
    "plt.axvline(high_proportion, color='orangered', linestyle='--', linewidth=2, label='High zscore NPC_BREACH genes')\n",
    "\n",
    "ax.spines['top'].set_visible(False)\n",
    "ax.spines['right'].set_visible(False)\n",
    "plt.yticks([0, 9000], fontsize=24)\n",
    "plt.xlim(0,0.5)\n",
    "plt.xticks([],fontsize=24)\n",
    "#plt.savefig('sfari_S12_histogram_top.pdf', dpi=1000)\n",
    "plt.show()\n",
    "\n",
    "high_pvalue = np.mean(np.array(empirical_samples) >= high_proportion)\n",
    "print(f\"Empirical p-value for high zscore NPC_BREACH genes: {high_pvalue}\")"
   ]
  },
  {
   "cell_type": "code",
   "execution_count": 18,
   "id": "620fafa4-cac6-4a40-ae5b-46fd30ecc18e",
   "metadata": {},
   "outputs": [
    {
     "name": "stderr",
     "output_type": "stream",
     "text": [
      "/var/folders/v1/3py01kc1619d4sj6bsmhx3br0000gn/T/ipykernel_58847/1201218879.py:9: UserWarning: Boolean Series key will be reindexed to match DataFrame index.\n",
      "  low_proportion = len(low_zscore[(low_zscore['gene-score'] < 3) | (high_zscore['syndromic'] == 1)]) / len(low_zscore)\n"
     ]
    }
   ],
   "source": [
    "empirical_samples = []\n",
    "for _ in range(10000):\n",
    "    sample = filtered_df.sample(n=6, replace=False)\n",
    "    proportion = len(sample[(sample['gene-score'] < 3) | (sample['syndromic'] == 1)]) / 6\n",
    "    empirical_samples.append(proportion)\n",
    "\n",
    "low_zscore = genes_sfari[(genes_sfari['NPC_BREACH'] == True) & \n",
    "                          (genes_sfari['cv_FXS_zscore'] < 0)]\n",
    "low_proportion = len(low_zscore[(low_zscore['gene-score'] < 3) | (high_zscore['syndromic'] == 1)]) / len(low_zscore)"
   ]
  },
  {
   "cell_type": "code",
   "execution_count": 19,
   "id": "8311554f-5e05-44b9-a93a-9bc518327179",
   "metadata": {},
   "outputs": [
    {
     "data": {
      "image/png": "[encoded data removed]",
      "text/plain": [
       "<Figure size 504x288 with 1 Axes>"
      ]
     },
     "metadata": {
      "needs_background": "light"
     },
     "output_type": "display_data"
    },
    {
     "name": "stdout",
     "output_type": "stream",
     "text": [
      "Empirical p-value for low zscore NPC_BREACH genes: 0.054\n"
     ]
    }
   ],
   "source": [
    "fig, ax = plt.subplots(figsize=(7, 4))\n",
    "plt.hist(empirical_samples, bins=5, color='lightblue', alpha=0.7, label='10,000 draws of non-BREACH genes')\n",
    "plt.axvline(low_proportion, color='brown', linestyle=':', linewidth=2, label='Low zscore NPC_BREACH genes, N=20')\n",
    "\n",
    "ax.spines['top'].set_visible(False)\n",
    "ax.spines['right'].set_visible(False)\n",
    "plt.yticks([0, 8000], fontsize=24)\n",
    "plt.xlim(0,0.5)\n",
    "plt.xticks([0,0.1,0.2,0.3,0.4],fontsize=24)\n",
    "#plt.savefig('sfari_S12_histogram_bottom.pdf', dpi=1000)\n",
    "plt.show()\n",
    "\n",
    "low_pvalue = np.mean(np.array(empirical_samples) >= low_proportion)\n",
    "print(f\"Empirical p-value for low zscore NPC_BREACH genes: {low_pvalue}\")"
   ]
  },
  {
   "cell_type": "code",
   "execution_count": 30,
   "id": "3dbeafe4-f9f4-4060-a5ef-b55f9ef79009",
   "metadata": {},
   "outputs": [
    {
     "data": {
      "image/png": "[encoded data removed]",
      "text/plain": [
       "<Figure size 216x288 with 1 Axes>"
      ]
     },
     "metadata": {
      "needs_background": "light"
     },
     "output_type": "display_data"
    }
   ],
   "source": [
    "data = genes_NPC_CV.query('NPC_BREACH == True')\n",
    "rho, pval = pearsonr(data['cv_FXS_zscore'], data['mean_diff'])\n",
    "\n",
    "plt.figure(figsize=(3, 4))\n",
    "sns.regplot(data=data, x='cv_FXS_zscore', y='mean_diff', scatter_kws={'linewidth': 0}, color='purple')\n",
    "plt.ylabel('')\n",
    "plt.xlabel('')\n",
    "plt.xlim(-1.5, 4)\n",
    "plt.xticks([-2,0,2,4],fontsize=12)\n",
    "plt.yticks([-50, 0, 300], fontsize=12)\n",
    "sns.despine(top=True, right=True)\n",
    "plt.text(-1.2, -30, f\"$\\\\rho$ = {rho:.2f}\\np = {pval:.2e}\", fontsize=16)\n",
    "\n",
    "#plt.savefig('CV_zscore_deltaK9me3.pdf', dpi=1000)\n",
    "plt.show()"
   ]
  },
  {
   "cell_type": "code",
   "execution_count": 51,
   "id": "0028a347-4299-4e93-b76f-2a7bc58c1fd7",
   "metadata": {},
   "outputs": [
    {
     "name": "stderr",
     "output_type": "stream",
     "text": [
      "/opt/anaconda3/lib/python3.8/site-packages/pandas/core/arraylike.py:396: RuntimeWarning: divide by zero encountered in log2\n",
      "  result = getattr(ufunc, method)(*inputs, **kwargs)\n"
     ]
    }
   ],
   "source": [
    "RNAseq = pd.read_csv('DESEQ_melted.txt', sep='\\t')\n",
    "RNAseq['FXS'] = RNAseq['Genotype'].apply(lambda x: 'FXS' if 'FXS' in x else 'NL')\n",
    "mean_signal_sums = RNAseq.groupby(['gene_name', 'FXS'])['value'].mean().reset_index()\n",
    "mean_pivot = mean_signal_sums.pivot(index='gene_name', columns='FXS', values='value').reset_index()\n",
    "mean_pivot['log2'] = np.log2(mean_pivot['FXS'] / mean_pivot['NL'])\n",
    "numeric_cols = mean_pivot.select_dtypes(include=[np.number]) \n",
    "mean_pivot_cleaned = mean_pivot[np.isfinite(numeric_cols).all(axis=1)]"
   ]
  },
  {
   "cell_type": "code",
   "execution_count": 55,
   "id": "5d3c82ba-f60d-488e-b803-d89e93d9a022",
   "metadata": {},
   "outputs": [],
   "source": [
    "mean_NL = RNAseq[RNAseq['FXS'] == 'NL'].groupby('gene_name')['value'].max()\n",
    "\n",
    "def compute_repression(row):\n",
    "    mean_nl_value = mean_NL.get(row['gene_name'], np.nan)\n",
    "    if np.isnan(mean_nl_value) or row['value'] > mean_nl_value:\n",
    "        return 0\n",
    "    return row['value'] - mean_nl_value\n",
    "\n",
    "RNAseq['reduction'] = RNAseq.apply(lambda row: compute_repression(row) if row['FXS'] == 'FXS' else np.nan, axis=1)\n",
    "\n",
    "reduction_stats = RNAseq[RNAseq['FXS'] == 'FXS'].groupby('gene_name')['reduction'].agg(\n",
    "    reduction_stdev='std',\n",
    ").reset_index()\n",
    "\n",
    "NPC_H3K9me3_RNA = genes_NPC_CV.merge(\n",
    "    mean_pivot.merge(reduction_stats, on='gene_name', how='left'),\n",
    "    left_on='gene', right_on='gene_name', \n",
    "    how='right', suffixes=('_H3K9me3', '_RNA')\n",
    ")"
   ]
  },
  {
   "cell_type": "code",
   "execution_count": 56,
   "id": "2b72994f-e7e7-4031-ad39-c6cbe87c6360",
   "metadata": {},
   "outputs": [
    {
     "data": {
      "image/png": "[encoded data removed]",
      "text/plain": [
       "<Figure size 216x288 with 1 Axes>"
      ]
     },
     "metadata": {
      "needs_background": "light"
     },
     "output_type": "display_data"
    }
   ],
   "source": [
    "data = NPC_H3K9me3_RNA.query('NPC_BREACH == True')\n",
    "rho, pval = pearsonr(data['cv_FXS_zscore'], data['reduction_stdev'])\n",
    "plt.figure(figsize=(3, 4))\n",
    "sns.regplot(data=data, x='cv_FXS_zscore', y='reduction_stdev', scatter_kws={'linewidth': 0}, color='purple')\n",
    "plt.ylabel('')\n",
    "plt.xlabel('')\n",
    "plt.xlim(-1.5, 4)\n",
    "plt.xticks([-2,0,2,4],fontsize=12)\n",
    "plt.yticks([-50,400], fontsize=12)\n",
    "#plt.ylim(-1, 0)\n",
    "sns.despine(top=True, right=True)\n",
    "\n",
    "plt.text(-1.5, 320, f\"$\\\\rho$ = {rho:.2f}\\np = {pval:.2e}\", fontsize=16)\n",
    "#plt.savefig('CV_zscore_mRNA_reduction.pdf', dpi=1000)\n",
    "plt.show()"
   ]
  },
  {
   "cell_type": "code",
   "execution_count": 58,
   "id": "7abede1d-5072-4cdd-bdbf-520ad56be4cb",
   "metadata": {},
   "outputs": [],
   "source": [
    "RNAseq = RNAseq.rename(columns={'gene_name': 'gene', 'Genotype': 'genotype'})\n",
    "RNAseq_avg = RNAseq.groupby(['gene', 'genotype'])['value'].mean().reset_index()\n",
    "iPSC_NPC_H3K9me3_2_10 = pd.read_csv('./NPC_H3K9me3_gene_signal_summation.txt', sep ='\\t', index_col=False)\n",
    "NPC_RNA_H3K9me3 = RNAseq_avg.merge(iPSC_NPC_H3K9me3_2_10, on=['gene', 'genotype'])"
   ]
  },
  {
   "cell_type": "code",
   "execution_count": 59,
   "id": "ed3be625-8634-4da1-b241-cf55231c727d",
   "metadata": {},
   "outputs": [
    {
     "data": {
      "image/png": "[encoded data removed]",
      "text/plain": [
       "<Figure size 324x288 with 1 Axes>"
      ]
     },
     "metadata": {},
     "output_type": "display_data"
    }
   ],
   "source": [
    "plt.figure(figsize=(4.5, 4))\n",
    "s=sns.swarmplot(data=RNAseq.query(\"gene == 'STXBP6'\"),\n",
    "    x='genotype', y='value', hue='genotype', \n",
    "                palette=my_colors, \n",
    "                order=my_order,\n",
    "                size=12)\n",
    "s.set(title='')\n",
    "s.set(xlabel=None) \n",
    "s.set(ylabel=None)\n",
    "s.set_xticks([])\n",
    "s.spines['top'].set_visible(False)\n",
    "s.spines['right'].set_visible(False)\n",
    "plt.ylim(0, 1800)\n",
    "plt.yticks([], fontsize=20)\n",
    "#s.figure.savefig('NPC_RNAseq_STXBP6.pdf',dpi=1000)\n",
    "plt.show()"
   ]
  },
  {
   "cell_type": "code",
   "execution_count": 60,
   "id": "aa3273b9-05e7-40d1-912f-601c702738da",
   "metadata": {},
   "outputs": [
    {
     "data": {
      "image/png": "[encoded data removed]",
      "text/plain": [
       "<Figure size 324x288 with 1 Axes>"
      ]
     },
     "metadata": {},
     "output_type": "display_data"
    }
   ],
   "source": [
    "plt.figure(figsize=(4.5, 4))\n",
    "s=sns.swarmplot(data=RNAseq.query(\"gene == 'TCERG1L'\"),\n",
    "    x='genotype', y='value', hue='genotype', \n",
    "                palette=my_colors, \n",
    "                order=my_order,\n",
    "                size=12)\n",
    "s.set(title='')\n",
    "s.set(xlabel=None) \n",
    "s.set(ylabel=None)\n",
    "s.set_xticks([])\n",
    "s.spines['top'].set_visible(False)\n",
    "s.spines['right'].set_visible(False)\n",
    "plt.ylim(0, 80)\n",
    "plt.yticks([], fontsize=20)\n",
    "#s.figure.savefig('NPC_RNAseq_TCERG1L.pdf',dpi=1000)\n",
    "plt.show()"
   ]
  },
  {
   "cell_type": "code",
   "execution_count": 61,
   "id": "877c63c2-ac9d-44ba-90f8-bb8b3e18d43a",
   "metadata": {},
   "outputs": [
    {
     "data": {
      "image/png": "[encoded data removed]",
      "text/plain": [
       "<Figure size 216x432 with 1 Axes>"
      ]
     },
     "metadata": {
      "needs_background": "light"
     },
     "output_type": "display_data"
    }
   ],
   "source": [
    "plt.figure(figsize=(3, 6))\n",
    "gene_ids = ['TCERG1L']\n",
    "filtered_df = NPC_RNA_H3K9me3.query(\"gene in @gene_ids\")\n",
    "s=sns.scatterplot(data=filtered_df,\n",
    "    hue='genotype', x='signal_sum', y='value',\n",
    "                  palette=my_colors,s=150, legend=False)\n",
    "\n",
    "\n",
    "\n",
    "plt.xlim(0,450)\n",
    "plt.xticks([0,450], fontsize=16)\n",
    "plt.ylim(-2,80)\n",
    "plt.yticks([0,80], fontsize=16)\n",
    "plt.ylabel('')\n",
    "plt.xlabel('')\n",
    "s.spines['top'].set_visible(False)\n",
    "s.spines['right'].set_visible(False)\n",
    "#plt.savefig('TCERG1L_RNA_K9me3.pdf', dpi=1000)\n",
    "plt.show()"
   ]
  },
  {
   "cell_type": "code",
   "execution_count": 21,
   "id": "49c61898-46c6-4357-b134-4825af5c35ea",
   "metadata": {},
   "outputs": [
    {
     "data": {
      "image/png": "[encoded data removed]",
      "text/plain": [
       "<Figure size 216x432 with 1 Axes>"
      ]
     },
     "metadata": {
      "needs_background": "light"
     },
     "output_type": "display_data"
    }
   ],
   "source": [
    "plt.figure(figsize=(3, 6))\n",
    "gene_ids = ['STXBP6']\n",
    "filtered_df = NPC_RNA_H3K9me3.query(\"gene in @gene_ids\")\n",
    "s=sns.scatterplot(data=filtered_df,\n",
    "    hue='genotype', x='signal_sum', y='value',\n",
    "                  palette=my_colors,s=150, legend=False)\n",
    "\n",
    "\n",
    "plt.xlim(0,200)\n",
    "plt.xticks([0,200], fontsize=16)\n",
    "plt.ylim(0,1800)\n",
    "plt.yticks([0,1800], fontsize=16)\n",
    "plt.ylabel('')\n",
    "plt.xlabel('')\n",
    "s.spines['top'].set_visible(False)\n",
    "s.spines['right'].set_visible(False)\n",
    "#plt.savefig('STXBP6_RNA_K9me3.pdf', dpi=1000)\n",
    "plt.show()"
   ]
  },
  {
   "cell_type": "code",
   "execution_count": 62,
   "id": "87274a88-2038-4c55-af89-5c3f2c8bf321",
   "metadata": {},
   "outputs": [
    {
     "data": {
      "image/png": "[encoded data removed]",
      "text/plain": [
       "<Figure size 360x360 with 1 Axes>"
      ]
     },
     "metadata": {
      "needs_background": "light"
     },
     "output_type": "display_data"
    }
   ],
   "source": [
    "plt.figure(figsize=(5, 5))\n",
    "s=sns.swarmplot(data=RNAseq.query(\"gene == 'FMR1'\"),\n",
    "    x='genotype', y='value', hue='genotype', \n",
    "                palette=my_colors, \n",
    "                order=my_order,\n",
    "                size=12)\n",
    "s.set(title='')\n",
    "s.set(xlabel=None) \n",
    "s.set(ylabel=None)\n",
    "s.set_xticks([])\n",
    "s.spines['top'].set_visible(False)\n",
    "s.spines['right'].set_visible(False)\n",
    "plt.ylim(-10, 2000)\n",
    "plt.yticks([0, 2000], fontsize=16)\n",
    "#s.figure.savefig('NPC_RNAseq_FMR1.pdf',dpi=1000)\n",
    "plt.show()"
   ]
  },
  {
   "cell_type": "code",
   "execution_count": 63,
   "id": "98f38b24-94fa-4ff7-b8ce-19df371df9bf",
   "metadata": {},
   "outputs": [
    {
     "data": {
      "image/png": "[encoded data removed]",
      "text/plain": [
       "<Figure size 252x288 with 1 Axes>"
      ]
     },
     "metadata": {
      "needs_background": "light"
     },
     "output_type": "display_data"
    }
   ],
   "source": [
    "plt.figure(figsize=(3.5, 4))\n",
    "gene_ids = ['FMR1']\n",
    "filtered_df = NPC_RNA_H3K9me3.query(\"gene in @gene_ids\")\n",
    "s=sns.scatterplot(data=filtered_df,\n",
    "    hue='genotype', x='signal_sum', y='value',\n",
    "                  palette=my_colors,s=150, legend=False)\n",
    "\n",
    "\n",
    "plt.xlim(0,300)\n",
    "plt.xticks([0,300], fontsize=12)\n",
    "plt.ylim(0,1800)\n",
    "plt.yticks([0,1800], fontsize=12)\n",
    "plt.ylabel('')\n",
    "plt.xlabel('')\n",
    "s.spines['top'].set_visible(False)\n",
    "s.spines['right'].set_visible(False)\n",
    "#plt.savefig('FMR1_RNA_K9me3.pdf', dpi=1000)\n",
    "plt.show()"
   ]
  },
  {
   "cell_type": "code",
   "execution_count": 64,
   "id": "1322b5fa-2ff5-4f5a-9500-4d2e8aee4771",
   "metadata": {},
   "outputs": [
    {
     "data": {
      "image/png": "[encoded data removed]",
      "text/plain": [
       "<Figure size 252x432 with 1 Axes>"
      ]
     },
     "metadata": {},
     "output_type": "display_data"
    }
   ],
   "source": [
    "plt.figure(figsize=(3.5, 6))\n",
    "s=sns.swarmplot(data=RNAseq.query(\"gene == 'SLITRK4'\").query(\"not genotype.str.startswith('NL')\"),\n",
    "    x='genotype', y='value', hue='genotype', \n",
    "                palette=my_colors,\n",
    "                size=15)\n",
    "s.set(title='')\n",
    "s.set(xlabel=None) \n",
    "s.set(ylabel=None)\n",
    "s.set_xticks([])\n",
    "plt.ylim(-10, 1100)\n",
    "s.set_yticks([])\n",
    "s.spines['top'].set_visible(False)\n",
    "s.spines['right'].set_visible(False)\n",
    "#s.figure.savefig('FXS_iPSC-NPC_RNAseq_SLITRK4.pdf',dpi=1000)\n",
    "plt.show()"
   ]
  },
  {
   "cell_type": "code",
   "execution_count": 65,
   "id": "5d05cf22-a710-4777-95d8-e238022f2e7d",
   "metadata": {},
   "outputs": [
    {
     "data": {
      "image/png": "[encoded data removed]",
      "text/plain": [
       "<Figure size 252x432 with 1 Axes>"
      ]
     },
     "metadata": {},
     "output_type": "display_data"
    }
   ],
   "source": [
    "plt.figure(figsize=(3.5, 6))\n",
    "s=sns.swarmplot(data=RNAseq.query(\"gene == 'SLITRK2'\").query(\"not genotype.str.startswith('NL')\"),\n",
    "    x='genotype', y='value', hue='genotype', \n",
    "                palette=my_colors,\n",
    "                size=15)\n",
    "s.set(title='')\n",
    "s.set(xlabel=None) \n",
    "s.set(ylabel=None)\n",
    "s.set_xticks([])\n",
    "plt.ylim(0, 120)\n",
    "s.set_yticks([])\n",
    "s.spines['top'].set_visible(False)\n",
    "s.spines['right'].set_visible(False)\n",
    "#s.figure.savefig('FXS_iPSC-NPC_RNAseq_SLITRK2.pdf',dpi=1000)\n",
    "plt.show()"
   ]
  },
  {
   "cell_type": "code",
   "execution_count": 66,
   "id": "7c3b124a-aadf-47dd-b76f-f0014d3fcfbb",
   "metadata": {},
   "outputs": [
    {
     "name": "stdout",
     "output_type": "stream",
     "text": [
      "-0.8229917092504975\n"
     ]
    },
    {
     "data": {
      "image/png": "[encoded data removed]",
      "text/plain": [
       "<Figure size 288x360 with 1 Axes>"
      ]
     },
     "metadata": {},
     "output_type": "display_data"
    }
   ],
   "source": [
    "plt.figure(figsize=(4, 5))\n",
    "gene_ids = ['SLITRK2']\n",
    "filtered_df = NPC_RNA_H3K9me3.query(\"gene in @gene_ids\").query(\"not genotype.str.startswith('NL')\")\n",
    "s=sns.scatterplot(data=filtered_df,\n",
    "    hue='genotype', x='signal_sum', y='value',\n",
    "                  palette=my_colors,s=200, legend=False)\n",
    "\n",
    "\n",
    "plt.xlim(0,300)\n",
    "plt.xticks([])\n",
    "plt.ylim(0,120)\n",
    "plt.yticks([])\n",
    "plt.ylabel('')\n",
    "plt.xlabel('')\n",
    "s.spines['top'].set_visible(False)\n",
    "s.spines['right'].set_visible(False)\n",
    "rho, pval = pearsonr(filtered_df['signal_sum'], filtered_df['value'])\n",
    "print(rho)\n",
    "#plt.savefig('SLITRK2_RNA_K9me3.pdf', dpi=1000)\n",
    "plt.show()"
   ]
  },
  {
   "cell_type": "code",
   "execution_count": 32,
   "id": "18c42c7f-6764-4bc5-95e9-927ada4ec24f",
   "metadata": {},
   "outputs": [
    {
     "name": "stdout",
     "output_type": "stream",
     "text": [
      "-0.8799716200879896\n"
     ]
    },
    {
     "data": {
      "image/png": "[encoded data removed]",
      "text/plain": [
       "<Figure size 288x360 with 1 Axes>"
      ]
     },
     "metadata": {},
     "output_type": "display_data"
    }
   ],
   "source": [
    "plt.figure(figsize=(4, 5))\n",
    "gene_ids = ['SLITRK4']\n",
    "filtered_df = NPC_RNA_H3K9me3.query(\"gene in @gene_ids\").query(\"not genotype.str.startswith('NL')\")\n",
    "s=sns.scatterplot(data=filtered_df,\n",
    "    hue='genotype', x='signal_sum', y='value',\n",
    "                  palette=my_colors,s=200, legend=False)\n",
    "\n",
    "\n",
    "plt.xlim(0,200)\n",
    "plt.xticks([])\n",
    "plt.ylim(0,1100)\n",
    "plt.yticks([])\n",
    "plt.ylabel('')\n",
    "plt.xlabel('')\n",
    "s.spines['top'].set_visible(False)\n",
    "s.spines['right'].set_visible(False)\n",
    "rho, pval = pearsonr(filtered_df['signal_sum'], filtered_df['value'])\n",
    "print(rho)\n",
    "#plt.savefig('SLITRK4_RNA_K9me3.pdf', dpi=1000)\n",
    "plt.show()"
   ]
  },
  {
   "cell_type": "code",
   "execution_count": 67,
   "id": "8584665a-3f5c-463d-95e3-96cfc4c84af3",
   "metadata": {},
   "outputs": [
    {
     "data": {
      "image/png": "[encoded data removed]",
      "text/plain": [
       "<Figure size 324x288 with 1 Axes>"
      ]
     },
     "metadata": {
      "needs_background": "light"
     },
     "output_type": "display_data"
    }
   ],
   "source": [
    "plt.figure(figsize=(4.5, 4))\n",
    "s=sns.swarmplot(data=RNAseq.query(\"gene == 'SLITRK4'\"),\n",
    "    x='genotype', y='value', hue='genotype', \n",
    "                palette=my_colors, \n",
    "                order=my_order,\n",
    "                size=12)\n",
    "s.set(title='')\n",
    "s.set(xlabel=None) \n",
    "s.set(ylabel=None)\n",
    "s.set_xticks([])\n",
    "s.spines['top'].set_visible(False)\n",
    "s.spines['right'].set_visible(False)\n",
    "plt.ylim(0, 1300)\n",
    "plt.yticks([0,1300], fontsize=16)\n",
    "#s.figure.savefig('NPC_RNAseq_SLITRK4.pdf',dpi=1000)\n",
    "plt.show()"
   ]
  },
  {
   "cell_type": "code",
   "execution_count": 68,
   "id": "fa18dd9e-bdf2-448e-aaca-fac3b6b90458",
   "metadata": {},
   "outputs": [
    {
     "data": {
      "image/png": "[encoded data removed]",
      "text/plain": [
       "<Figure size 324x288 with 1 Axes>"
      ]
     },
     "metadata": {
      "needs_background": "light"
     },
     "output_type": "display_data"
    }
   ],
   "source": [
    "plt.figure(figsize=(4.5, 4))\n",
    "s=sns.swarmplot(data=RNAseq.query(\"gene == 'SLITRK2'\"),\n",
    "    x='genotype', y='value', hue='genotype', \n",
    "                palette=my_colors, \n",
    "                order=my_order,\n",
    "                size=12)\n",
    "s.set(title='')\n",
    "s.set(xlabel=None) \n",
    "s.set(ylabel=None)\n",
    "s.set_xticks([])\n",
    "s.spines['top'].set_visible(False)\n",
    "s.spines['right'].set_visible(False)\n",
    "plt.ylim(0, 180)\n",
    "plt.yticks([0,180], fontsize=16)\n",
    "#s.figure.savefig('NPC_RNAseq_SLITRK2.pdf',dpi=1000)\n",
    "plt.show()"
   ]
  },
  {
   "cell_type": "code",
   "execution_count": 69,
   "id": "d0b48f82-8b72-44d1-99fb-94c43e443f89",
   "metadata": {},
   "outputs": [
    {
     "data": {
      "image/png": "[encoded data removed]",
      "text/plain": [
       "<Figure size 259.2x216 with 1 Axes>"
      ]
     },
     "metadata": {
      "needs_background": "light"
     },
     "output_type": "display_data"
    }
   ],
   "source": [
    "plt.figure(figsize=(3.6, 3))\n",
    "gene_ids = ['SLITRK2']\n",
    "filtered_df = NPC_RNA_H3K9me3.query(\"gene in @gene_ids\")\n",
    "s=sns.scatterplot(data=filtered_df,\n",
    "    hue='genotype', x='signal_sum', y='value',\n",
    "                  palette=my_colors,s=150, legend=False)\n",
    "\n",
    "\n",
    "plt.xlim(0,300)\n",
    "plt.xticks([0,300], fontsize=12)\n",
    "plt.ylim(0,180)\n",
    "plt.yticks([0,180], fontsize=12)\n",
    "plt.ylabel('')\n",
    "plt.xlabel('')\n",
    "s.spines['top'].set_visible(False)\n",
    "s.spines['right'].set_visible(False)\n",
    "#plt.savefig('SLITRK2_RNA_K9me3_NL.pdf', dpi=1000)\n",
    "plt.show()"
   ]
  },
  {
   "cell_type": "code",
   "execution_count": 70,
   "id": "0104d27d-7d34-4a3c-9081-ba983703325a",
   "metadata": {},
   "outputs": [
    {
     "data": {
      "image/png": "[encoded data removed]",
      "text/plain": [
       "<Figure size 259.2x216 with 1 Axes>"
      ]
     },
     "metadata": {
      "needs_background": "light"
     },
     "output_type": "display_data"
    }
   ],
   "source": [
    "plt.figure(figsize=(3.6, 3))\n",
    "gene_ids = ['SLITRK4']\n",
    "filtered_df = NPC_RNA_H3K9me3.query(\"gene in @gene_ids\")\n",
    "s=sns.scatterplot(data=filtered_df,\n",
    "    hue='genotype', x='signal_sum', y='value',\n",
    "                  palette=my_colors,s=150, legend=False)\n",
    "\n",
    "\n",
    "plt.xlim(0,200)\n",
    "plt.xticks([0,200], fontsize=12)\n",
    "plt.ylim(0,1300)\n",
    "plt.yticks([0,1300], fontsize=12)\n",
    "plt.ylabel('')\n",
    "plt.xlabel('')\n",
    "s.spines['top'].set_visible(False)\n",
    "s.spines['right'].set_visible(False)\n",
    "#plt.savefig('SLITRK4_RNA_K9me3_NL.pdf', dpi=1000)\n",
    "plt.show()"
   ]
  }
 ],
 "metadata": {
  "kernelspec": {
   "display_name": "Python 3 (ipykernel)",
   "language": "python",
   "name": "python3"
  },
  "language_info": {
   "codemirror_mode": {
    "name": "ipython",
    "version": 3
   },
   "file_extension": ".py",
   "mimetype": "text/x-python",
   "name": "python",
   "nbconvert_exporter": "python",
   "pygments_lexer": "ipython3",
   "version": "3.8.8"
  }
 },
 "nbformat": 4,
 "nbformat_minor": 5
}
