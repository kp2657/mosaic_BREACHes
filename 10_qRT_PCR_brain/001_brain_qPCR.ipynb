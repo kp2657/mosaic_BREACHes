{
 "cells": [
  {
   "cell_type": "code",
   "execution_count": 2,
   "id": "c5b9ad81",
   "metadata": {},
   "outputs": [],
   "source": [
    "import matplotlib.pyplot as plt\n",
    "import numpy as np\n",
    "import pandas as pd\n",
    "import seaborn as sns\n",
    "from matplotlib.patches import Patch"
   ]
  },
  {
   "cell_type": "code",
   "execution_count": 11,
   "id": "baee30d2",
   "metadata": {},
   "outputs": [],
   "source": [
    "plt.rcParams['pdf.fonttype'] = 42\n",
    "plt.rcParams['ps.fonttype'] = 42\n",
    "plt.rcParams['font.family'] = 'Helvetica'"
   ]
  },
  {
   "cell_type": "code",
   "execution_count": 26,
   "id": "9d1a9c6e",
   "metadata": {},
   "outputs": [],
   "source": [
    "qPCR = pd.read_csv('2025_06_27_qPCR_brain.csv')"
   ]
  },
  {
   "cell_type": "code",
   "execution_count": 30,
   "id": "cb4e1d6c",
   "metadata": {},
   "outputs": [
    {
     "data": {
      "image/png": "[encoded data removed]",
      "text/plain": [
       "<Figure size 342x432 with 1 Axes>"
      ]
     },
     "metadata": {
      "needs_background": "light"
     },
     "output_type": "display_data"
    }
   ],
   "source": [
    "plt.figure(figsize=(4.75, 6))\n",
    "order = ['NTC','5533', '5319', '5476', '5006', '6131']\n",
    "s = sns.swarmplot(data=qPCR,\n",
    "    x=\"Sample\", y=\"FMR1/GAPDH\", \n",
    "              color='k', size=6, order=order)\n",
    "sns.barplot(data=qPCR,\n",
    "    x=\"Sample\", y=\"FMR1/GAPDH\", errorbar=None,\n",
    "            legend='brief', color='cornflowerblue', order=order)\n",
    "s.set(xlabel=None) \n",
    "s.set(ylabel=None)\n",
    "s.set_xticks([]) \n",
    "plt.yticks([0, 0.01], fontsize=18)\n",
    "s.spines['top'].set_visible(False)\n",
    "s.spines['right'].set_visible(False)\n",
    "plt.ylim(0,0.01)\n",
    "plt.savefig('./brain_FMR1_GAPDH.png', dpi=1000)\n",
    "plt.savefig('./brain_FMR1_GAPDH.svg', dpi=1000)"
   ]
  },
  {
   "cell_type": "code",
   "execution_count": null,
   "id": "29470bd5",
   "metadata": {},
   "outputs": [],
   "source": []
  }
 ],
 "metadata": {
  "kernelspec": {
   "display_name": "base",
   "language": "python",
   "name": "python3"
  },
  "language_info": {
   "codemirror_mode": {
    "name": "ipython",
    "version": 3
   },
   "file_extension": ".py",
   "mimetype": "text/x-python",
   "name": "python",
   "nbconvert_exporter": "python",
   "pygments_lexer": "ipython3",
   "version": "3.8.8"
  }
 },
 "nbformat": 4,
 "nbformat_minor": 5
}
