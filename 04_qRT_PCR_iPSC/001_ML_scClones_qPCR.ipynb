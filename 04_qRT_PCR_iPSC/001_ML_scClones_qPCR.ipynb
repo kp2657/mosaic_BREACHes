{
 "cells": [
  {
   "cell_type": "code",
   "execution_count": 1,
   "id": "c5b9ad81",
   "metadata": {},
   "outputs": [],
   "source": [
    "import matplotlib.pyplot as plt\n",
    "import numpy as np\n",
    "import pandas as pd\n",
    "import seaborn as sns\n",
    "from matplotlib.patches import Patch\n",
    "from scipy.stats import pearsonr"
   ]
  },
  {
   "cell_type": "code",
   "execution_count": 2,
   "id": "9d1a9c6e",
   "metadata": {},
   "outputs": [],
   "source": [
    "qPCR = pd.read_csv('2024_05_01_qPCR_replicates.csv')"
   ]
  },
  {
   "cell_type": "code",
   "execution_count": 3,
   "id": "cd7e8052",
   "metadata": {},
   "outputs": [],
   "source": [
    "my_colors = {'ML_scClone1': 'yellowgreen', \n",
    "             'ML_scClone2': 'olivedrab',\n",
    "             'ML_scClone3':'seagreen',\n",
    "             'ML_scClone4': 'mediumseagreen', \n",
    "             'ML_scClone5': 'forestgreen',\n",
    "             'ML_scClone6':'limegreen',\n",
    "             'ML_scClone7':'palegreen'}"
   ]
  },
  {
   "cell_type": "code",
   "execution_count": 4,
   "id": "cb4e1d6c",
   "metadata": {},
   "outputs": [
    {
     "name": "stderr",
     "output_type": "stream",
     "text": [
      "/var/folders/v1/3py01kc1619d4sj6bsmhx3br0000gn/T/ipykernel_57094/1039904596.py:5: FutureWarning: \n",
      "\n",
      "Passing `palette` without assigning `hue` is deprecated and will be removed in v0.14.0. Assign the `x` variable to `hue` and set `legend=False` for the same effect.\n",
      "\n",
      "  sns.barplot(data=qPCR,\n"
     ]
    },
    {
     "data": {
      "text/plain": [
       "(0.0, 0.1)"
      ]
     },
     "execution_count": 4,
     "metadata": {},
     "output_type": "execute_result"
    },
    {
     "data": {
      "image/png": "[encoded data removed]",
      "text/plain": [
       "<Figure size 360x432 with 1 Axes>"
      ]
     },
     "metadata": {},
     "output_type": "display_data"
    }
   ],
   "source": [
    "plt.figure(figsize=(5, 6))\n",
    "s = sns.swarmplot(data=qPCR,\n",
    "    x=\"Sample\", y=\"SLITRK4/GAPDH\", \n",
    "              color='black', size=6)\n",
    "sns.barplot(data=qPCR,\n",
    "    x=\"Sample\", y=\"SLITRK4/GAPDH\",\n",
    "            palette=my_colors, errorbar=None,\n",
    "            legend='brief',\n",
    "            alpha=0.85)\n",
    "s.set(xlabel=None) \n",
    "s.set(ylabel=None)\n",
    "s.set_xticks([]) \n",
    "s.set_yticks([])\n",
    "s.spines['top'].set_visible(False)\n",
    "s.spines['right'].set_visible(False)\n",
    "plt.ylim(0,0.1)\n",
    "#plt.savefig('./SLITRK4_GAPDH.pdf', dpi=1000)"
   ]
  },
  {
   "cell_type": "code",
   "execution_count": 5,
   "id": "92b0e613",
   "metadata": {},
   "outputs": [
    {
     "name": "stderr",
     "output_type": "stream",
     "text": [
      "/var/folders/v1/3py01kc1619d4sj6bsmhx3br0000gn/T/ipykernel_57094/593369498.py:6: FutureWarning: \n",
      "\n",
      "Passing `palette` without assigning `hue` is deprecated and will be removed in v0.14.0. Assign the `x` variable to `hue` and set `legend=False` for the same effect.\n",
      "\n",
      "  sns.barplot(data=qPCR,\n"
     ]
    },
    {
     "data": {
      "text/plain": [
       "(0.0, 0.004)"
      ]
     },
     "execution_count": 5,
     "metadata": {},
     "output_type": "execute_result"
    },
    {
     "data": {
      "image/png": "[encoded data removed]",
      "text/plain": [
       "<Figure size 360x432 with 1 Axes>"
      ]
     },
     "metadata": {},
     "output_type": "display_data"
    }
   ],
   "source": [
    "plt.figure(figsize=(5, 6))\n",
    "s = sns.swarmplot(data=qPCR,\n",
    "    x=\"Sample\", y=\"SLITRK2/GAPDH\", \n",
    "              color='black', \n",
    "                  size=6)\n",
    "sns.barplot(data=qPCR,\n",
    "    x=\"Sample\", y=\"SLITRK2/GAPDH\",\n",
    "            palette=my_colors, errorbar=None,\n",
    "            legend='brief',\n",
    "            #alpha=0.80\n",
    "           )\n",
    "s.set(xlabel=None) \n",
    "s.set(ylabel=None)\n",
    "s.set_xticks([]) \n",
    "s.set_yticks([0, .1])\n",
    "#s.set_yscale('log')\n",
    "s.spines['top'].set_visible(False)\n",
    "s.spines['right'].set_visible(False)\n",
    "s.set_yticks([]) \n",
    "plt.ylim(0,0.004)\n",
    "#plt.savefig('./SLITRK2_GAPDH.pdf', dpi=1000)"
   ]
  },
  {
   "cell_type": "code",
   "execution_count": 6,
   "id": "5761498a-109e-4ecd-87d7-21187e28aef3",
   "metadata": {},
   "outputs": [],
   "source": [
    "qPCR_H3K9me3_df = pd.read_csv('qPCR_H3K9me3.csv')"
   ]
  },
  {
   "cell_type": "code",
   "execution_count": 7,
   "id": "a3764485-8737-48ca-85dc-8f380fbc8b99",
   "metadata": {},
   "outputs": [
    {
     "name": "stdout",
     "output_type": "stream",
     "text": [
      "ρ =-0.60\n"
     ]
    },
    {
     "data": {
      "image/png": "[encoded data removed]",
      "text/plain": [
       "<Figure size 432x360 with 1 Axes>"
      ]
     },
     "metadata": {},
     "output_type": "display_data"
    }
   ],
   "source": [
    "plt.figure(figsize=(6,5))\n",
    "s=sns.scatterplot(data=qPCR_H3K9me3_df,\n",
    "    hue='Sample', x='SLITRK4', y='SLITRK4/GAPDH',\n",
    "                  palette=my_colors,s=300, legend=False)\n",
    "pearson_corr, _ = pearsonr(qPCR_H3K9me3_df['SLITRK4'], qPCR_H3K9me3_df['SLITRK4/GAPDH'])\n",
    "print(f'ρ ={pearson_corr:.2f}')\n",
    "\n",
    "plt.ylim(0,0.1)\n",
    "plt.xlim(0,200000)\n",
    "\n",
    "s.set(xlabel=None)\n",
    "s.set(ylabel=None)\n",
    "s.spines['top'].set_visible(False)\n",
    "s.spines['right'].set_visible(False)\n",
    "plt.xticks([])\n",
    "plt.yticks([])\n",
    "#s.figure.savefig('ML_scClone_K9me3_RNA_SLITRK4.pdf',dpi=1000)\n",
    "plt.show()"
   ]
  },
  {
   "cell_type": "code",
   "execution_count": 8,
   "id": "6b68f371-d001-4ac5-ab30-009612e45934",
   "metadata": {},
   "outputs": [
    {
     "name": "stdout",
     "output_type": "stream",
     "text": [
      "ρ =-0.70\n"
     ]
    },
    {
     "data": {
      "image/png": "[encoded data removed]",
      "text/plain": [
       "<Figure size 432x360 with 1 Axes>"
      ]
     },
     "metadata": {},
     "output_type": "display_data"
    }
   ],
   "source": [
    "plt.figure(figsize=(6,5))\n",
    "s=sns.scatterplot(data=qPCR_H3K9me3_df,\n",
    "    hue='Sample', x='SLITRK2', y='SLITRK2/GAPDH',\n",
    "                  palette=my_colors,s=300, legend=False)\n",
    "pearson_corr, _ = pearsonr(qPCR_H3K9me3_df['SLITRK2'], qPCR_H3K9me3_df['SLITRK2/GAPDH'])\n",
    "print(f'ρ ={pearson_corr:.2f}')\n",
    "\n",
    "s.set(xlabel=None)\n",
    "s.set(ylabel=None)\n",
    "s.spines['top'].set_visible(False)\n",
    "s.spines['right'].set_visible(False)\n",
    "plt.xticks([])\n",
    "plt.yticks([])\n",
    "\n",
    "plt.ylim(0,0.004)\n",
    "plt.xlim(-10000,250000)\n",
    "#s.figure.savefig('ML_scClone_K9me3_RNA_SLITRK2.pdf',dpi=1000)\n",
    "plt.show()"
   ]
  }
 ],
 "metadata": {
  "kernelspec": {
   "display_name": "Python 3 (ipykernel)",
   "language": "python",
   "name": "python3"
  },
  "language_info": {
   "codemirror_mode": {
    "name": "ipython",
    "version": 3
   },
   "file_extension": ".py",
   "mimetype": "text/x-python",
   "name": "python",
   "nbconvert_exporter": "python",
   "pygments_lexer": "ipython3",
   "version": "3.8.8"
  }
 },
 "nbformat": 4,
 "nbformat_minor": 5
}
