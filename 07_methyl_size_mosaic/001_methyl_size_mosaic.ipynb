{
 "cells": [
  {
   "cell_type": "code",
   "execution_count": 1,
   "id": "10c7da62",
   "metadata": {
    "executionInfo": {
     "elapsed": 2012,
     "status": "ok",
     "timestamp": 1705427918456,
     "user": {
      "displayName": "Kenneth Pham",
      "userId": "16924202224199989267"
     },
     "user_tz": 300
    },
    "id": "10c7da62"
   },
   "outputs": [],
   "source": [
    "import pandas as pd\n",
    "import matplotlib.pyplot as plt\n",
    "import seaborn as sns\n",
    "import os\n",
    "import numpy as np\n",
    "from scipy.stats import ttest_ind\n",
    "plt.rcParams['pdf.fonttype'] = 42\n",
    "plt.rcParams['ps.fonttype'] = 42\n",
    "plt.rcParams['font.family'] = 'Helvetica'"
   ]
  },
  {
   "cell_type": "code",
   "execution_count": 3,
   "id": "09591752-28ef-4c9c-8056-73dc1fbed3ab",
   "metadata": {},
   "outputs": [
    {
     "name": "stderr",
     "output_type": "stream",
     "text": [
      "/var/folders/v1/3py01kc1619d4sj6bsmhx3br0000gn/T/ipykernel_57195/2855764205.py:12: SettingWithCopyWarning: \n",
      "A value is trying to be set on a copy of a slice from a DataFrame.\n",
      "Try using .loc[row_indexer,col_indexer] = value instead\n",
      "\n",
      "See the caveats in the documentation: https://pandas.pydata.org/pandas-docs/stable/user_guide/indexing.html#returning-a-view-versus-a-copy\n",
      "  phenotype_methylation['methylation_mosaicism'] = phenotype['MPCR Methylation'].apply(lambda x: False if str(x).strip() in ['100% FM', '>200 100% FM'] else True)\n",
      "/var/folders/v1/3py01kc1619d4sj6bsmhx3br0000gn/T/ipykernel_57195/2855764205.py:13: SettingWithCopyWarning: \n",
      "A value is trying to be set on a copy of a slice from a DataFrame.\n",
      "Try using .loc[row_indexer,col_indexer] = value instead\n",
      "\n",
      "See the caveats in the documentation: https://pandas.pydata.org/pandas-docs/stable/user_guide/indexing.html#returning-a-view-versus-a-copy\n",
      "  phenotype_methylation['mosaicism'] = phenotype_methylation['methylation_mosaicism'] + phenotype_methylation['size_mosaicism']\n",
      "/var/folders/v1/3py01kc1619d4sj6bsmhx3br0000gn/T/ipykernel_57195/2855764205.py:15: SettingWithCopyWarning: \n",
      "A value is trying to be set on a copy of a slice from a DataFrame.\n",
      "Try using .loc[row_indexer,col_indexer] = value instead\n",
      "\n",
      "See the caveats in the documentation: https://pandas.pydata.org/pandas-docs/stable/user_guide/indexing.html#returning-a-view-versus-a-copy\n",
      "  phenotype_methylation['methylation_mosaicism'] = phenotype['MPCR Methylation'].apply(lambda x: 'No' if str(x).strip() in ['100% FM', '>200 100% FM'] else 'Yes')\n"
     ]
    }
   ],
   "source": [
    "#https://www.pnas.org/doi/suppl/10.1073/pnas.2302534120#supplementary-materials\n",
    "#https://www.ncbi.nlm.nih.gov/geo/query/acc.cgi?acc=GSE202177\n",
    "GSE202177 = pd.read_csv(\"GSE202177_normalized_gene_counts.csv\")\n",
    "GSE_T = GSE202177.T\n",
    "GSE_T.columns = GSE_T.iloc[0]\n",
    "GSE_T = GSE_T.drop(GSE_T.index[0])\n",
    "GSE_T.reset_index(inplace=True)\n",
    "GSE_T = GSE_T.rename(columns={'index': 'Sample ID'})\n",
    "phenotype = pd.read_csv(\"phenotype.csv\")\n",
    "phenotype['size_mosaicism'] = phenotype['CGG'].apply(lambda x: False if str(x).strip() == '>200' else True)\n",
    "phenotype_methylation = phenotype[~phenotype['MPCR Methylation'].isin(['P', '-'])]\n",
    "phenotype_methylation['methylation_mosaicism'] = phenotype['MPCR Methylation'].apply(lambda x: False if str(x).strip() in ['100% FM', '>200 100% FM'] else True)\n",
    "phenotype_methylation['mosaicism'] = phenotype_methylation['methylation_mosaicism'] + phenotype_methylation['size_mosaicism']\n",
    "phenotype['size_mosaicism'] = phenotype['CGG'].apply(lambda x: 'No' if str(x).strip() == '>200' else 'Yes')\n",
    "phenotype_methylation['methylation_mosaicism'] = phenotype['MPCR Methylation'].apply(lambda x: 'No' if str(x).strip() in ['100% FM', '>200 100% FM'] else 'Yes')\n",
    "phenotype_genex = pd.merge(phenotype, GSE_T, on='Sample ID')\n",
    "phenotype_genex['SLITRK4'] = pd.to_numeric(phenotype_genex['SLITRK4'], errors='coerce')\n",
    "phenotype_genex['KHDRBS2'] = pd.to_numeric(phenotype_genex['KHDRBS2'], errors='coerce')\n",
    "phenotype_genex['ANGEL2'] = pd.to_numeric(phenotype_genex['ANGEL2'], errors='coerce')\n",
    "phenotype_methylation_genex = pd.merge(phenotype_methylation, GSE_T, on='Sample ID')\n",
    "phenotype_methylation_genex['SLITRK4'] = pd.to_numeric(phenotype_methylation_genex['SLITRK4'], errors='coerce')\n",
    "phenotype_methylation_genex['KHDRBS2'] = pd.to_numeric(phenotype_methylation_genex['KHDRBS2'], errors='coerce')\n",
    "phenotype_methylation_genex['ANGEL2'] = pd.to_numeric(phenotype_methylation_genex['ANGEL2'], errors='coerce')"
   ]
  },
  {
   "cell_type": "code",
   "execution_count": 4,
   "id": "997f07a8",
   "metadata": {},
   "outputs": [
    {
     "name": "stdout",
     "output_type": "stream",
     "text": [
      "p-value: 0.0001\n"
     ]
    },
    {
     "data": {
      "image/png": "[encoded data removed]",
      "text/plain": [
       "<Figure size 288x432 with 1 Axes>"
      ]
     },
     "metadata": {
      "needs_background": "light"
     },
     "output_type": "display_data"
    }
   ],
   "source": [
    "plt.figure(figsize=(4, 6))\n",
    "s = sns.stripplot(data=phenotype_genex, x='size_mosaicism', y='PMBC [ng FMRP/ ug total protein]', \n",
    "              jitter=0.1,\n",
    "            hue='size_mosaicism', size=10, alpha=0.5, palette={\"Yes\": \"orange\", \"No\": \"grey\"})\n",
    "sns.boxplot(data=phenotype_genex, x='size_mosaicism', y='PMBC [ng FMRP/ ug total protein]', \n",
    "            hue='size_mosaicism', width=0.3,\n",
    "            fill=False,\n",
    "            showfliers=False, palette={\"Yes\": \"orange\", \"No\": \"grey\"})\n",
    "group1 = phenotype_genex[phenotype_genex['size_mosaicism'] == 'Yes']['PMBC [ng FMRP/ ug total protein]'].dropna()\n",
    "group2 = phenotype_genex[phenotype_genex['size_mosaicism'] == 'No']['PMBC [ng FMRP/ ug total protein]'].dropna()\n",
    "t_stat, p_value = ttest_ind(group1, group2)\n",
    "s.set(title='')\n",
    "s.set(xlabel=None) \n",
    "s.set(ylabel=None)\n",
    "s.set_xticks([])\n",
    "s.spines['top'].set_visible(False)\n",
    "s.spines['right'].set_visible(False)\n",
    "s.set_yticks([0, .1])\n",
    "#plt.text(0.5, 0.95, f'p-value: {p_value:.4f}', horizontalalignment='center', verticalalignment='center', transform=plt.gca().transAxes)\n",
    "print(f'p-value: {p_value:.4f}')\n",
    "#plt.savefig('size_mosaicism_FMRP.pdf',dpi=1000)"
   ]
  },
  {
   "cell_type": "code",
   "execution_count": 5,
   "id": "ddb185c0",
   "metadata": {},
   "outputs": [
    {
     "name": "stdout",
     "output_type": "stream",
     "text": [
      "p-value: 0.0024\n"
     ]
    },
    {
     "data": {
      "image/png": "[encoded data removed]",
      "text/plain": [
       "<Figure size 288x432 with 1 Axes>"
      ]
     },
     "metadata": {
      "needs_background": "light"
     },
     "output_type": "display_data"
    }
   ],
   "source": [
    "plt.figure(figsize=(4, 6))\n",
    "s = sns.stripplot(data=phenotype_methylation_genex, x='methylation_mosaicism', y='PMBC [ng FMRP/ ug total protein]', \n",
    "              jitter=0.1, \n",
    "            hue='methylation_mosaicism', size=10, alpha=0.8, palette={\"Yes\": \"orange\", \"No\": \"grey\"})\n",
    "sns.boxplot(data=phenotype_methylation_genex, x='methylation_mosaicism', y='PMBC [ng FMRP/ ug total protein]', \n",
    "            hue='methylation_mosaicism',width=0.3,\n",
    "            fill=False,\n",
    "           showfliers=False, palette={\"Yes\": \"orange\", \"No\": \"grey\"})\n",
    "group1 = phenotype_methylation_genex[phenotype_methylation_genex['methylation_mosaicism'] == 'Yes']['PMBC [ng FMRP/ ug total protein]'].dropna()\n",
    "group2 = phenotype_methylation_genex[phenotype_methylation_genex['methylation_mosaicism'] == 'No']['PMBC [ng FMRP/ ug total protein]'].dropna()\n",
    "t_stat, p_value = ttest_ind(group1, group2)\n",
    "s.set(title='')\n",
    "s.set(xlabel=None) \n",
    "s.set(ylabel=None)\n",
    "s.set_xticks([])\n",
    "s.spines['top'].set_visible(False)\n",
    "s.spines['right'].set_visible(False)\n",
    "s.set_yticks([0, .1])\n",
    "s.legend([],[], frameon=False)\n",
    "#plt.text(0.5, 0.95, f'p-value: {p_value:.4f}', horizontalalignment='center', verticalalignment='center', transform=plt.gca().transAxes)\n",
    "print(f'p-value: {p_value:.4f}')\n",
    "#plt.savefig('methyl_mosaicism_FMRP.pdf',dpi=1000)"
   ]
  },
  {
   "cell_type": "code",
   "execution_count": 6,
   "id": "b3f165af",
   "metadata": {},
   "outputs": [
    {
     "name": "stdout",
     "output_type": "stream",
     "text": [
      "p-value: 0.3328\n"
     ]
    },
    {
     "data": {
      "image/png": "[encoded data removed]",
      "text/plain": [
       "<Figure size 288x432 with 1 Axes>"
      ]
     },
     "metadata": {
      "needs_background": "light"
     },
     "output_type": "display_data"
    }
   ],
   "source": [
    "plt.rcParams['font.size']=20\n",
    "plt.figure(figsize=(4, 6))\n",
    "s = sns.stripplot(data=phenotype_genex, x='size_mosaicism', y='SLITRK4', \n",
    "              jitter=0.1,\n",
    "            hue='size_mosaicism', size=10, alpha=0.8, palette={\"Yes\": \"orange\", \"No\": \"grey\"})\n",
    "sns.boxplot(data=phenotype_genex, x='size_mosaicism', y='SLITRK4', \n",
    "            hue='size_mosaicism', width=0.3,\n",
    "            fill=False,\n",
    "           showfliers=False, palette={\"Yes\": \"orange\", \"No\": \"grey\"})\n",
    "group1 = phenotype_genex[phenotype_genex['size_mosaicism'] == 'Yes']['SLITRK4'].dropna()\n",
    "group2 = phenotype_genex[phenotype_genex['size_mosaicism'] == 'No']['SLITRK4'].dropna()\n",
    "t_stat, p_value = ttest_ind(group1, group2)\n",
    "s.set(title='')\n",
    "s.set(xlabel=None) \n",
    "s.set(ylabel=None)\n",
    "s.set_xticks([])\n",
    "s.spines['top'].set_visible(False)\n",
    "s.spines['right'].set_visible(False)\n",
    "s.set_yticks([2.5])\n",
    "#s.set_yticks([0, 0.06])\n",
    "#plt.text(0.8, 0.95, f'p-value: {p_value:.4f}', horizontalalignment='center', verticalalignment='center', transform=plt.gca().transAxes)\n",
    "print(f'p-value: {p_value:.4f}')\n",
    "#plt.savefig('size_mosaicism_SLITRK4.pdf',dpi=1000)"
   ]
  },
  {
   "cell_type": "code",
   "execution_count": 7,
   "id": "51dd443c",
   "metadata": {},
   "outputs": [
    {
     "name": "stdout",
     "output_type": "stream",
     "text": [
      "p-value: 0.6496\n"
     ]
    },
    {
     "data": {
      "image/png": "[encoded data removed]",
      "text/plain": [
       "<Figure size 288x432 with 1 Axes>"
      ]
     },
     "metadata": {
      "needs_background": "light"
     },
     "output_type": "display_data"
    }
   ],
   "source": [
    "plt.figure(figsize=(4, 6))\n",
    "s = sns.stripplot(data=phenotype_methylation_genex, x='methylation_mosaicism', y='SLITRK4', \n",
    "              jitter=0.1, \n",
    "            hue='methylation_mosaicism', size=10, alpha=0.8, palette={\"Yes\": \"orange\", \"No\": \"grey\"})\n",
    "sns.boxplot(data=phenotype_methylation_genex, x='methylation_mosaicism', y='SLITRK4', \n",
    "            hue='methylation_mosaicism', width=0.3,\n",
    "            fill=False,\n",
    "           showfliers=False, palette={\"Yes\": \"orange\", \"No\": \"grey\"})\n",
    "group1 = phenotype_methylation_genex[phenotype_methylation_genex['methylation_mosaicism'] == 'Yes']['SLITRK4'].dropna()\n",
    "group2 = phenotype_methylation_genex[phenotype_methylation_genex['methylation_mosaicism'] == 'No']['SLITRK4'].dropna()\n",
    "t_stat, p_value = ttest_ind(group1, group2)\n",
    "s.set(title='')\n",
    "s.set(xlabel=None) \n",
    "s.set(ylabel=None)\n",
    "s.set_xticks([])\n",
    "s.spines['top'].set_visible(False)\n",
    "s.spines['right'].set_visible(False)\n",
    "s.set_yticks([2.5])\n",
    "s.legend([],[], frameon=False)\n",
    "#plt.text(0.5, 0.95, f'p-value: {p_value:.4f}', horizontalalignment='center', verticalalignment='center', transform=plt.gca().transAxes)\n",
    "print(f'p-value: {p_value:.4f}')\n",
    "#plt.savefig('methyl_mosaicism_SLITRK4.pdf',dpi=1000)"
   ]
  },
  {
   "cell_type": "code",
   "execution_count": 8,
   "id": "4294543f-4db1-4e65-aa1d-b67d0631a10e",
   "metadata": {},
   "outputs": [
    {
     "name": "stdout",
     "output_type": "stream",
     "text": [
      "p-value: 0.4623\n"
     ]
    },
    {
     "data": {
      "image/png": "[encoded data removed]",
      "text/plain": [
       "<Figure size 288x432 with 1 Axes>"
      ]
     },
     "metadata": {
      "needs_background": "light"
     },
     "output_type": "display_data"
    }
   ],
   "source": [
    "plt.figure(figsize=(4, 6))\n",
    "s = sns.stripplot(data=phenotype_genex, x='size_mosaicism', y='KHDRBS2', \n",
    "              jitter=0.1,\n",
    "            hue='size_mosaicism', size=10, alpha=0.8, palette={\"Yes\": \"orange\", \"No\": \"grey\"})\n",
    "sns.boxplot(data=phenotype_genex, x='size_mosaicism', y='KHDRBS2', \n",
    "            hue='size_mosaicism', width=0.3,\n",
    "            fill=False,\n",
    "           showfliers=False, palette={\"Yes\": \"orange\", \"No\": \"grey\"})\n",
    "group1 = phenotype_genex[phenotype_genex['size_mosaicism'] == 'Yes']['KHDRBS2'].dropna()\n",
    "group2 = phenotype_genex[phenotype_genex['size_mosaicism'] == 'No']['KHDRBS2'].dropna()\n",
    "t_stat, p_value = ttest_ind(group1, group2)\n",
    "s.set(title='')\n",
    "s.set(xlabel=None) \n",
    "s.set(ylabel=None)\n",
    "s.set_xticks([])\n",
    "s.spines['top'].set_visible(False)\n",
    "s.spines['right'].set_visible(False)\n",
    "s.set_yticks([1])\n",
    "#plt.text(0.5, 0.95, f'p-value: {p_value:.4f}', horizontalalignment='center', verticalalignment='center', transform=plt.gca().transAxes)\n",
    "print(f'p-value: {p_value:.4f}')\n",
    "#plt.savefig('size_mosaicism_KHDRBS2.pdf',dpi=1000)"
   ]
  },
  {
   "cell_type": "code",
   "execution_count": 9,
   "id": "96f501c0-35d5-4a70-ae44-01fd2ab7aa1c",
   "metadata": {},
   "outputs": [
    {
     "name": "stdout",
     "output_type": "stream",
     "text": [
      "p-value: 0.7565\n"
     ]
    },
    {
     "data": {
      "image/png": "[encoded data removed]",
      "text/plain": [
       "<Figure size 288x432 with 1 Axes>"
      ]
     },
     "metadata": {
      "needs_background": "light"
     },
     "output_type": "display_data"
    }
   ],
   "source": [
    "plt.figure(figsize=(4, 6))\n",
    "s = sns.stripplot(data=phenotype_methylation_genex, x='methylation_mosaicism', y='KHDRBS2', \n",
    "              jitter=0.1, \n",
    "            hue='methylation_mosaicism', size=10, alpha=0.8, palette={\"Yes\": \"orange\", \"No\": \"grey\"})\n",
    "sns.boxplot(data=phenotype_methylation_genex, x='methylation_mosaicism', y='KHDRBS2', \n",
    "            hue='methylation_mosaicism', width=0.3,\n",
    "            fill=False,\n",
    "           showfliers=False, palette={\"Yes\": \"orange\", \"No\": \"grey\"})\n",
    "group1 = phenotype_methylation_genex[phenotype_methylation_genex['methylation_mosaicism'] == 'Yes']['KHDRBS2'].dropna()\n",
    "group2 = phenotype_methylation_genex[phenotype_methylation_genex['methylation_mosaicism'] == 'No']['KHDRBS2'].dropna()\n",
    "t_stat, p_value = ttest_ind(group1, group2)\n",
    "s.set(title='')\n",
    "s.set(xlabel=None) \n",
    "s.set(ylabel=None)\n",
    "s.set_xticks([])\n",
    "s.spines['top'].set_visible(False)\n",
    "s.spines['right'].set_visible(False)\n",
    "s.set_yticks([1])\n",
    "s.legend([],[], frameon=False)\n",
    "#plt.text(0.5, 0.95, f'p-value: {p_value:.4f}', horizontalalignment='center', verticalalignment='center', transform=plt.gca().transAxes)\n",
    "print(f'p-value: {p_value:.4f}')\n",
    "#plt.savefig('methyl_mosaicism_KHDRBS2.pdf',dpi=1000)"
   ]
  },
  {
   "cell_type": "code",
   "execution_count": 10,
   "id": "3bf71154-60b4-4db1-a343-948ca4661949",
   "metadata": {},
   "outputs": [
    {
     "name": "stdout",
     "output_type": "stream",
     "text": [
      "p-value: 0.9820\n"
     ]
    },
    {
     "data": {
      "image/png": "[encoded data removed]",
      "text/plain": [
       "<Figure size 288x432 with 1 Axes>"
      ]
     },
     "metadata": {
      "needs_background": "light"
     },
     "output_type": "display_data"
    }
   ],
   "source": [
    "plt.figure(figsize=(4, 6))\n",
    "s = sns.stripplot(data=phenotype_genex, x='size_mosaicism', y='ANGEL2', \n",
    "              jitter=0.1,\n",
    "            hue='size_mosaicism', size=10, alpha=0.8, palette={\"Yes\": \"orange\", \"No\": \"grey\"})\n",
    "sns.boxplot(data=phenotype_genex, x='size_mosaicism', y='ANGEL2', \n",
    "            hue='size_mosaicism', width=0.3,\n",
    "            fill=False,\n",
    "           showfliers=False, palette={\"Yes\": \"orange\", \"No\": \"grey\"})\n",
    "group1 = phenotype_genex[phenotype_genex['size_mosaicism'] == 'Yes']['ANGEL2'].dropna()\n",
    "group2 = phenotype_genex[phenotype_genex['size_mosaicism'] == 'No']['ANGEL2'].dropna()\n",
    "t_stat, p_value = ttest_ind(group1, group2)\n",
    "s.set(title='')\n",
    "s.set(xlabel=None) \n",
    "s.set(ylabel=None)\n",
    "s.set_xticks([])\n",
    "s.spines['top'].set_visible(False)\n",
    "s.spines['right'].set_visible(False)\n",
    "s.set_yticks([40])\n",
    "#plt.text(0.5, 0.95, f'p-value: {p_value:.4f}', horizontalalignment='center', verticalalignment='center', transform=plt.gca().transAxes)\n",
    "print(f'p-value: {p_value:.4f}')\n",
    "#plt.savefig('size_mosaicism_ANGEL2.pdf',dpi=1000)"
   ]
  },
  {
   "cell_type": "code",
   "execution_count": 11,
   "id": "b1b8e62c-1441-4e90-a2ea-341de1ffe3e3",
   "metadata": {},
   "outputs": [
    {
     "name": "stdout",
     "output_type": "stream",
     "text": [
      "p-value: 0.3630\n"
     ]
    },
    {
     "data": {
      "image/png": "[encoded data removed]",
      "text/plain": [
       "<Figure size 288x432 with 1 Axes>"
      ]
     },
     "metadata": {
      "needs_background": "light"
     },
     "output_type": "display_data"
    }
   ],
   "source": [
    "plt.figure(figsize=(4, 6))\n",
    "s = sns.stripplot(data=phenotype_methylation_genex, x='methylation_mosaicism', y='ANGEL2', \n",
    "              jitter=0.1, \n",
    "            hue='methylation_mosaicism', size=10, alpha=0.5, palette={\"Yes\": \"orange\", \"No\": \"grey\"})\n",
    "sns.boxplot(data=phenotype_methylation_genex, x='methylation_mosaicism', y='ANGEL2', \n",
    "            hue='methylation_mosaicism', width=0.3,\n",
    "            fill=False,\n",
    "           showfliers=False, palette={\"Yes\": \"orange\", \"No\": \"grey\"})\n",
    "group1 = phenotype_methylation_genex[phenotype_methylation_genex['methylation_mosaicism'] == 'Yes']['ANGEL2'].dropna()\n",
    "group2 = phenotype_methylation_genex[phenotype_methylation_genex['methylation_mosaicism'] == 'No']['ANGEL2'].dropna()\n",
    "t_stat, p_value = ttest_ind(group1, group2)\n",
    "s.set(title='')\n",
    "s.set(xlabel=None) \n",
    "s.set(ylabel=None)\n",
    "s.set_xticks([])\n",
    "s.spines['top'].set_visible(False)\n",
    "s.spines['right'].set_visible(False)\n",
    "s.set_yticks([40])\n",
    "s.legend([],[], frameon=False)\n",
    "#plt.text(0.8, 0.95, f'p-value: {p_value:.4f}', horizontalalignment='center', verticalalignment='center', transform=plt.gca().transAxes)\n",
    "print(f'p-value: {p_value:.4f}')\n",
    "#plt.savefig('methyl_mosaicism_ANGEL2.pdf',dpi=1000)"
   ]
  },
  {
   "cell_type": "code",
   "execution_count": null,
   "id": "c331170a-ea2b-4093-8a3e-5bbc0449e5e4",
   "metadata": {},
   "outputs": [],
   "source": []
  }
 ],
 "metadata": {
  "colab": {
   "provenance": []
  },
  "kernelspec": {
   "display_name": "Python 3 (ipykernel)",
   "language": "python",
   "name": "python3"
  },
  "language_info": {
   "codemirror_mode": {
    "name": "ipython",
    "version": 3
   },
   "file_extension": ".py",
   "mimetype": "text/x-python",
   "name": "python",
   "nbconvert_exporter": "python",
   "pygments_lexer": "ipython3",
   "version": "3.8.8"
  }
 },
 "nbformat": 4,
 "nbformat_minor": 5
}
