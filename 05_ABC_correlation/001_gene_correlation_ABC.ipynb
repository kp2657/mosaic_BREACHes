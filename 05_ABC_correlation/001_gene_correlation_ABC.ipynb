{
 "cells": [
  {
   "cell_type": "code",
   "execution_count": 1,
   "id": "10c7da62",
   "metadata": {
    "executionInfo": {
     "elapsed": 2012,
     "status": "ok",
     "timestamp": 1705427918456,
     "user": {
      "displayName": "Kenneth Pham",
      "userId": "16924202224199989267"
     },
     "user_tz": 300
    },
    "id": "10c7da62"
   },
   "outputs": [],
   "source": [
    "import pandas as pd\n",
    "import matplotlib.pyplot as plt\n",
    "import seaborn as sns\n",
    "import os\n",
    "import numpy as np\n",
    "from scipy.stats import pearsonr, zscore, linregress\n",
    "from statsmodels.stats.multitest import multipletests\n",
    "import statsmodels.api as sm"
   ]
  },
  {
   "cell_type": "code",
   "execution_count": 2,
   "id": "90f4295e-77bb-4ac4-802c-e2db00e81878",
   "metadata": {},
   "outputs": [],
   "source": [
    "plt.rcParams['pdf.fonttype'] = 42\n",
    "plt.rcParams['ps.fonttype'] = 42\n",
    "plt.rcParams['font.family'] = 'Helvetica'"
   ]
  },
  {
   "cell_type": "code",
   "execution_count": 3,
   "id": "ad0f433c",
   "metadata": {
    "id": "ad0f433c"
   },
   "outputs": [
    {
     "name": "stderr",
     "output_type": "stream",
     "text": [
      "/var/folders/v1/3py01kc1619d4sj6bsmhx3br0000gn/T/ipykernel_57124/182737897.py:17: SettingWithCopyWarning: \n",
      "A value is trying to be set on a copy of a slice from a DataFrame.\n",
      "Try using .loc[row_indexer,col_indexer] = value instead\n",
      "\n",
      "See the caveats in the documentation: https://pandas.pydata.org/pandas-docs/stable/user_guide/indexing.html#returning-a-view-versus-a-copy\n",
      "  phenotype_methylation['methylation_mosaicism'] = phenotype['MPCR Methylation'].apply(lambda x: False if str(x).strip() in ['100% FM', '>200 100% FM'] else True)\n",
      "/var/folders/v1/3py01kc1619d4sj6bsmhx3br0000gn/T/ipykernel_57124/182737897.py:18: SettingWithCopyWarning: \n",
      "A value is trying to be set on a copy of a slice from a DataFrame.\n",
      "Try using .loc[row_indexer,col_indexer] = value instead\n",
      "\n",
      "See the caveats in the documentation: https://pandas.pydata.org/pandas-docs/stable/user_guide/indexing.html#returning-a-view-versus-a-copy\n",
      "  phenotype_methylation['mosaicism'] = phenotype_methylation['methylation_mosaicism'] + phenotype_methylation['size_mosaicism']\n"
     ]
    }
   ],
   "source": [
    "#https://www.pnas.org/doi/suppl/10.1073/pnas.2302534120#supplementary-materials\n",
    "#https://www.ncbi.nlm.nih.gov/geo/query/acc.cgi?acc=GSE202177\n",
    "GSE202177 = pd.read_csv(\"GSE202177_normalized_gene_counts.csv\")\n",
    "GSE202177['sum_values'] = GSE202177.iloc[:, 1:].sum(axis=1)\n",
    "GSE202177 = GSE202177[GSE202177['sum_values'] != 0]\n",
    "GSE_T = GSE202177.T\n",
    "GSE_T.columns = GSE_T.iloc[0]\n",
    "GSE_T = GSE_T.drop(GSE_T.index[0])\n",
    "GSE_T.reset_index(inplace=True)\n",
    "GSE_T = GSE_T.rename(columns={'index': 'Sample ID'})\n",
    "genes = pd.read_csv(\"HGNC_protein_coding_genes.txt\", sep='\\t')['Approved symbol'].tolist()\n",
    "GSE_T_filtered = GSE_T[['Sample ID'] + [gene for gene in GSE_T.columns if gene in genes]]\n",
    "#https://www.pnas.org/doi/suppl/10.1073/pnas.2302534120#supplementary-materials\n",
    "phenotype = pd.read_csv(\"phenotype.csv\")\n",
    "phenotype['size_mosaicism'] = phenotype['CGG'].apply(lambda x: False if str(x).strip() == '>200' else True)\n",
    "phenotype_methylation = phenotype[~phenotype['MPCR Methylation'].isin(['P', '-'])]\n",
    "phenotype_methylation['methylation_mosaicism'] = phenotype['MPCR Methylation'].apply(lambda x: False if str(x).strip() in ['100% FM', '>200 100% FM'] else True)\n",
    "phenotype_methylation['mosaicism'] = phenotype_methylation['methylation_mosaicism'] + phenotype_methylation['size_mosaicism']\n",
    "phenotype_methylation_genex = pd.merge(phenotype_methylation, GSE_T_filtered, on='Sample ID')\n",
    "phenotype_methylation_genex = phenotype_methylation_genex.dropna(subset=['IQ'])\n",
    "phenotype_methylation_genex = phenotype_methylation_genex.dropna(subset=['ABC'])\n",
    "phenotype_methylation_genex = phenotype_methylation_genex.dropna(subset=['PMBC [ng FMRP/ ug total protein]'])\n",
    "phenotype_methylation_genex = phenotype_methylation_genex.apply(pd.to_numeric, errors='ignore')\n",
    "excluded_cols = [\n",
    "    'Lab ID', 'Sample ID', 'Gender', 'Age', 'Status', 'CGG', \n",
    "    'SB Methylation', 'MPCR Methylation', \n",
    "    'PMBC [ng FMRP/ ug total protein]', \n",
    "    'DBS [FMRP(ng/mL) /1000 WBC]', 'IQ', 'ABC', \n",
    "    'Com', 'DLS', 'Social', 'size_mosaicism', \n",
    "    'methylation_mosaicism', 'mosaicism'\n",
    "]\n",
    "cols_to_sum = phenotype_methylation_genex.columns.difference(excluded_cols)\n",
    "column_sums = phenotype_methylation_genex[cols_to_sum].sum()\n",
    "non_zero_cols = column_sums[column_sums > 0.5].index\n",
    "detectable_genes = list(non_zero_cols)\n",
    "phenotype_methylation_genex = phenotype_methylation_genex[excluded_cols + list(non_zero_cols)]"
   ]
  },
  {
   "cell_type": "code",
   "execution_count": 4,
   "id": "5421ac92-3dd6-4629-9ee8-1d66253be51e",
   "metadata": {},
   "outputs": [
    {
     "name": "stdout",
     "output_type": "stream",
     "text": [
      "PearsonRResult(statistic=0.46625410570301545, pvalue=0.0686947291321532)\n"
     ]
    },
    {
     "data": {
      "image/png": "[encoded data removed]",
      "text/plain": [
       "<Figure size 216x216 with 1 Axes>"
      ]
     },
     "metadata": {
      "needs_background": "light"
     },
     "output_type": "display_data"
    }
   ],
   "source": [
    "plt.rcParams['font.size'] = 12\n",
    "plt.figure(figsize=(3, 3))\n",
    "g = sns.regplot(x=\"PMBC [ng FMRP/ ug total protein]\", y=\"ABC\", data=phenotype_methylation_genex, ci=None,\n",
    "                line_kws={\"lw\": 1}, scatter_kws={'linewidth': 0, 's': 75})\n",
    "# Set the y-ticks\n",
    "g.set_yticks([0, 80])\n",
    "g.set_xticks([0, .02])\n",
    "g.set_ylabel('')\n",
    "g.set_xlabel('')\n",
    "g.spines['top'].set_visible(False)\n",
    "g.spines['right'].set_visible(False)\n",
    "print(pearsonr(phenotype_methylation_genex['PMBC [ng FMRP/ ug total protein]'], phenotype_methylation_genex['ABC']))\n",
    "#plt.savefig('Shah_FMRP_ABC.pdf',dpi=1000)"
   ]
  },
  {
   "cell_type": "code",
   "execution_count": 5,
   "id": "1f3799b5-5264-442e-b4fd-1a595c249268",
   "metadata": {},
   "outputs": [],
   "source": [
    "columns_to_exclude_1 = [\n",
    "    'Lab ID', 'Sample ID', 'Gender', 'Age', 'Status', 'CGG', \n",
    "    'SB Methylation', 'MPCR Methylation',\n",
    "    'PMBC [ng FMRP/ ug total protein]', 'DBS [FMRP(ng/mL) /1000 WBC]',\n",
    "    'IQ', 'ABC', 'Com', \n",
    "    'DLS', 'Social', 'size_mosaicism', 'methylation_mosaicism', 'mosaicism',\n",
    "]\n",
    "\n",
    "gene_columns = [col for col in phenotype_methylation_genex.columns if col not in columns_to_exclude_1]\n",
    "sample_gene = phenotype_methylation_genex[gene_columns]\n",
    "median_genes = sample_gene.median(axis=0)\n",
    "ratios = sample_gene.divide(median_genes)\n",
    "median_ratios = ratios.median(axis=1)\n",
    "normalized_sample_gene = ratios.divide(median_ratios, axis=0)\n",
    "melted_df = normalized_sample_gene.melt(var_name=\"Gene\", value_name=\"Counts\", ignore_index=False)\n",
    "melted_df['Sample'] = melted_df.index\n",
    "melted_df = melted_df.reset_index(drop=True)\n",
    "phenotype_methylation_genex = pd.merge(\n",
    "    phenotype_methylation_genex[columns_to_exclude_1], \n",
    "    normalized_sample_gene, \n",
    "    left_index=True, \n",
    "    right_index=True\n",
    ")\n",
    "columns_to_exclude = [\n",
    "    'Lab ID', 'Sample ID', 'Gender', 'Age', 'Status', 'CGG', \n",
    "    'SB Methylation', 'MPCR Methylation', 'IQ', 'ABC', 'Com', \n",
    "    'DLS', 'Social', 'size_mosaicism', 'methylation_mosaicism', 'mosaicism'\n",
    "]\n",
    "\n",
    "zscore_columns = [col for col in phenotype_methylation_genex.columns if col not in columns_to_exclude]\n",
    "phenotype_methylation_genex[zscore_columns] = phenotype_methylation_genex[zscore_columns].apply(zscore)\n",
    "columns_to_drop = phenotype_methylation_genex[zscore_columns].loc[\n",
    "    :, (phenotype_methylation_genex[zscore_columns].abs() >= 3.5).any()\n",
    "].columns\n",
    "columns_to_exclude_1.extend(columns_to_drop.tolist())\n",
    "phenotype_methylation_genex_cleaned = phenotype_methylation_genex.drop(columns=columns_to_drop)\n",
    "phenotype_methylation_genex_cleaned = phenotype_methylation_genex.replace([np.inf, -np.inf], np.nan).dropna(axis=1, how='any')"
   ]
  },
  {
   "cell_type": "code",
   "execution_count": 6,
   "id": "3536631c-c05f-41ff-863b-eb776340b256",
   "metadata": {},
   "outputs": [
    {
     "name": "stdout",
     "output_type": "stream",
     "text": [
      "PearsonRResult(statistic=-0.5247837767051596, pvalue=0.036877292389761784)\n"
     ]
    },
    {
     "data": {
      "image/png": "[encoded data removed]",
      "text/plain": [
       "<Figure size 216x216 with 1 Axes>"
      ]
     },
     "metadata": {
      "needs_background": "light"
     },
     "output_type": "display_data"
    }
   ],
   "source": [
    "plt.rcParams['font.size'] = 16\n",
    "plt.figure(figsize=(3, 3))\n",
    "g = sns.regplot(x=\"SLITRK4\", y=\"ABC\", data=phenotype_methylation_genex_cleaned, ci=None,\n",
    "                line_kws={\"lw\": 2, 'color':\"r\"}, scatter_kws={'linewidth': 0, 's': 75})\n",
    "# Set the y-ticks\n",
    "g.set_yticks([0, 80])\n",
    "g.set_xticks([-2,0, 3])\n",
    "g.set_ylabel('')\n",
    "g.set_xlabel('')\n",
    "g.spines['top'].set_visible(False)\n",
    "g.spines['right'].set_visible(False)\n",
    "print(pearsonr(phenotype_methylation_genex_cleaned['SLITRK4'], phenotype_methylation_genex_cleaned['ABC']))\n",
    "#plt.savefig('Shah_SLITRK4_ABC.pdf',dpi=1000)"
   ]
  },
  {
   "cell_type": "code",
   "execution_count": 7,
   "id": "0f51ae18-eebf-4353-be80-01c85329e92a",
   "metadata": {},
   "outputs": [
    {
     "name": "stdout",
     "output_type": "stream",
     "text": [
      "PearsonRResult(statistic=-0.5311969543654759, pvalue=0.03423005431286984)\n"
     ]
    },
    {
     "data": {
      "image/png": "[encoded data removed]",
      "text/plain": [
       "<Figure size 216x216 with 1 Axes>"
      ]
     },
     "metadata": {
      "needs_background": "light"
     },
     "output_type": "display_data"
    }
   ],
   "source": [
    "plt.figure(figsize=(3, 3))\n",
    "g = sns.regplot(x=\"KHDRBS2\", y=\"ABC\", data=phenotype_methylation_genex_cleaned, ci=None,\n",
    "                line_kws={\"lw\": 2, 'color':\"r\"}, scatter_kws={'linewidth': 0, 's': 75})\n",
    "# Set the y-ticks\n",
    "g.set_yticks([0, 80])\n",
    "g.set_xticks([-3,0, 3])\n",
    "g.set_ylabel('')\n",
    "g.set_xlabel('')\n",
    "g.spines['top'].set_visible(False)\n",
    "g.spines['right'].set_visible(False)\n",
    "print(pearsonr(phenotype_methylation_genex_cleaned['KHDRBS2'], phenotype_methylation_genex_cleaned['ABC']))\n",
    "#plt.savefig('Shah_KHDRBS2_ABC.pdf',dpi=1000)"
   ]
  },
  {
   "cell_type": "code",
   "execution_count": 8,
   "id": "43859e86-d885-4fd9-a12e-65e8c000e2e2",
   "metadata": {},
   "outputs": [
    {
     "name": "stdout",
     "output_type": "stream",
     "text": [
      "PearsonRResult(statistic=-0.4750144714007785, pvalue=0.06297493925064498)\n"
     ]
    },
    {
     "data": {
      "image/png": "[encoded data removed]",
      "text/plain": [
       "<Figure size 216x216 with 1 Axes>"
      ]
     },
     "metadata": {
      "needs_background": "light"
     },
     "output_type": "display_data"
    }
   ],
   "source": [
    "plt.figure(figsize=(3, 3))\n",
    "g = sns.regplot(x=\"ANGEL2\", y=\"ABC\", data=phenotype_methylation_genex_cleaned, ci=None,\n",
    "                line_kws={\"lw\": 2, 'color':\"r\"}, scatter_kws={'linewidth': 0, 's': 75})\n",
    "# Set the y-ticks\n",
    "g.set_yticks([0, 80])\n",
    "g.set_xticks([-2,0, 3])\n",
    "g.set_ylabel('')\n",
    "g.set_xlabel('')\n",
    "g.spines['top'].set_visible(False)\n",
    "g.spines['right'].set_visible(False)\n",
    "print(pearsonr(phenotype_methylation_genex_cleaned['ANGEL2'], phenotype_methylation_genex_cleaned['ABC']))\n",
    "#plt.savefig('Shah_ANGEL2_ABC.pdf',dpi=1000)"
   ]
  },
  {
   "cell_type": "code",
   "execution_count": 9,
   "id": "e59efa54-9b75-4746-a5a6-31bcea202703",
   "metadata": {},
   "outputs": [
    {
     "name": "stdout",
     "output_type": "stream",
     "text": [
      "PearsonRResult(statistic=0.8538406065698319, pvalue=2.572902708539774e-05)\n"
     ]
    },
    {
     "data": {
      "image/png": "[encoded data removed]",
      "text/plain": [
       "<Figure size 216x216 with 1 Axes>"
      ]
     },
     "metadata": {
      "needs_background": "light"
     },
     "output_type": "display_data"
    }
   ],
   "source": [
    "plt.rcParams['font.size'] = 18\n",
    "plt.figure(figsize=(3, 3))\n",
    "g = sns.regplot(x=\"PROC\", y=\"ABC\", data=phenotype_methylation_genex_cleaned, ci=None,\n",
    "                line_kws={\"lw\": 2, 'color':\"grey\"}, scatter_kws={'linewidth': 0, 's': 75})\n",
    "# Set the y-ticks\n",
    "g.set_yticks([0, 80])\n",
    "g.set_xticks([-2,0, 3])\n",
    "g.set_ylabel('')\n",
    "g.set_xlabel('')\n",
    "g.spines['top'].set_visible(False)\n",
    "g.spines['right'].set_visible(False)\n",
    "print(pearsonr(phenotype_methylation_genex_cleaned['PROC'], phenotype_methylation_genex_cleaned['ABC']))\n",
    "#plt.savefig('Shah_PROC_ABC.pdf',dpi=1000)"
   ]
  },
  {
   "cell_type": "code",
   "execution_count": 10,
   "id": "541fc09b-6d1a-4bb8-a52d-465da3a41187",
   "metadata": {},
   "outputs": [
    {
     "name": "stdout",
     "output_type": "stream",
     "text": [
      "PearsonRResult(statistic=0.8510728669035408, pvalue=2.9113889883150594e-05)\n"
     ]
    },
    {
     "data": {
      "image/png": "[encoded data removed]",
      "text/plain": [
       "<Figure size 216x216 with 1 Axes>"
      ]
     },
     "metadata": {
      "needs_background": "light"
     },
     "output_type": "display_data"
    }
   ],
   "source": [
    "plt.figure(figsize=(3, 3))\n",
    "g = sns.regplot(x=\"LDHB\", y=\"ABC\", data=phenotype_methylation_genex_cleaned, ci=None,\n",
    "                line_kws={\"lw\": 2, 'color':\"grey\"}, scatter_kws={'linewidth': 0, 's': 75})\n",
    "# Set the y-ticks\n",
    "g.set_yticks([0, 80])\n",
    "g.set_xticks([-2,0, 3])\n",
    "g.set_ylabel('')\n",
    "g.set_xlabel('')\n",
    "g.spines['top'].set_visible(False)\n",
    "g.spines['right'].set_visible(False)\n",
    "print(pearsonr(phenotype_methylation_genex_cleaned['LDHB'], phenotype_methylation_genex_cleaned['ABC']))\n",
    "#plt.savefig('Shah_LDHB_ABC.pdf',dpi=1000)"
   ]
  },
  {
   "cell_type": "code",
   "execution_count": null,
   "id": "185baba6-d781-4952-8ba2-40ed4affc2b3",
   "metadata": {},
   "outputs": [],
   "source": []
  }
 ],
 "metadata": {
  "colab": {
   "provenance": []
  },
  "kernelspec": {
   "display_name": "Python 3 (ipykernel)",
   "language": "python",
   "name": "python3"
  },
  "language_info": {
   "codemirror_mode": {
    "name": "ipython",
    "version": 3
   },
   "file_extension": ".py",
   "mimetype": "text/x-python",
   "name": "python",
   "nbconvert_exporter": "python",
   "pygments_lexer": "ipython3",
   "version": "3.8.8"
  }
 },
 "nbformat": 4,
 "nbformat_minor": 5
}
