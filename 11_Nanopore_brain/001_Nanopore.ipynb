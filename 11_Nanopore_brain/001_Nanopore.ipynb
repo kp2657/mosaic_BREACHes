{
 "cells": [
  {
   "cell_type": "code",
   "execution_count": 1,
   "id": "10c7da62",
   "metadata": {
    "executionInfo": {
     "elapsed": 322,
     "status": "ok",
     "timestamp": 1705429195837,
     "user": {
      "displayName": "Kenneth Pham",
      "userId": "16924202224199989267"
     },
     "user_tz": 300
    },
    "id": "10c7da62"
   },
   "outputs": [],
   "source": [
    "import pandas as pd\n",
    "import matplotlib.pyplot as plt\n",
    "import seaborn as sns\n",
    "import os\n",
    "import numpy as np\n",
    "from scipy.stats import pearsonr\n",
    "\n",
    "plt.rcParams['pdf.fonttype'] = 42\n",
    "plt.rcParams['ps.fonttype'] = 42\n",
    "plt.rcParams['font.family'] = 'Helvetica'"
   ]
  },
  {
   "cell_type": "code",
   "execution_count": 2,
   "id": "14322147",
   "metadata": {},
   "outputs": [],
   "source": [
    "brain_5533 = pd.read_csv('./output_dorado_sup_CGG_counts/SQK-NBD114-24_barcode01.filtered_all_counts_V5_len_5000.txt', sep='\\t', header=None)\n",
    "brain_5006 = pd.read_csv('./output_dorado_sup_CGG_counts/SQK-NBD114-24_barcode02.filtered_all_counts_V5_len_5000.txt', sep='\\t', header=None)\n",
    "brain_5319 = pd.read_csv('./output_dorado_sup_CGG_counts/SQK-NBD114-24_barcode03.filtered_all_counts_V5_len_5000.txt', sep='\\t', header=None)\n",
    "brain_5746 = pd.read_csv('./output_dorado_sup_CGG_counts/SQK-NBD114-24_barcode09.filtered_all_counts_V5_len_5000.txt', sep='\\t', header=None)\n",
    "brain_6131 = pd.read_csv('./output_dorado_sup_CGG_counts/SQK-NBD114-24_barcode10.filtered_all_counts_V5_len_5000.txt', sep='\\t', header=None)"
   ]
  },
  {
   "cell_type": "code",
   "execution_count": 3,
   "id": "d730a218",
   "metadata": {},
   "outputs": [],
   "source": [
    "brain_5533['Sample'] = '5533'\n",
    "brain_5006['Sample'] = '5006'\n",
    "brain_5319['Sample'] = '5319'\n",
    "brain_5746['Sample'] = '5746'\n",
    "brain_6131['Sample'] = '6131'\n",
    "CGG_counts = pd.concat([brain_5533, brain_5006, brain_5319, brain_5746, brain_6131], ignore_index=True)\n",
    "CGG_counts = CGG_counts.rename(columns={1: 'CGG_count'})"
   ]
  },
  {
   "cell_type": "code",
   "execution_count": 4,
   "id": "0772d4ef",
   "metadata": {},
   "outputs": [
    {
     "name": "stderr",
     "output_type": "stream",
     "text": [
      "/var/folders/v1/3py01kc1619d4sj6bsmhx3br0000gn/T/ipykernel_97304/1323554393.py:12: FutureWarning: \n",
      "\n",
      "Passing `palette` without assigning `hue` is deprecated and will be removed in v0.14.0. Assign the `x` variable to `hue` and set `legend=False` for the same effect.\n",
      "\n",
      "  f = sns.swarmplot(\n",
      "/opt/anaconda3/lib/python3.8/site-packages/seaborn/categorical.py:3399: UserWarning: 88.9% of the points cannot be placed; you may want to decrease the size of the markers or use stripplot.\n",
      "  warnings.warn(msg, UserWarning)\n",
      "/opt/anaconda3/lib/python3.8/site-packages/seaborn/categorical.py:3399: UserWarning: 50.0% of the points cannot be placed; you may want to decrease the size of the markers or use stripplot.\n",
      "  warnings.warn(msg, UserWarning)\n",
      "/opt/anaconda3/lib/python3.8/site-packages/seaborn/categorical.py:3399: UserWarning: 65.1% of the points cannot be placed; you may want to decrease the size of the markers or use stripplot.\n",
      "  warnings.warn(msg, UserWarning)\n",
      "/opt/anaconda3/lib/python3.8/site-packages/seaborn/categorical.py:3399: UserWarning: 30.6% of the points cannot be placed; you may want to decrease the size of the markers or use stripplot.\n",
      "  warnings.warn(msg, UserWarning)\n",
      "/opt/anaconda3/lib/python3.8/site-packages/seaborn/categorical.py:3399: UserWarning: 74.6% of the points cannot be placed; you may want to decrease the size of the markers or use stripplot.\n",
      "  warnings.warn(msg, UserWarning)\n",
      "/var/folders/v1/3py01kc1619d4sj6bsmhx3br0000gn/T/ipykernel_97304/1323554393.py:17: FutureWarning: \n",
      "\n",
      "Passing `palette` without assigning `hue` is deprecated and will be removed in v0.14.0. Assign the `x` variable to `hue` and set `legend=False` for the same effect.\n",
      "\n",
      "  sns.boxplot(\n",
      "/opt/anaconda3/lib/python3.8/site-packages/seaborn/categorical.py:3399: UserWarning: 88.9% of the points cannot be placed; you may want to decrease the size of the markers or use stripplot.\n",
      "  warnings.warn(msg, UserWarning)\n",
      "/opt/anaconda3/lib/python3.8/site-packages/seaborn/categorical.py:3399: UserWarning: 52.4% of the points cannot be placed; you may want to decrease the size of the markers or use stripplot.\n",
      "  warnings.warn(msg, UserWarning)\n",
      "/opt/anaconda3/lib/python3.8/site-packages/seaborn/categorical.py:3399: UserWarning: 65.1% of the points cannot be placed; you may want to decrease the size of the markers or use stripplot.\n",
      "  warnings.warn(msg, UserWarning)\n",
      "/opt/anaconda3/lib/python3.8/site-packages/seaborn/categorical.py:3399: UserWarning: 30.6% of the points cannot be placed; you may want to decrease the size of the markers or use stripplot.\n",
      "  warnings.warn(msg, UserWarning)\n",
      "/opt/anaconda3/lib/python3.8/site-packages/seaborn/categorical.py:3399: UserWarning: 73.1% of the points cannot be placed; you may want to decrease the size of the markers or use stripplot.\n",
      "  warnings.warn(msg, UserWarning)\n"
     ]
    },
    {
     "data": {
      "image/png": "[encoded data removed]",
      "text/plain": [
       "<Figure size 432x576 with 1 Axes>"
      ]
     },
     "metadata": {
      "needs_background": "light"
     },
     "output_type": "display_data"
    }
   ],
   "source": [
    "order = ['5533', '5319', '5746', '5006', '6131']\n",
    "\n",
    "my_colors = {\n",
    "    '5533': 'grey',   \n",
    "    '5006': 'cornflowerblue',   \n",
    "    '5319': 'cornflowerblue',   \n",
    "    '5746': 'cornflowerblue',   \n",
    "    '6131': 'cornflowerblue'    \n",
    "}\n",
    "\n",
    "plt.figure(figsize=(6, 8))\n",
    "f = sns.swarmplot(\n",
    "    data=CGG_counts, x='Sample', y='CGG_count',\n",
    "    size=8, order=order, palette=my_colors\n",
    ")\n",
    "\n",
    "sns.boxplot(\n",
    "    data=CGG_counts, x='Sample', y='CGG_count',\n",
    "    fill=False, order=order, palette=my_colors, showfliers=False\n",
    ")\n",
    "\n",
    "\n",
    "plt.axhline(y=200, color='red')\n",
    "plt.ylim(0, 2000)\n",
    "plt.yticks([0,200,2000], fontsize=24)\n",
    "f.set(xlabel=None, ylabel=None)\n",
    "f.set_xticks([])\n",
    "f.spines['top'].set_visible(False)\n",
    "f.spines['right'].set_visible(False)\n",
    "\n",
    "# plt.savefig('../Figure/SFig_Nanopore_CGG_counts_brain.png', bbox_inches='tight', dpi=600)"
   ]
  },
  {
   "cell_type": "code",
   "execution_count": null,
   "id": "e9b37040",
   "metadata": {},
   "outputs": [],
   "source": []
  }
 ],
 "metadata": {
  "colab": {
   "provenance": []
  },
  "kernelspec": {
   "display_name": "base",
   "language": "python",
   "name": "python3"
  },
  "language_info": {
   "codemirror_mode": {
    "name": "ipython",
    "version": 3
   },
   "file_extension": ".py",
   "mimetype": "text/x-python",
   "name": "python",
   "nbconvert_exporter": "python",
   "pygments_lexer": "ipython3",
   "version": "3.8.8"
  }
 },
 "nbformat": 4,
 "nbformat_minor": 5
}
