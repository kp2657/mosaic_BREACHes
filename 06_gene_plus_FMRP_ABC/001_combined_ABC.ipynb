{
 "cells": [
  {
   "cell_type": "code",
   "execution_count": 1,
   "id": "0ce4a868-998c-4f03-916a-022e08a0538b",
   "metadata": {},
   "outputs": [],
   "source": [
    "import pandas as pd\n",
    "import matplotlib.pyplot as plt\n",
    "import seaborn as sns\n",
    "import numpy as np\n",
    "import os\n",
    "import random\n",
    "import statsmodels.api as sm\n",
    "from scipy.stats import pearsonr, zscore, linregress, f,chi2, norm\n",
    "plt.rcParams['pdf.fonttype'] = 42\n",
    "plt.rcParams['ps.fonttype'] = 42\n",
    "plt.rcParams['font.family'] = 'Helvetica'"
   ]
  },
  {
   "cell_type": "code",
   "execution_count": 2,
   "id": "b2686a75-524d-48ca-b698-1baac2f8e505",
   "metadata": {},
   "outputs": [],
   "source": [
    "H3K9me3_result_df_2_10 = pd.read_csv('ABC_gene_stats.txt', sep='\\t')"
   ]
  },
  {
   "cell_type": "code",
   "execution_count": 3,
   "id": "00c750cf-096d-49ec-af4b-aaa791a10f3f",
   "metadata": {},
   "outputs": [
    {
     "name": "stderr",
     "output_type": "stream",
     "text": [
      "/var/folders/v1/3py01kc1619d4sj6bsmhx3br0000gn/T/ipykernel_63238/1000755475.py:7: FutureWarning: \n",
      "\n",
      "Passing `palette` without assigning `hue` is deprecated and will be removed in v0.14.0. Assign the `x` variable to `hue` and set `legend=False` for the same effect.\n",
      "\n",
      "  sns.swarmplot(data=filtered_df, x='Group', y='q_value_wFMRP_neglog10',\n"
     ]
    },
    {
     "data": {
      "image/png": "[encoded data removed]",
      "text/plain": [
       "<Figure size 216x360 with 1 Axes>"
      ]
     },
     "metadata": {
      "needs_background": "light"
     },
     "output_type": "display_data"
    }
   ],
   "source": [
    "H3K9me3_result_df_2_10['Group'] = H3K9me3_result_df_2_10['cv_FXS_zscore'].apply(\n",
    "    lambda x: 'High' if x > 2 else 'Low' if x < 1.25 else None\n",
    ")\n",
    "plt.figure(figsize=(3, 5))\n",
    "filtered_df = H3K9me3_result_df_2_10.query('NPC_BREACH == True and Group.notnull()')\n",
    "\n",
    "sns.swarmplot(data=filtered_df, x='Group', y='q_value_wFMRP_neglog10', \n",
    "         palette={'High': 'yellowgreen', 'Low': 'grey'}, \n",
    "         size=5, order=['Low','High'])\n",
    "    \n",
    "\n",
    "plt.ylim(1, 2.5)\n",
    "plt.yticks([1,2.5], fontsize=16)\n",
    "sns.despine(right=True)\n",
    "plt.ylabel('')\n",
    "plt.xlabel('')\n",
    "plt.xticks([])\n",
    "plt.axhline(-np.log10(.05), color='red')\n",
    "\n",
    "plt.tight_layout()\n",
    "#plt.savefig('gene_wFMRP_NPC.pdf', dpi=1000)\n",
    "plt.show()"
   ]
  },
  {
   "cell_type": "code",
   "execution_count": 5,
   "id": "b5d24206-95e6-4c9c-8e47-d6c197b3c422",
   "metadata": {},
   "outputs": [
    {
     "name": "stdout",
     "output_type": "stream",
     "text": [
      "0.043\n"
     ]
    }
   ],
   "source": [
    "genes = H3K9me3_result_df_2_10.query(\"(NPC_BREACH == True) and (Group == 'High')\")\n",
    "random.seed('ELIO')\n",
    "n_iterations = 1000\n",
    "null_distribution = []\n",
    "\n",
    "false_group = H3K9me3_result_df_2_10[H3K9me3_result_df_2_10['NPC_BREACH'] == False].query('cv_FXS_zscore > 2')['q_value_wFMRP_neglog10'].values\n",
    "\n",
    "for _ in range(n_iterations):\n",
    "    sampled_genes = np.random.choice(false_group, size=len(genes), replace=False)\n",
    "    null_distribution.append(np.mean(sampled_genes))\n",
    "\n",
    "null_distribution = np.array(null_distribution)\n",
    "\n",
    "genes_statistic = genes['q_value_wFMRP_neglog10'].mean()\n",
    "\n",
    "genes_p_value = np.sum(null_distribution >= genes_statistic) / n_iterations\n",
    "print(f\"{genes_p_value}\")"
   ]
  },
  {
   "cell_type": "code",
   "execution_count": 6,
   "id": "d14efc51-e373-4094-859c-66f9731b830f",
   "metadata": {},
   "outputs": [
    {
     "name": "stdout",
     "output_type": "stream",
     "text": [
      "0.043\n"
     ]
    },
    {
     "data": {
      "image/png": "[encoded data removed]",
      "text/plain": [
       "<Figure size 288x288 with 1 Axes>"
      ]
     },
     "metadata": {
      "needs_background": "light"
     },
     "output_type": "display_data"
    }
   ],
   "source": [
    "fig, ax = plt.subplots(figsize=(4, 4))\n",
    "sns.kdeplot(null_distribution, color='tan', fill=True, alpha=0.25, label=\"Null Distribution\", ax=ax)\n",
    "\n",
    "ax.axvline(genes_statistic, color='yellowgreen', linewidth=3, label='mosaic_NPC')\n",
    "plt.xlabel('', fontsize=12)\n",
    "plt.ylabel('')\n",
    "\n",
    "ax.spines['top'].set_visible(False)\n",
    "ax.spines['right'].set_visible(False)\n",
    "\n",
    "plt.ylim(0,7.5)\n",
    "plt.yticks([7.5], fontsize=18)\n",
    "plt.xticks([1.0,1.8], fontsize=18)\n",
    "genes_p_value = np.sum(null_distribution >= genes_statistic) / n_iterations\n",
    "print(f\"{genes_p_value}\")\n",
    "#plt.savefig('NPC_mosaic_draw.pdf', dpi=1000)\n",
    "plt.show()"
   ]
  },
  {
   "cell_type": "code",
   "execution_count": 7,
   "id": "4bea64c1-0064-4a33-abbb-668c5fc03f50",
   "metadata": {},
   "outputs": [
    {
     "name": "stdout",
     "output_type": "stream",
     "text": [
      "1.0\n"
     ]
    }
   ],
   "source": [
    "genes = H3K9me3_result_df_2_10.query(\"(NPC_BREACH == True) and (Group == 'Low')\")\n",
    "random.seed('ELIO')\n",
    "n_iterations = 1000\n",
    "null_distribution = []\n",
    "\n",
    "false_group = H3K9me3_result_df_2_10[H3K9me3_result_df_2_10['NPC_BREACH'] == False].query('cv_FXS_zscore < 1.25')['q_value_wFMRP_neglog10'].values\n",
    "\n",
    "for _ in range(n_iterations):\n",
    "    sampled_genes = np.random.choice(false_group, size=len(genes), replace=False)\n",
    "    null_distribution.append(np.mean(sampled_genes))\n",
    "\n",
    "null_distribution = np.array(null_distribution)\n",
    "genes_statistic = genes['q_value_wFMRP_neglog10'].mean()\n",
    "\n",
    "genes_p_value = np.sum(null_distribution >= genes_statistic) / n_iterations\n",
    "print(f\"{genes_p_value}\")"
   ]
  },
  {
   "cell_type": "code",
   "execution_count": 8,
   "id": "b8d22acb-a494-4d02-8dd6-5a59a235c91d",
   "metadata": {},
   "outputs": [
    {
     "name": "stdout",
     "output_type": "stream",
     "text": [
      "1.0\n"
     ]
    },
    {
     "name": "stderr",
     "output_type": "stream",
     "text": [
      "/var/folders/v1/3py01kc1619d4sj6bsmhx3br0000gn/T/ipykernel_62655/1393276394.py:2: UserWarning: \n",
      "\n",
      "The `bw` parameter is deprecated in favor of `bw_method` and `bw_adjust`.\n",
      "Setting `bw_method=0.2`, but please see the docs for the new parameters\n",
      "and update your code. This will become an error in seaborn v0.14.0.\n",
      "\n",
      "  sns.kdeplot(null_distribution, color='tan', fill=True, alpha=0.25, label=\"Null Distribution\", ax=ax, bw=.2)\n"
     ]
    },
    {
     "data": {
      "image/png": "[encoded data removed]",
      "text/plain": [
       "<Figure size 288x288 with 1 Axes>"
      ]
     },
     "metadata": {
      "needs_background": "light"
     },
     "output_type": "display_data"
    }
   ],
   "source": [
    "fig, ax = plt.subplots(figsize=(4, 4))\n",
    "sns.kdeplot(null_distribution, color='tan', fill=True, alpha=0.25, label=\"Null Distribution\", ax=ax, bw=.2)\n",
    "\n",
    "ax.axvline(genes_statistic, color='grey', linewidth=3, label='mosaic_NPC')\n",
    "plt.xlabel('', fontsize=12)\n",
    "plt.ylabel('')\n",
    "\n",
    "ax.spines['top'].set_visible(False)\n",
    "ax.spines['right'].set_visible(False)\n",
    "\n",
    "plt.ylim(0,7.5)\n",
    "plt.yticks([7.5], fontsize=18)\n",
    "plt.xlim(1.0,1.8)\n",
    "plt.xticks([1.0,1.8], fontsize=18)\n",
    "genes_p_value = np.sum(null_distribution >= genes_statistic) / n_iterations\n",
    "print(f\"{genes_p_value}\")\n",
    "#plt.savefig('NPC_invariant_draw.pdf', dpi=1000)\n",
    "plt.show()"
   ]
  },
  {
   "cell_type": "code",
   "execution_count": 4,
   "id": "0157ecf4-3e5e-4e1b-b509-1c4fec67fc66",
   "metadata": {},
   "outputs": [],
   "source": [
    "H3K9me3_result_df_2_10 = H3K9me3_result_df_2_10.merge(pd.read_csv('zscore_ABC.csv'), on='gene', how='left')"
   ]
  },
  {
   "cell_type": "code",
   "execution_count": 5,
   "id": "996a91c9-6e41-41dd-962a-8cd837da0a48",
   "metadata": {},
   "outputs": [
    {
     "data": {
      "text/html": [
       "<div>\n",
       "<style scoped>\n",
       "    .dataframe tbody tr th:only-of-type {\n",
       "        vertical-align: middle;\n",
       "    }\n",
       "\n",
       "    .dataframe tbody tr th {\n",
       "        vertical-align: top;\n",
       "    }\n",
       "\n",
       "    .dataframe thead th {\n",
       "        text-align: right;\n",
       "    }\n",
       "</style>\n",
       "<table border=\"1\" class=\"dataframe\">\n",
       "  <thead>\n",
       "    <tr style=\"text-align: right;\">\n",
       "      <th></th>\n",
       "      <th>gene</th>\n",
       "      <th>cv_FXS_zscore</th>\n",
       "      <th>NPC_BREACH</th>\n",
       "      <th>Pearson_rho_wFMRP</th>\n",
       "      <th>q_value_wFMRP</th>\n",
       "      <th>q_value_wFMRP_neglog10</th>\n",
       "      <th>Unnamed: 6</th>\n",
       "      <th>Group</th>\n",
       "      <th>Pearson_rho_Gene</th>\n",
       "    </tr>\n",
       "  </thead>\n",
       "  <tbody>\n",
       "    <tr>\n",
       "      <th>0</th>\n",
       "      <td>A1BG</td>\n",
       "      <td>1.894464</td>\n",
       "      <td>False</td>\n",
       "      <td>0.580341</td>\n",
       "      <td>0.040235</td>\n",
       "      <td>1.395396</td>\n",
       "      <td>NaN</td>\n",
       "      <td>None</td>\n",
       "      <td>0.450481</td>\n",
       "    </tr>\n",
       "    <tr>\n",
       "      <th>1</th>\n",
       "      <td>A2M</td>\n",
       "      <td>0.172526</td>\n",
       "      <td>False</td>\n",
       "      <td>0.479707</td>\n",
       "      <td>0.084987</td>\n",
       "      <td>1.070650</td>\n",
       "      <td>NaN</td>\n",
       "      <td>Low</td>\n",
       "      <td>-0.239877</td>\n",
       "    </tr>\n",
       "    <tr>\n",
       "      <th>2</th>\n",
       "      <td>A3GALT2</td>\n",
       "      <td>0.607707</td>\n",
       "      <td>False</td>\n",
       "      <td>0.618591</td>\n",
       "      <td>0.021565</td>\n",
       "      <td>1.666260</td>\n",
       "      <td>NaN</td>\n",
       "      <td>Low</td>\n",
       "      <td>-0.415392</td>\n",
       "    </tr>\n",
       "    <tr>\n",
       "      <th>3</th>\n",
       "      <td>AAAS</td>\n",
       "      <td>-0.282188</td>\n",
       "      <td>False</td>\n",
       "      <td>0.469855</td>\n",
       "      <td>0.084987</td>\n",
       "      <td>1.070650</td>\n",
       "      <td>NaN</td>\n",
       "      <td>Low</td>\n",
       "      <td>0.104489</td>\n",
       "    </tr>\n",
       "    <tr>\n",
       "      <th>4</th>\n",
       "      <td>AACS</td>\n",
       "      <td>-0.221037</td>\n",
       "      <td>False</td>\n",
       "      <td>0.466536</td>\n",
       "      <td>0.084987</td>\n",
       "      <td>1.070650</td>\n",
       "      <td>NaN</td>\n",
       "      <td>Low</td>\n",
       "      <td>0.047832</td>\n",
       "    </tr>\n",
       "    <tr>\n",
       "      <th>...</th>\n",
       "      <td>...</td>\n",
       "      <td>...</td>\n",
       "      <td>...</td>\n",
       "      <td>...</td>\n",
       "      <td>...</td>\n",
       "      <td>...</td>\n",
       "      <td>...</td>\n",
       "      <td>...</td>\n",
       "      <td>...</td>\n",
       "    </tr>\n",
       "    <tr>\n",
       "      <th>14001</th>\n",
       "      <td>ZXDB</td>\n",
       "      <td>-0.373912</td>\n",
       "      <td>False</td>\n",
       "      <td>0.493608</td>\n",
       "      <td>0.084987</td>\n",
       "      <td>1.070650</td>\n",
       "      <td>NaN</td>\n",
       "      <td>Low</td>\n",
       "      <td>-0.250278</td>\n",
       "    </tr>\n",
       "    <tr>\n",
       "      <th>14002</th>\n",
       "      <td>ZXDC</td>\n",
       "      <td>1.309538</td>\n",
       "      <td>False</td>\n",
       "      <td>0.509775</td>\n",
       "      <td>0.084987</td>\n",
       "      <td>1.070650</td>\n",
       "      <td>NaN</td>\n",
       "      <td>None</td>\n",
       "      <td>-0.334240</td>\n",
       "    </tr>\n",
       "    <tr>\n",
       "      <th>14003</th>\n",
       "      <td>ZYG11B</td>\n",
       "      <td>0.207006</td>\n",
       "      <td>False</td>\n",
       "      <td>0.467316</td>\n",
       "      <td>0.084987</td>\n",
       "      <td>1.070650</td>\n",
       "      <td>NaN</td>\n",
       "      <td>Low</td>\n",
       "      <td>-0.147419</td>\n",
       "    </tr>\n",
       "    <tr>\n",
       "      <th>14004</th>\n",
       "      <td>ZYX</td>\n",
       "      <td>0.560137</td>\n",
       "      <td>False</td>\n",
       "      <td>0.467402</td>\n",
       "      <td>0.084987</td>\n",
       "      <td>1.070650</td>\n",
       "      <td>NaN</td>\n",
       "      <td>Low</td>\n",
       "      <td>0.265511</td>\n",
       "    </tr>\n",
       "    <tr>\n",
       "      <th>14005</th>\n",
       "      <td>ZZEF1</td>\n",
       "      <td>-0.665294</td>\n",
       "      <td>False</td>\n",
       "      <td>0.493200</td>\n",
       "      <td>0.084987</td>\n",
       "      <td>1.070650</td>\n",
       "      <td>NaN</td>\n",
       "      <td>Low</td>\n",
       "      <td>-0.231334</td>\n",
       "    </tr>\n",
       "  </tbody>\n",
       "</table>\n",
       "<p>14006 rows × 9 columns</p>\n",
       "</div>"
      ],
      "text/plain": [
       "          gene  cv_FXS_zscore  NPC_BREACH  Pearson_rho_wFMRP  q_value_wFMRP  \\\n",
       "0         A1BG       1.894464       False           0.580341       0.040235   \n",
       "1          A2M       0.172526       False           0.479707       0.084987   \n",
       "2      A3GALT2       0.607707       False           0.618591       0.021565   \n",
       "3         AAAS      -0.282188       False           0.469855       0.084987   \n",
       "4         AACS      -0.221037       False           0.466536       0.084987   \n",
       "...        ...            ...         ...                ...            ...   \n",
       "14001     ZXDB      -0.373912       False           0.493608       0.084987   \n",
       "14002     ZXDC       1.309538       False           0.509775       0.084987   \n",
       "14003   ZYG11B       0.207006       False           0.467316       0.084987   \n",
       "14004      ZYX       0.560137       False           0.467402       0.084987   \n",
       "14005    ZZEF1      -0.665294       False           0.493200       0.084987   \n",
       "\n",
       "       q_value_wFMRP_neglog10  Unnamed: 6 Group  Pearson_rho_Gene  \n",
       "0                    1.395396         NaN  None          0.450481  \n",
       "1                    1.070650         NaN   Low         -0.239877  \n",
       "2                    1.666260         NaN   Low         -0.415392  \n",
       "3                    1.070650         NaN   Low          0.104489  \n",
       "4                    1.070650         NaN   Low          0.047832  \n",
       "...                       ...         ...   ...               ...  \n",
       "14001                1.070650         NaN   Low         -0.250278  \n",
       "14002                1.070650         NaN  None         -0.334240  \n",
       "14003                1.070650         NaN   Low         -0.147419  \n",
       "14004                1.070650         NaN   Low          0.265511  \n",
       "14005                1.070650         NaN   Low         -0.231334  \n",
       "\n",
       "[14006 rows x 9 columns]"
      ]
     },
     "execution_count": 5,
     "metadata": {},
     "output_type": "execute_result"
    }
   ],
   "source": [
    "H3K9me3_result_df_2_10"
   ]
  },
  {
   "cell_type": "code",
   "execution_count": 11,
   "id": "544ec664-dda6-4027-b9a4-7e3a646b8651",
   "metadata": {},
   "outputs": [
    {
     "name": "stderr",
     "output_type": "stream",
     "text": [
      "/var/folders/v1/3py01kc1619d4sj6bsmhx3br0000gn/T/ipykernel_63238/1845304907.py:19: UserWarning: \n",
      "\n",
      "The `bw` parameter is deprecated in favor of `bw_method` and `bw_adjust`.\n",
      "Setting `bw_method=0.3`, but please see the docs for the new parameters\n",
      "and update your code. This will become an error in seaborn v0.14.0.\n",
      "\n",
      "  sns.kdeplot(null_distribution, color='tan', fill=True, alpha=0.25, label=\"Null Distribution\", ax=ax,bw=.3)\n",
      "1 extra bytes in post.stringData array\n",
      "'created' timestamp seems very low; regarding as unix timestamp\n",
      "Zapf NOT subset; don't know how to subset; dropped\n",
      "feat NOT subset; don't know how to subset; dropped\n",
      "morx NOT subset; don't know how to subset; dropped\n"
     ]
    },
    {
     "name": "stdout",
     "output_type": "stream",
     "text": [
      "0.02300000000000002\n"
     ]
    },
    {
     "data": {
      "image/png": "[encoded data removed]",
      "text/plain": [
       "<Figure size 432x216 with 1 Axes>"
      ]
     },
     "metadata": {
      "needs_background": "light"
     },
     "output_type": "display_data"
    }
   ],
   "source": [
    "genes = H3K9me3_result_df_2_10.query(\"(NPC_BREACH == True) and (Group == 'High')\").query('q_value_wFMRP < 0.05')\n",
    "control = H3K9me3_result_df_2_10.query(\"NPC_BREACH == False\").query('q_value_wFMRP < 0.05')\n",
    "n_iterations = 1000\n",
    "null_distribution = []\n",
    "\n",
    "false_group = control['Pearson_rho_Gene'].values\n",
    "\n",
    "for _ in range(n_iterations):\n",
    "    sampled_genes = np.random.choice(false_group, size=len(genes), replace=False)\n",
    "    null_distribution.append(np.mean(sampled_genes))\n",
    "\n",
    "null_distribution = np.array(null_distribution)\n",
    "\n",
    "genes_statistic = genes['Pearson_rho_Gene'].mean()\n",
    "\n",
    "genes_p_value = 1 - (np.sum(null_distribution >= genes_statistic) / n_iterations)\n",
    "\n",
    "fig, ax = plt.subplots(figsize=(6, 3))\n",
    "sns.kdeplot(null_distribution, color='tan', fill=True, alpha=0.25, label=\"Null Distribution\", ax=ax,bw=.3)\n",
    "\n",
    "ax.axvline(genes_statistic, color='yellowgreen', linewidth=2)\n",
    "\n",
    "plt.xlabel('', fontsize=12)\n",
    "plt.ylabel('')\n",
    "\n",
    "plt.xticks([-0.75, 0, 0.75], fontsize=18)\n",
    "plt.ylim(0, 1.5)\n",
    "plt.yticks([0, 1.5], fontsize=18)\n",
    "\n",
    "ax.spines['top'].set_visible(False)\n",
    "ax.spines['right'].set_visible(False)\n",
    "\n",
    "# Save and show the plot\n",
    "plt.savefig('bootstrap_mosaic_2_rho.pdf', dpi=1000)\n",
    "print(genes_p_value)\n",
    "plt.show()"
   ]
  },
  {
   "cell_type": "code",
   "execution_count": 7,
   "id": "fae79fdb-53b1-4770-9ed9-d18504693104",
   "metadata": {},
   "outputs": [],
   "source": [
    "def get_weights(df, gene):\n",
    "    X = df[[\"PMBC [ng FMRP/ ug total protein]\", gene]]\n",
    "    y = df[\"ABC\"]\n",
    "    X = sm.add_constant(X)  # Add a constant to the model (intercept)\n",
    "    model = sm.OLS(y, X).fit()\n",
    "    print(H3K9me3_result_df_2_10.query(\"gene == @gene\")['Pearson_rho_wFMRP'])\n",
    "    intercept = model.params['const']\n",
    "    coef1 = model.params[\"PMBC [ng FMRP/ ug total protein]\"]\n",
    "    coef2 = model.params[gene]\n",
    "    equation = (f\"y = {intercept:.4f} + {coef1:.4f} * 'PMBC [ng FMRP/ ug total protein]' \"\n",
    "                f\"+ {coef2:.4f} * '{gene}'\")\n",
    "    print(\"Fit equation:\", equation)\n",
    "    return model.params"
   ]
  },
  {
   "cell_type": "code",
   "execution_count": 8,
   "id": "7e48f87d-8fd4-4ae8-b678-af5c5e02f909",
   "metadata": {},
   "outputs": [],
   "source": [
    "phenotype_methylation_genex = pd.read_csv('bloodRNAseq_zscores.txt', sep='\\t')"
   ]
  },
  {
   "cell_type": "code",
   "execution_count": 9,
   "id": "e69963ce-28ec-4a56-9a6d-d1033d1e2f87",
   "metadata": {},
   "outputs": [
    {
     "name": "stdout",
     "output_type": "stream",
     "text": [
      "5845    0.697396\n",
      "Name: Pearson_rho_wFMRP, dtype: float64\n",
      "Fit equation: y = 35.4375 + 7.3881 * 'PMBC [ng FMRP/ ug total protein]' + -8.4795 * 'KHDRBS2'\n"
     ]
    },
    {
     "data": {
      "image/png": "[encoded data removed]",
      "text/plain": [
       "<Figure size 216x216 with 1 Axes>"
      ]
     },
     "metadata": {
      "needs_background": "light"
     },
     "output_type": "display_data"
    }
   ],
   "source": [
    "weights = get_weights(phenotype_methylation_genex, \"KHDRBS2\")\n",
    "\n",
    "phenotype_methylation_genex[\"combined_predictor\"] = (\n",
    "    weights[\"PMBC [ng FMRP/ ug total protein]\"] * phenotype_methylation_genex[\"PMBC [ng FMRP/ ug total protein]\"] +\n",
    "    weights[\"KHDRBS2\"] * phenotype_methylation_genex[\"KHDRBS2\"] + 35.4375\n",
    ")\n",
    "plt.figure(figsize=(3, 3))\n",
    "g = sns.regplot(x=\"combined_predictor\", y=\"ABC\", data=phenotype_methylation_genex, ci=None, \n",
    "                line_kws={\"lw\": 2, 'color':\"orange\"}, scatter_kws={'linewidth': 0, 's': 75})\n",
    "\n",
    "g.set_yticks([0, 80])\n",
    "g.set_xticks([0, 80])\n",
    "g.set_ylabel('')\n",
    "g.set_xlabel('')\n",
    "g.spines['top'].set_visible(False)\n",
    "g.spines['right'].set_visible(False)\n",
    "#plt.savefig('KHDRBS2_combined_predictor_ABC.pdf', dpi=1000)\n",
    "plt.show()"
   ]
  },
  {
   "cell_type": "code",
   "execution_count": 10,
   "id": "32933880-017d-4354-bdf4-ad2e9debcac9",
   "metadata": {},
   "outputs": [
    {
     "name": "stdout",
     "output_type": "stream",
     "text": [
      "10911    0.629052\n",
      "Name: Pearson_rho_wFMRP, dtype: float64\n",
      "Fit equation: y = 35.4375 + 5.8521 * 'PMBC [ng FMRP/ ug total protein]' + -7.1245 * 'SLITRK4'\n"
     ]
    },
    {
     "data": {
      "image/png": "[encoded data removed]",
      "text/plain": [
       "<Figure size 216x216 with 1 Axes>"
      ]
     },
     "metadata": {
      "needs_background": "light"
     },
     "output_type": "display_data"
    }
   ],
   "source": [
    "weights = get_weights(phenotype_methylation_genex, \"SLITRK4\")\n",
    "\n",
    "phenotype_methylation_genex[\"combined_predictor\"] = (\n",
    "    weights[\"PMBC [ng FMRP/ ug total protein]\"] * phenotype_methylation_genex[\"PMBC [ng FMRP/ ug total protein]\"] +\n",
    "    weights[\"SLITRK4\"] * phenotype_methylation_genex[\"SLITRK4\"] + 35.4375\n",
    ")\n",
    "plt.figure(figsize=(3, 3))\n",
    "g = sns.regplot(x=\"combined_predictor\", y=\"ABC\", data=phenotype_methylation_genex, ci=None, \n",
    "                line_kws={\"lw\": 2, 'color':\"orange\"}, scatter_kws={'linewidth': 0, 's': 75})\n",
    "\n",
    "g.set_yticks([0, 80])\n",
    "g.set_xticks([0, 80])\n",
    "g.set_ylabel('')\n",
    "g.set_xlabel('')\n",
    "g.spines['top'].set_visible(False)\n",
    "g.spines['right'].set_visible(False)\n",
    "#plt.savefig('SLITRK4_combined_predictor_ABC.pdf', dpi=1000)\n",
    "plt.show()"
   ]
  },
  {
   "cell_type": "code",
   "execution_count": 11,
   "id": "60e2b169-93f2-4a97-b9d0-bd0a265f6c10",
   "metadata": {},
   "outputs": [],
   "source": [
    "brain_genes = pd.read_csv('BRAIN_BREACHes_genes_CV.csv')\n",
    "H3K9me3_result_df = H3K9me3_result_df_2_10.merge(brain_genes, on='gene', how='right')"
   ]
  },
  {
   "cell_type": "code",
   "execution_count": 12,
   "id": "370c332b-88a3-405d-9d4d-c85d276ec62b",
   "metadata": {},
   "outputs": [],
   "source": [
    "H3K9me3_result_df['Group'] = H3K9me3_result_df['cv_FXS_zscore_y'].apply(\n",
    "    lambda x: 'High' if x > 1.25 else 'Low' if x < -1.25 else None\n",
    ")\n",
    "\n",
    "filtered_df = H3K9me3_result_df.query('BRAIN_BREACH == True and Group.notnull()')"
   ]
  },
  {
   "cell_type": "code",
   "execution_count": 13,
   "id": "61a7ee26-1898-4f0e-8965-99013cccbbbc",
   "metadata": {},
   "outputs": [
    {
     "name": "stderr",
     "output_type": "stream",
     "text": [
      "/var/folders/v1/3py01kc1619d4sj6bsmhx3br0000gn/T/ipykernel_63210/3719382070.py:3: FutureWarning: \n",
      "\n",
      "Passing `palette` without assigning `hue` is deprecated and will be removed in v0.14.0. Assign the `x` variable to `hue` and set `legend=False` for the same effect.\n",
      "\n",
      "  sns.swarmplot(data=filtered_df.query('q_value_wFMRP_neglog10.notna()'), x='Group', y='q_value_wFMRP_neglog10',\n",
      "/opt/anaconda3/lib/python3.8/site-packages/seaborn/categorical.py:3399: UserWarning: 15.8% of the points cannot be placed; you may want to decrease the size of the markers or use stripplot.\n",
      "  warnings.warn(msg, UserWarning)\n"
     ]
    },
    {
     "data": {
      "image/png": "[encoded data removed]",
      "text/plain": [
       "<Figure size 216x216 with 1 Axes>"
      ]
     },
     "metadata": {
      "needs_background": "light"
     },
     "output_type": "display_data"
    }
   ],
   "source": [
    "plt.figure(figsize=(3, 3))\n",
    "\n",
    "sns.swarmplot(data=filtered_df.query('q_value_wFMRP_neglog10.notna()'), x='Group', y='q_value_wFMRP_neglog10', \n",
    "         palette={'High': 'yellowgreen', 'Low': 'grey'}, \n",
    "         size=5, order=['Low','High'])\n",
    "    \n",
    "\n",
    "\n",
    "plt.ylim(1, 2)\n",
    "plt.yticks([1,2], fontsize=16)\n",
    "sns.despine(right=True)\n",
    "plt.ylabel('')\n",
    "plt.xlabel('')\n",
    "plt.xticks([])\n",
    "plt.axhline(-np.log10(.05), color='red')\n",
    "\n",
    "plt.tight_layout()\n",
    "#plt.savefig('Pearson_p-value_wFMRP_brain.pdf', dpi=1000)\n",
    "plt.show()"
   ]
  },
  {
   "cell_type": "code",
   "execution_count": 14,
   "id": "0f1288eb-f2e5-455b-8cc8-46850153afaf",
   "metadata": {},
   "outputs": [
    {
     "name": "stdout",
     "output_type": "stream",
     "text": [
      "488    0.572908\n",
      "Name: Pearson_rho_wFMRP, dtype: float64\n",
      "Fit equation: y = 35.4375 + 5.5880 * 'PMBC [ng FMRP/ ug total protein]' + -5.8083 * 'ANGEL2'\n"
     ]
    },
    {
     "data": {
      "image/png": "[encoded data removed]",
      "text/plain": [
       "<Figure size 216x216 with 1 Axes>"
      ]
     },
     "metadata": {
      "needs_background": "light"
     },
     "output_type": "display_data"
    }
   ],
   "source": [
    "weights = get_weights(phenotype_methylation_genex, \"ANGEL2\")\n",
    "\n",
    "phenotype_methylation_genex[\"combined_predictor\"] = (\n",
    "    weights[\"PMBC [ng FMRP/ ug total protein]\"] * phenotype_methylation_genex[\"PMBC [ng FMRP/ ug total protein]\"] +\n",
    "    weights[\"ANGEL2\"] * phenotype_methylation_genex[\"ANGEL2\"] + 35.4375\n",
    ")\n",
    "plt.figure(figsize=(3, 3))\n",
    "g = sns.regplot(x=\"combined_predictor\", y=\"ABC\", data=phenotype_methylation_genex, ci=None, \n",
    "                line_kws={\"lw\": 2, 'color':\"orange\"}, scatter_kws={'linewidth': 0, 's': 75})\n",
    "\n",
    "g.set_yticks([0, 80])\n",
    "g.set_xticks([0, 80])\n",
    "g.set_ylabel('')\n",
    "g.set_xlabel('')\n",
    "g.spines['top'].set_visible(False)\n",
    "g.spines['right'].set_visible(False)\n",
    "#plt.savefig('ANGEL2_combined_predictor_ABC.pdf', dpi=1000)\n",
    "plt.show()"
   ]
  },
  {
   "cell_type": "code",
   "execution_count": 15,
   "id": "4f46891a-d701-475e-9d16-d8b78c2a9712",
   "metadata": {},
   "outputs": [
    {
     "data": {
      "text/html": [
       "<div>\n",
       "<style scoped>\n",
       "    .dataframe tbody tr th:only-of-type {\n",
       "        vertical-align: middle;\n",
       "    }\n",
       "\n",
       "    .dataframe tbody tr th {\n",
       "        vertical-align: top;\n",
       "    }\n",
       "\n",
       "    .dataframe thead th {\n",
       "        text-align: right;\n",
       "    }\n",
       "</style>\n",
       "<table border=\"1\" class=\"dataframe\">\n",
       "  <thead>\n",
       "    <tr style=\"text-align: right;\">\n",
       "      <th></th>\n",
       "      <th>Gene</th>\n",
       "      <th>p-value Wald</th>\n",
       "    </tr>\n",
       "  </thead>\n",
       "  <tbody>\n",
       "    <tr>\n",
       "      <th>0</th>\n",
       "      <td>KHDRBS2</td>\n",
       "      <td>0.009078</td>\n",
       "    </tr>\n",
       "    <tr>\n",
       "      <th>1</th>\n",
       "      <td>SLITRK4</td>\n",
       "      <td>0.050163</td>\n",
       "    </tr>\n",
       "    <tr>\n",
       "      <th>2</th>\n",
       "      <td>ANGEL2</td>\n",
       "      <td>0.143057</td>\n",
       "    </tr>\n",
       "  </tbody>\n",
       "</table>\n",
       "</div>"
      ],
      "text/plain": [
       "      Gene  p-value Wald\n",
       "0  KHDRBS2      0.009078\n",
       "1  SLITRK4      0.050163\n",
       "2   ANGEL2      0.143057"
      ]
     },
     "execution_count": 15,
     "metadata": {},
     "output_type": "execute_result"
    }
   ],
   "source": [
    "wald_results = []\n",
    "\n",
    "for gene in ['KHDRBS2', 'SLITRK4','ANGEL2']:\n",
    "    \n",
    "    # Define input and target\n",
    "    X2 = phenotype_methylation_genex[[\"PMBC [ng FMRP/ ug total protein]\", gene]]  \n",
    "    y = phenotype_methylation_genex[\"ABC\"]\n",
    "    \n",
    "    # Add intercept\n",
    "    X2 = sm.add_constant(X2)\n",
    "\n",
    "    # Fit full model\n",
    "    model_full = sm.OLS(y, X2).fit()\n",
    "\n",
    "    # Get coefficient and standard error for the gene\n",
    "    beta_gene = model_full.params[gene]\n",
    "    se_gene = model_full.bse[gene]\n",
    "\n",
    "    # Compute Wald statistic\n",
    "    Wald_stat = (beta_gene / se_gene) ** 2  \n",
    "    p_value_Wald = 2 * (1 - norm.cdf(abs(beta_gene / se_gene)))  \n",
    "\n",
    "    wald_results.append({\n",
    "        \"Gene\": gene,\n",
    "        \"p-value Wald\": p_value_Wald,\n",
    "    })\n",
    "\n",
    "wald_results_df = pd.DataFrame(wald_results)\n",
    "wald_results_df"
   ]
  },
  {
   "cell_type": "code",
   "execution_count": 16,
   "id": "7f070c88-d7e3-4741-9043-830b6e253358",
   "metadata": {},
   "outputs": [
    {
     "data": {
      "text/html": [
       "<div>\n",
       "<style scoped>\n",
       "    .dataframe tbody tr th:only-of-type {\n",
       "        vertical-align: middle;\n",
       "    }\n",
       "\n",
       "    .dataframe tbody tr th {\n",
       "        vertical-align: top;\n",
       "    }\n",
       "\n",
       "    .dataframe thead th {\n",
       "        text-align: right;\n",
       "    }\n",
       "</style>\n",
       "<table border=\"1\" class=\"dataframe\">\n",
       "  <thead>\n",
       "    <tr style=\"text-align: right;\">\n",
       "      <th></th>\n",
       "      <th>Gene</th>\n",
       "      <th>AIC_reduced</th>\n",
       "      <th>AIC_full</th>\n",
       "      <th>dAIC</th>\n",
       "    </tr>\n",
       "  </thead>\n",
       "  <tbody>\n",
       "    <tr>\n",
       "      <th>0</th>\n",
       "      <td>KHDRBS2</td>\n",
       "      <td>134.887275</td>\n",
       "      <td>130.149502</td>\n",
       "      <td>4.737772</td>\n",
       "    </tr>\n",
       "    <tr>\n",
       "      <th>1</th>\n",
       "      <td>SLITRK4</td>\n",
       "      <td>134.887275</td>\n",
       "      <td>132.750141</td>\n",
       "      <td>2.137134</td>\n",
       "    </tr>\n",
       "    <tr>\n",
       "      <th>2</th>\n",
       "      <td>ANGEL2</td>\n",
       "      <td>134.887275</td>\n",
       "      <td>134.443986</td>\n",
       "      <td>0.443289</td>\n",
       "    </tr>\n",
       "  </tbody>\n",
       "</table>\n",
       "</div>"
      ],
      "text/plain": [
       "      Gene  AIC_reduced    AIC_full      dAIC\n",
       "0  KHDRBS2   134.887275  130.149502  4.737772\n",
       "1  SLITRK4   134.887275  132.750141  2.137134\n",
       "2   ANGEL2   134.887275  134.443986  0.443289"
      ]
     },
     "execution_count": 16,
     "metadata": {},
     "output_type": "execute_result"
    }
   ],
   "source": [
    "results = []\n",
    "\n",
    "for gene in ['KHDRBS2', 'SLITRK4','ANGEL2']:\n",
    "    \n",
    "    # Define input and target\n",
    "    X1 = phenotype_methylation_genex[[\"PMBC [ng FMRP/ ug total protein]\"]]  # Reduced model\n",
    "    X2 = phenotype_methylation_genex[[\"PMBC [ng FMRP/ ug total protein]\", gene]]  # Full model\n",
    "    y = phenotype_methylation_genex[\"ABC\"]\n",
    "    \n",
    "    # Add intercept\n",
    "    X1 = sm.add_constant(X1)\n",
    "    X2 = sm.add_constant(X2)\n",
    "\n",
    "    # Fit models\n",
    "    model_reduced = sm.OLS(y, X1).fit()\n",
    "    model_full = sm.OLS(y, X2).fit()\n",
    "\n",
    "    # Compute AIC\n",
    "    AIC_reduced, AIC_full = model_reduced.aic, model_full.aic\n",
    "\n",
    "    # Determine improvement\n",
    "    delta_AIC = AIC_reduced - AIC_full\n",
    "\n",
    "    results.append({\n",
    "        \"Gene\": gene,\n",
    "        \"AIC_reduced\": AIC_reduced,\n",
    "        \"AIC_full\": AIC_full,\n",
    "        \"dAIC\": delta_AIC,\n",
    "    })\n",
    "\n",
    "results_df = pd.DataFrame(results)\n",
    "results_df"
   ]
  },
  {
   "cell_type": "code",
   "execution_count": null,
   "id": "fd90b570-3ca4-49fc-85e9-243d1443aa6e",
   "metadata": {},
   "outputs": [],
   "source": []
  }
 ],
 "metadata": {
  "kernelspec": {
   "display_name": "Python 3 (ipykernel)",
   "language": "python",
   "name": "python3"
  },
  "language_info": {
   "codemirror_mode": {
    "name": "ipython",
    "version": 3
   },
   "file_extension": ".py",
   "mimetype": "text/x-python",
   "name": "python",
   "nbconvert_exporter": "python",
   "pygments_lexer": "ipython3",
   "version": "3.8.8"
  }
 },
 "nbformat": 4,
 "nbformat_minor": 5
}
