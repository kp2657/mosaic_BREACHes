{
 "cells": [
  {
   "cell_type": "code",
   "execution_count": 1,
   "id": "10c7da62",
   "metadata": {
    "executionInfo": {
     "elapsed": 322,
     "status": "ok",
     "timestamp": 1705429195837,
     "user": {
      "displayName": "Kenneth Pham",
      "userId": "16924202224199989267"
     },
     "user_tz": 300
    },
    "id": "10c7da62"
   },
   "outputs": [],
   "source": [
    "import pandas as pd\n",
    "import matplotlib.pyplot as plt\n",
    "import seaborn as sns\n",
    "import os\n",
    "from scipy.cluster.hierarchy import linkage, dendrogram\n",
    "import numpy as np\n",
    "from scipy import stats\n",
    "from functools import reduce\n",
    "from scipy.stats import pearsonr\n",
    "\n",
    "plt.rcParams['pdf.fonttype'] = 42\n",
    "plt.rcParams['ps.fonttype'] = 42\n",
    "plt.rcParams['font.family'] = 'Helvetica'"
   ]
  },
  {
   "cell_type": "code",
   "execution_count": 2,
   "id": "a3f57a74",
   "metadata": {},
   "outputs": [],
   "source": [
    "my_colors = {'NL_18':'tan', \n",
    "             'NL_25':'goldenrod', \n",
    "             'NL_27':'gold', \n",
    "             'FXS_421':'lightblue', \n",
    "             'FXS_426':'cornflowerblue', \n",
    "             'FXS_470':'b',\n",
    "             'FXS_448':'purple'}\n",
    "genotype_order = ('NL_18', \n",
    "             'NL_25', \n",
    "             'NL_27', \n",
    "             'FXS_421', \n",
    "             'FXS_426', \n",
    "             'FXS_470',\n",
    "             'FXS_448')"
   ]
  },
  {
   "cell_type": "code",
   "execution_count": 3,
   "id": "d730a218",
   "metadata": {},
   "outputs": [],
   "source": [
    "NL_18_CGG = pd.read_csv('CGG_count/b.n.176.txt', sep='\\t', header=None)\n",
    "NL_27_CGG = pd.read_csv('CGG_count/b.n.barcode01.txt', sep='\\t', header=None)\n",
    "NL_25_CGG = pd.read_csv('CGG_count/158.txt', sep='\\t', header=None)\n",
    "FXS_421_CGG = pd.read_csv('CGG_count/b.n.135.txt', sep='\\t', header=None)\n",
    "FXS_426_CGG = pd.read_csv('CGG_count/b.n.fsw.txt', sep='\\t', header=None)\n",
    "FXS_470_CGG = pd.read_csv('CGG_count/b.n.barcode03.txt', sep='\\t', header=None)\n",
    "mmFXS_CGG = pd.read_csv('CGG_count/b.n.gmo.txt', sep='\\t', header=None)\n",
    "NL_18_CGG['Genotype'] = 'NL_18'\n",
    "NL_27_CGG['Genotype'] = 'NL_27'\n",
    "NL_25_CGG['Genotype'] = 'NL_25'\n",
    "FXS_421_CGG['Genotype'] = 'FXS_421'\n",
    "FXS_426_CGG['Genotype'] = 'FXS_426'\n",
    "FXS_470_CGG['Genotype'] = 'FXS_470'\n",
    "mmFXS_CGG['Genotype'] = 'FXS_448'\n",
    "CGG_counts = pd.concat([NL_18_CGG, NL_25_CGG, NL_27_CGG,\n",
    "                        FXS_421_CGG, FXS_426_CGG, FXS_470_CGG, \n",
    "                        mmFXS_CGG], ignore_index=True)\n",
    "CGG_counts = CGG_counts.rename(columns={1: 'CGG_count'})"
   ]
  },
  {
   "cell_type": "code",
   "execution_count": 4,
   "id": "0772d4ef",
   "metadata": {},
   "outputs": [
    {
     "name": "stderr",
     "output_type": "stream",
     "text": [
      "/var/folders/v1/3py01kc1619d4sj6bsmhx3br0000gn/T/ipykernel_57072/2450144831.py:2: FutureWarning: \n",
      "\n",
      "Passing `palette` without assigning `hue` is deprecated and will be removed in v0.14.0. Assign the `x` variable to `hue` and set `legend=False` for the same effect.\n",
      "\n",
      "  f = sns.swarmplot(data=CGG_counts.query(\"Genotype == 'FXS_421' | Genotype == 'FXS_426' | Genotype == 'FXS_470' | Genotype == 'FXS_448'\"),\n",
      "/var/folders/v1/3py01kc1619d4sj6bsmhx3br0000gn/T/ipykernel_57072/2450144831.py:5: FutureWarning: \n",
      "\n",
      "Passing `palette` without assigning `hue` is deprecated and will be removed in v0.14.0. Assign the `x` variable to `hue` and set `legend=False` for the same effect.\n",
      "\n",
      "  sns.boxplot(data=CGG_counts.query(\"Genotype == 'FXS_421' | Genotype == 'FXS_426' | Genotype == 'FXS_470' | Genotype == 'FXS_448'\"),\n",
      "/opt/anaconda3/lib/python3.8/site-packages/seaborn/categorical.py:3399: UserWarning: 6.2% of the points cannot be placed; you may want to decrease the size of the markers or use stripplot.\n",
      "  warnings.warn(msg, UserWarning)\n"
     ]
    },
    {
     "data": {
      "image/png": "[encoded data removed]",
      "text/plain": [
       "<Figure size 288x360 with 1 Axes>"
      ]
     },
     "metadata": {
      "needs_background": "light"
     },
     "output_type": "display_data"
    }
   ],
   "source": [
    "plt.figure(figsize=(4, 5))\n",
    "f = sns.swarmplot(data=CGG_counts.query(\"Genotype == 'FXS_421' | Genotype == 'FXS_426' | Genotype == 'FXS_470' | Genotype == 'FXS_448'\"),\n",
    "                  x='Genotype', y='CGG_count', palette=my_colors,\n",
    "                 size=5)\n",
    "sns.boxplot(data=CGG_counts.query(\"Genotype == 'FXS_421' | Genotype == 'FXS_426' | Genotype == 'FXS_470' | Genotype == 'FXS_448'\"), \n",
    "            x='Genotype', y='CGG_count', palette=my_colors, fill=False)\n",
    "plt.axhline(y=200, color='red')\n",
    "plt.ylim(0, 900)\n",
    "plt.yticks([0,200,900], fontsize=16)\n",
    "f.set(xlabel=None)\n",
    "f.set(ylabel=None)\n",
    "f.set_xticks([])\n",
    "f.spines['top'].set_visible(False)\n",
    "f.spines['right'].set_visible(False)\n",
    "#f.figure.savefig('Nanopore_CGG_count_FXS_4.pdf',dpi=1000)"
   ]
  },
  {
   "cell_type": "code",
   "execution_count": 5,
   "id": "c080d39a",
   "metadata": {},
   "outputs": [],
   "source": [
    "NL_18_np = pd.read_csv('nanopolish/176.tsv', sep='\\t')\n",
    "NL_27_np = pd.read_csv('nanopolish/barcode01.tsv', sep='\\t')\n",
    "NL_25_np = pd.read_csv('nanopolish/158.tsv', sep='\\t')\n",
    "FXS_421_np = pd.read_csv('nanopolish/135.tsv', sep='\\t')\n",
    "FXS_426_np = pd.read_csv('nanopolish/fsw.tsv', sep='\\t')\n",
    "FXS_470_np = pd.read_csv('nanopolish/barcode03.tsv', sep='\\t')\n",
    "combined_df_GM0 = pd.read_csv('nanopolish/9497_nanopolish.tsv', sep='\\t')\n",
    "nanopolish = pd.concat([NL_18_np, NL_25_np, NL_27_np, \n",
    "                        FXS_421_np,FXS_426_np,FXS_470_np,\n",
    "                        combined_df_GM0,\n",
    "                       ], ignore_index=True)\n",
    "strique = pd.read_csv('strique.txt', sep='\\t')\n",
    "strique_4 = strique[(strique['score_prefix'] > 4) & (strique['score_suffix'] > 4)]\n",
    "CGG_count_nanopolish = pd.merge(CGG_counts, nanopolish, left_on=0, right_on='read_name', how='inner')\n",
    "CGG_count_nanopolish_filtered = CGG_count_nanopolish[CGG_count_nanopolish['read_name'].isin(strique_4['read_name'])]"
   ]
  },
  {
   "cell_type": "code",
   "execution_count": 8,
   "id": "ed6830b3",
   "metadata": {},
   "outputs": [
    {
     "name": "stderr",
     "output_type": "stream",
     "text": [
      "/var/folders/v1/3py01kc1619d4sj6bsmhx3br0000gn/T/ipykernel_57072/4016103205.py:6: SettingWithCopyWarning: \n",
      "A value is trying to be set on a copy of a slice from a DataFrame.\n",
      "Try using .loc[row_indexer,col_indexer] = value instead\n",
      "\n",
      "See the caveats in the documentation: https://pandas.pydata.org/pandas-docs/stable/user_guide/indexing.html#returning-a-view-versus-a-copy\n",
      "  CpGisland['read_name_count'] = CpGisland['read_name'].map(read_name_counts)\n",
      "/var/folders/v1/3py01kc1619d4sj6bsmhx3br0000gn/T/ipykernel_57072/4016103205.py:7: SettingWithCopyWarning: \n",
      "A value is trying to be set on a copy of a slice from a DataFrame.\n",
      "Try using .loc[row_indexer,col_indexer] = value instead\n",
      "\n",
      "See the caveats in the documentation: https://pandas.pydata.org/pandas-docs/stable/user_guide/indexing.html#returning-a-view-versus-a-copy\n",
      "  CpGisland['methyl_bool_int'] = (CpGisland['log_lik_ratio']>.1).astype(int)\n",
      "/var/folders/v1/3py01kc1619d4sj6bsmhx3br0000gn/T/ipykernel_57072/4016103205.py:8: SettingWithCopyWarning: \n",
      "A value is trying to be set on a copy of a slice from a DataFrame.\n",
      "Try using .loc[row_indexer,col_indexer] = value instead\n",
      "\n",
      "See the caveats in the documentation: https://pandas.pydata.org/pandas-docs/stable/user_guide/indexing.html#returning-a-view-versus-a-copy\n",
      "  CpGisland['promoter_methylation_count'] = CpGisland.groupby('read_name')['methyl_bool_int'].transform('sum')\n",
      "/var/folders/v1/3py01kc1619d4sj6bsmhx3br0000gn/T/ipykernel_57072/4016103205.py:9: SettingWithCopyWarning: \n",
      "A value is trying to be set on a copy of a slice from a DataFrame.\n",
      "Try using .loc[row_indexer,col_indexer] = value instead\n",
      "\n",
      "See the caveats in the documentation: https://pandas.pydata.org/pandas-docs/stable/user_guide/indexing.html#returning-a-view-versus-a-copy\n",
      "  CpGisland['promoter_methylation_denom'] = CpGisland.groupby('read_name')['num_calling_strands'].transform('sum')\n"
     ]
    }
   ],
   "source": [
    "#CpGisland analysis \n",
    "#chrX:147911574-147912682\n",
    "CpGisland = CGG_count_nanopolish_filtered[(CGG_count_nanopolish_filtered['start'] > 147911574) \n",
    "                                  & (CGG_count_nanopolish_filtered['end'] < 147912682)]\n",
    "read_name_counts = CpGisland['read_name'].value_counts()\n",
    "CpGisland['read_name_count'] = CpGisland['read_name'].map(read_name_counts)\n",
    "CpGisland['methyl_bool_int'] = (CpGisland['log_lik_ratio']>.1).astype(int)\n",
    "CpGisland['promoter_methylation_count'] = CpGisland.groupby('read_name')['methyl_bool_int'].transform('sum')\n",
    "CpGisland['promoter_methylation_denom'] = CpGisland.groupby('read_name')['num_calling_strands'].transform('sum')"
   ]
  },
  {
   "cell_type": "code",
   "execution_count": 9,
   "id": "32a6191f",
   "metadata": {},
   "outputs": [],
   "source": [
    "CpGisland_trimmed=CpGisland[[\n",
    " 'CGG_count',\n",
    " 'Genotype',\n",
    " 'read_name',\n",
    " 'promoter_methylation_count',\n",
    "    'promoter_methylation_denom']].drop_duplicates()\n",
    "CpGisland_trimmed['promoter_methylation_%'] = (CpGisland_trimmed['promoter_methylation_count']/CpGisland_trimmed['promoter_methylation_denom']) * 100"
   ]
  },
  {
   "cell_type": "code",
   "execution_count": 10,
   "id": "1aad7d59",
   "metadata": {},
   "outputs": [
    {
     "name": "stderr",
     "output_type": "stream",
     "text": [
      "/var/folders/v1/3py01kc1619d4sj6bsmhx3br0000gn/T/ipykernel_57072/4168757385.py:5: FutureWarning: \n",
      "\n",
      "Passing `palette` without assigning `hue` is deprecated and will be removed in v0.14.0. Assign the `x` variable to `hue` and set `legend=False` for the same effect.\n",
      "\n",
      "  sns.boxplot(data=CpGisland_trimmed,\n"
     ]
    },
    {
     "data": {
      "image/png": "[encoded data removed]",
      "text/plain": [
       "<Figure size 360x288 with 1 Axes>"
      ]
     },
     "metadata": {
      "needs_background": "light"
     },
     "output_type": "display_data"
    }
   ],
   "source": [
    "plt.figure(figsize=(5, 4))\n",
    "s=sns.stripplot(data=CpGisland_trimmed,\n",
    "    x='Genotype', y='promoter_methylation_%', hue='Genotype',palette=my_colors, \n",
    "              size=3)\n",
    "sns.boxplot(data=CpGisland_trimmed, \n",
    "            x='Genotype', y='promoter_methylation_%', palette=my_colors, fill=False,\n",
    "           showfliers=False)\n",
    "plt.ylim(-1,100)\n",
    "plt.yticks([0,100], fontsize=16)\n",
    "s.set(xlabel=None) \n",
    "s.set(ylabel=None)\n",
    "s.set_xticks([]) \n",
    "s.spines['top'].set_visible(False)\n",
    "s.spines['right'].set_visible(False)\n",
    "#s.figure.savefig('Nanopore_promoter_methylation.pdf',dpi=1000)\n",
    "plt.show()"
   ]
  },
  {
   "cell_type": "code",
   "execution_count": 11,
   "id": "2d29d5cc",
   "metadata": {},
   "outputs": [],
   "source": [
    "RNAseq = pd.read_csv('DESEQ_melted.txt', sep='\\t')\n",
    "rna_mean = RNAseq.query(\"gene_name == 'FMR1'\").groupby(['Genotype', 'gene_name'])['value'].mean().unstack()\n",
    "cpg_mean = CpGisland_trimmed.groupby('Genotype')['promoter_methylation_%'].mean()\n",
    "rna_mean_df = rna_mean.reset_index()\n",
    "cpg_mean_df = cpg_mean.reset_index()\n",
    "rna_methylation_df = pd.merge(rna_mean_df, cpg_mean_df, on='Genotype')"
   ]
  },
  {
   "cell_type": "code",
   "execution_count": 13,
   "id": "3b59e8fd",
   "metadata": {},
   "outputs": [
    {
     "data": {
      "image/png": "[encoded data removed]",
      "text/plain": [
       "<Figure size 468x576 with 1 Axes>"
      ]
     },
     "metadata": {
      "needs_background": "light"
     },
     "output_type": "display_data"
    }
   ],
   "source": [
    "plt.figure(figsize=(6.5, 8))\n",
    "s=sns.scatterplot(data=rna_methylation_df,\n",
    "    hue='Genotype', x='promoter_methylation_%', y='FMR1',\n",
    "                  palette=my_colors,s=300, legend=False)\n",
    "pearson_corr, _ = pearsonr(rna_methylation_df['promoter_methylation_%'], rna_methylation_df['FMR1'])\n",
    "#plt.annotate(f'ρ ={pearson_corr:.2f}', xy=(0.75, 1), xycoords='axes fraction', \n",
    "#             fontsize=30, ha='center', va='top')\n",
    "plt.ylim(0,1800)\n",
    "plt.yticks([0,1800], fontsize=24)\n",
    "plt.xticks([0,100], fontsize=24)\n",
    "plt.xlim(0,100)\n",
    "s.set(xlabel=None)\n",
    "s.set(ylabel=None)\n",
    "#s.legend(loc=1)\n",
    "s.spines['top'].set_visible(False)\n",
    "s.spines['right'].set_visible(False)\n",
    "#s.figure.savefig('Nanopore_promoter_methylation_vs_FMR1.pdf',dpi=1000)\n",
    "plt.show()"
   ]
  },
  {
   "cell_type": "code",
   "execution_count": null,
   "id": "b57a3261-3880-4c18-b3d4-4c7b288b1bc8",
   "metadata": {},
   "outputs": [],
   "source": []
  }
 ],
 "metadata": {
  "colab": {
   "provenance": []
  },
  "kernelspec": {
   "display_name": "Python 3 (ipykernel)",
   "language": "python",
   "name": "python3"
  },
  "language_info": {
   "codemirror_mode": {
    "name": "ipython",
    "version": 3
   },
   "file_extension": ".py",
   "mimetype": "text/x-python",
   "name": "python",
   "nbconvert_exporter": "python",
   "pygments_lexer": "ipython3",
   "version": "3.8.8"
  }
 },
 "nbformat": 4,
 "nbformat_minor": 5
}
