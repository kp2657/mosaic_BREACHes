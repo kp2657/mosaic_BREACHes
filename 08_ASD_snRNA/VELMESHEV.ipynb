{
 "cells": [
  {
   "cell_type": "code",
   "execution_count": 1,
   "id": "b6393521-4bc2-43d1-9e42-52ad59aaf5fd",
   "metadata": {},
   "outputs": [],
   "source": [
    "import pandas as pd\n",
    "import matplotlib.pyplot as plt\n",
    "import seaborn as sns\n",
    "import numpy as np\n",
    "import os\n",
    "import random\n",
    "import scipy.stats as stats\n",
    "import scanpy as sc\n",
    "from scipy.stats import pearsonr\n",
    "plt.rcParams['pdf.fonttype'] = 42\n",
    "plt.rcParams['ps.fonttype'] = 42\n",
    "plt.rcParams['font.family'] = 'Helvetica'"
   ]
  },
  {
   "cell_type": "code",
   "execution_count": 51,
   "id": "f025d094-a7cb-4fce-b7d9-36936c032514",
   "metadata": {},
   "outputs": [],
   "source": [
    "#from DOI: 10.1126/science.aav8130\n",
    "snRNA = sc.read_text(\"exprMatrix.tsv.gz\")\n",
    "meta = pd.read_csv(\"meta.tsv\", sep=\"\\t\")"
   ]
  },
  {
   "cell_type": "code",
   "execution_count": 52,
   "id": "8fbf76b9-c125-48fe-86e7-8563b7b855cf",
   "metadata": {},
   "outputs": [],
   "source": [
    "snRNA.var = meta"
   ]
  },
  {
   "cell_type": "code",
   "execution_count": 53,
   "id": "7bcc232b-30e4-46b6-b302-54e533b8973f",
   "metadata": {},
   "outputs": [],
   "source": [
    "snRNA.obs.index = [x.split(\"|\")[1] for x in snRNA.obs.index.tolist()]"
   ]
  },
  {
   "cell_type": "code",
   "execution_count": 133,
   "id": "8dc0ffe9-464a-424d-912c-40043635856d",
   "metadata": {},
   "outputs": [],
   "source": [
    "plotting = snRNA['SLITRK4'].to_df().T\n",
    "plotting['ANGEL2'] = snRNA['ANGEL2'].to_df().T\n",
    "plotting['KHDRBS2'] = snRNA['KHDRBS2'].to_df().T\n",
    "plotting['PROC'] = snRNA['PROC'].to_df().T\n",
    "plotting['LDHB'] = snRNA['LDHB'].to_df().T\n",
    "plotting['Diagnosis'] = snRNA.var['diagnosis'].values\n",
    "plotting['cluster'] = snRNA.var['cluster'].values\n",
    "plotting['individual'] = snRNA.var['individual'].values\n",
    "plotting['sex'] = snRNA.var['sex'].values"
   ]
  },
  {
   "cell_type": "code",
   "execution_count": 134,
   "id": "8ede4613-142e-4ed9-9fb8-eb949236b58d",
   "metadata": {},
   "outputs": [],
   "source": [
    "plotting.to_csv('plotting.csv')"
   ]
  },
  {
   "cell_type": "code",
   "execution_count": 135,
   "id": "1078e80f-f537-4618-a593-f35e0f5553ed",
   "metadata": {},
   "outputs": [],
   "source": [
    "plotting_L23 = plotting.query(\"`cluster` == 'L2/3'\")"
   ]
  },
  {
   "cell_type": "code",
   "execution_count": 136,
   "id": "5493aac0-c305-43a4-93a8-d50fa3e8e29f",
   "metadata": {},
   "outputs": [],
   "source": [
    "plotting_L23.to_csv('plotting_L23.csv')"
   ]
  },
  {
   "cell_type": "code",
   "execution_count": 278,
   "id": "ae7e822e-8b82-44a1-af3d-32bc44b47187",
   "metadata": {},
   "outputs": [],
   "source": [
    "plotting_L23 = pd.read_csv('plotting_L23.csv')"
   ]
  },
  {
   "cell_type": "code",
   "execution_count": 279,
   "id": "56e87cd3-e45c-44cd-b5f7-4fb71c627cd7",
   "metadata": {},
   "outputs": [],
   "source": [
    "plotting_L23 = plotting_L23.drop(columns=['cluster']).drop(columns=['sex'])"
   ]
  },
  {
   "cell_type": "code",
   "execution_count": 280,
   "id": "98fc0b7e-5be8-4078-b7f2-25d3b9773527",
   "metadata": {},
   "outputs": [],
   "source": [
    "plotting_L23['SLITRK4'] = 2 ** plotting_L23['SLITRK4'] - 1\n",
    "plotting_L23['KHDRBS2'] = 2 ** plotting_L23['KHDRBS2']- 1\n",
    "plotting_L23['PROC'] = 2 ** plotting_L23['PROC'] - 1\n",
    "plotting_L23['LDHB'] = 2 ** plotting_L23['LDHB'] - 1"
   ]
  },
  {
   "cell_type": "code",
   "execution_count": 259,
   "id": "5869d447-fa60-4e95-ad15-abb1ad3dcba5",
   "metadata": {},
   "outputs": [
    {
     "name": "stderr",
     "output_type": "stream",
     "text": [
      "1 extra bytes in post.stringData array\n",
      "'created' timestamp seems very low; regarding as unix timestamp\n",
      "Zapf NOT subset; don't know how to subset; dropped\n",
      "feat NOT subset; don't know how to subset; dropped\n",
      "morx NOT subset; don't know how to subset; dropped\n"
     ]
    },
    {
     "data": {
      "image/png": "[encoded data removed]",
      "text/plain": [
       "<Figure size 288x576 with 1 Axes>"
      ]
     },
     "metadata": {
      "needs_background": "light"
     },
     "output_type": "display_data"
    }
   ],
   "source": [
    "plt.figure(figsize=(4,8))\n",
    "sns.boxplot(plotting_L23, x='Diagnosis', y='SLITRK4', fill=False, width=0.5, showfliers=False, \n",
    "            hue='Diagnosis', palette=['darkorange', 'darkblue'], linewidth=4)\n",
    "sns.violinplot(plotting_L23, x='Diagnosis', y='SLITRK4', fill=False, inner=None, \n",
    "            hue='Diagnosis', palette=['peachpuff', 'lightblue'], cut=0, linewidth=4)\n",
    "plt.ylim(-0.4,4)\n",
    "plt.yticks([4], fontsize=24)\n",
    "plt.ylabel('')\n",
    "plt.xticks([])\n",
    "plt.xlabel('')\n",
    "\n",
    "sns.despine(right=True)\n",
    "#plt.savefig('SLITRK4_snRNA.pdf', dpi=1000)"
   ]
  },
  {
   "cell_type": "code",
   "execution_count": 260,
   "id": "3452490e-8ffb-43d0-9517-96cd8df83f2b",
   "metadata": {},
   "outputs": [
    {
     "name": "stderr",
     "output_type": "stream",
     "text": [
      "1 extra bytes in post.stringData array\n",
      "'created' timestamp seems very low; regarding as unix timestamp\n",
      "Zapf NOT subset; don't know how to subset; dropped\n",
      "feat NOT subset; don't know how to subset; dropped\n",
      "morx NOT subset; don't know how to subset; dropped\n"
     ]
    },
    {
     "data": {
      "image/png": "[encoded data removed]",
      "text/plain": [
       "<Figure size 288x576 with 1 Axes>"
      ]
     },
     "metadata": {
      "needs_background": "light"
     },
     "output_type": "display_data"
    }
   ],
   "source": [
    "plt.figure(figsize=(4,8))\n",
    "sns.boxplot(plotting_L23, x='Diagnosis', y='KHDRBS2', fill=False, width=0.5, showfliers=False, \n",
    "            hue='Diagnosis', palette=['darkorange', 'darkblue'], linewidth=4)\n",
    "sns.violinplot(plotting_L23, x='Diagnosis', y='KHDRBS2', fill=False, inner=None, \n",
    "            hue='Diagnosis', palette=['peachpuff', 'lightblue'], cut=1, linewidth=4)\n",
    "plt.ylim(-4,40)\n",
    "plt.yticks([40], fontsize=24)\n",
    "plt.ylabel('')\n",
    "plt.xticks([])\n",
    "plt.xlabel('')\n",
    "\n",
    "sns.despine(right=True)\n",
    "#plt.savefig('KHDRBS2_snRNA.pdf', dpi=1000)"
   ]
  },
  {
   "cell_type": "code",
   "execution_count": 263,
   "id": "2fe2a9da-a810-4ac2-87db-f32f4bc99b0d",
   "metadata": {},
   "outputs": [
    {
     "name": "stderr",
     "output_type": "stream",
     "text": [
      "1 extra bytes in post.stringData array\n",
      "'created' timestamp seems very low; regarding as unix timestamp\n",
      "Zapf NOT subset; don't know how to subset; dropped\n",
      "feat NOT subset; don't know how to subset; dropped\n",
      "morx NOT subset; don't know how to subset; dropped\n"
     ]
    },
    {
     "data": {
      "image/png": "[encoded data removed]",
      "text/plain": [
       "<Figure size 288x576 with 1 Axes>"
      ]
     },
     "metadata": {
      "needs_background": "light"
     },
     "output_type": "display_data"
    }
   ],
   "source": [
    "plt.figure(figsize=(4,8))\n",
    "sns.boxplot(plotting_L23, x='Diagnosis', y='PROC', fill=False, width=0.5, showfliers=False, \n",
    "            hue='Diagnosis', palette=['darkorange', 'darkblue'], linewidth=4)\n",
    "sns.violinplot(plotting_L23, x='Diagnosis', y='PROC', fill=False, inner=None, \n",
    "            hue='Diagnosis', palette=['peachpuff', 'lightblue'], linewidth=4)\n",
    "plt.ylim(-0.1,2)\n",
    "plt.yticks([2], fontsize=24)\n",
    "plt.ylabel('')\n",
    "plt.xticks([])\n",
    "plt.xlabel('')\n",
    "\n",
    "sns.despine(right=True)\n",
    "#plt.savefig('PROC_snRNA.pdf', dpi=1000)"
   ]
  },
  {
   "cell_type": "code",
   "execution_count": 264,
   "id": "511e022e-c974-48b6-9b3d-f7439c5360de",
   "metadata": {},
   "outputs": [
    {
     "name": "stderr",
     "output_type": "stream",
     "text": [
      "1 extra bytes in post.stringData array\n",
      "'created' timestamp seems very low; regarding as unix timestamp\n",
      "Zapf NOT subset; don't know how to subset; dropped\n",
      "feat NOT subset; don't know how to subset; dropped\n",
      "morx NOT subset; don't know how to subset; dropped\n"
     ]
    },
    {
     "data": {
      "image/png": "[encoded data removed]",
      "text/plain": [
       "<Figure size 288x576 with 1 Axes>"
      ]
     },
     "metadata": {
      "needs_background": "light"
     },
     "output_type": "display_data"
    }
   ],
   "source": [
    "plt.figure(figsize=(4,8))\n",
    "sns.boxplot(plotting_L23, x='Diagnosis', y='LDHB', fill=False, width=0.5, showfliers=False, \n",
    "            hue='Diagnosis', palette=['darkorange', 'darkblue'], linewidth=4)\n",
    "sns.violinplot(plotting_L23, x='Diagnosis', y='LDHB', fill=False, inner=None, \n",
    "            hue='Diagnosis', palette=['peachpuff', 'lightblue'], linewidth=4)\n",
    "plt.ylim(-0.4,4)\n",
    "plt.yticks([4], fontsize=24)\n",
    "plt.ylabel('')\n",
    "plt.xticks([])\n",
    "plt.xlabel('')\n",
    "\n",
    "sns.despine(right=True)\n",
    "#plt.savefig('LDHB_snRNA.pdf', dpi=1000)"
   ]
  },
  {
   "cell_type": "code",
   "execution_count": 148,
   "id": "62d85ab2-919f-4276-86b0-43b03dc34139",
   "metadata": {},
   "outputs": [],
   "source": [
    "control_means = plotting_L23[plotting_L23['Diagnosis'] == 'Control'].groupby('individual').mean(numeric_only=True).mean()\n",
    "\n",
    "def compute_logFC(group):\n",
    "    logFC_values = np.log2(group.iloc[:, :].mean() / control_means)\n",
    "    return pd.Series(logFC_values, index=group.columns[:])\n",
    "\n",
    "logFC_df = plotting_L23[plotting_L23['Diagnosis'] == 'ASD'].groupby(['individual', 'Diagnosis']).apply(compute_logFC).reset_index()"
   ]
  },
  {
   "cell_type": "code",
   "execution_count": 281,
   "id": "2f940864-e6cf-49f2-8d3a-ba5c7762ad90",
   "metadata": {},
   "outputs": [],
   "source": [
    "#from DOI: 10.1126/science.aav8130\n",
    "ASD_severity = pd.read_excel(\"aav8130_data-s1.xlsx\", sheet_name=0)"
   ]
  },
  {
   "cell_type": "code",
   "execution_count": 282,
   "id": "ff12cc63-e768-407c-8b17-5c7e92fd6406",
   "metadata": {},
   "outputs": [],
   "source": [
    "logFC_df_ASD_severity = logFC_df.merge(ASD_severity, left_on='individual', right_on='Patient ID')"
   ]
  },
  {
   "cell_type": "code",
   "execution_count": 286,
   "id": "56c6fd49-7f96-4735-91ec-cdd64c518e9c",
   "metadata": {},
   "outputs": [],
   "source": [
    "ranked_df = logFC_df_ASD_severity[['A','B verbal', 'B nonverbal', 'C', 'D']].rank(method='min', axis=0)\n",
    "logFC_df_ASD_severity['combined_clinical_score'] = -ranked_df.sum(axis=1)\n",
    "logFC_df_ASD_severity = logFC_df_ASD_severity[logFC_df_ASD_severity['combined_clinical_score'] != 0]"
   ]
  },
  {
   "cell_type": "code",
   "execution_count": 267,
   "id": "be6b98c7-bf43-47dc-8b2e-c7f1d7befd3a",
   "metadata": {},
   "outputs": [
    {
     "name": "stderr",
     "output_type": "stream",
     "text": [
      "1 extra bytes in post.stringData array\n",
      "'created' timestamp seems very low; regarding as unix timestamp\n",
      "Zapf NOT subset; don't know how to subset; dropped\n",
      "feat NOT subset; don't know how to subset; dropped\n",
      "morx NOT subset; don't know how to subset; dropped\n",
      "1 extra bytes in post.stringData array\n",
      "'created' timestamp seems very low; regarding as unix timestamp\n",
      "Zapf NOT subset; don't know how to subset; dropped\n",
      "feat NOT subset; don't know how to subset; dropped\n",
      "morx NOT subset; don't know how to subset; dropped\n"
     ]
    },
    {
     "data": {
      "image/png": "[encoded data removed]",
      "text/plain": [
       "<Figure size 288x288 with 1 Axes>"
      ]
     },
     "metadata": {
      "needs_background": "light"
     },
     "output_type": "display_data"
    },
    {
     "data": {
      "image/png": "[encoded data removed]",
      "text/plain": [
       "<Figure size 288x288 with 1 Axes>"
      ]
     },
     "metadata": {
      "needs_background": "light"
     },
     "output_type": "display_data"
    }
   ],
   "source": [
    "plt.figure(figsize=(4,4))\n",
    "sns.regplot(data=logFC_df_ASD_severity, x='KHDRBS2', y='combined_clinical_score', ci=False,\n",
    "                line_kws={\"lw\": 2, 'color':\"red\"}, scatter_kws={'linewidth': 0, 's': 75})\n",
    "plt.ylabel('')\n",
    "plt.xlabel('')\n",
    "rho, pval = pearsonr(logFC_df_ASD_severity['KHDRBS2'], logFC_df_ASD_severity['combined_clinical_score'])\n",
    "plt.text(-.8, -35, f\"$\\\\rho$ = {rho:.2f}\\np = {pval:.2f}\", fontsize=19, color='red')\n",
    "plt.xlim(-1,1)\n",
    "plt.yticks([])\n",
    "plt.xticks([-1,0,1], fontsize=19)\n",
    "sns.despine(right=True)\n",
    "#plt.savefig('KHDRBS2_ADIR.pdf', dpi=1000)\n",
    "\n",
    "plt.figure(figsize=(4,4))\n",
    "sns.regplot(data=logFC_df_ASD_severity, x='SLITRK4', y='combined_clinical_score', ci=False,\n",
    "                line_kws={\"lw\": 2, 'color':\"red\"}, scatter_kws={'linewidth': 0, 's': 75})\n",
    "plt.ylabel('')\n",
    "plt.xlabel('')\n",
    "rho, pval = pearsonr(logFC_df_ASD_severity['SLITRK4'], logFC_df_ASD_severity['combined_clinical_score'])\n",
    "plt.text(-.8, -35, f\"$\\\\rho$ = {rho:.2f}\\np = {pval:.2f}\", fontsize=19, color='red')\n",
    "plt.yticks([])\n",
    "plt.xlim(-1,1)\n",
    "plt.xticks([-1,0,1], fontsize=19)\n",
    "sns.despine(right=True)\n",
    "#plt.savefig('SLITRK4_ADIR.pdf', dpi=1000)"
   ]
  },
  {
   "cell_type": "code",
   "execution_count": 268,
   "id": "71051365-4930-490a-ab6e-62b0dbf304a6",
   "metadata": {},
   "outputs": [
    {
     "name": "stderr",
     "output_type": "stream",
     "text": [
      "1 extra bytes in post.stringData array\n",
      "'created' timestamp seems very low; regarding as unix timestamp\n",
      "Zapf NOT subset; don't know how to subset; dropped\n",
      "feat NOT subset; don't know how to subset; dropped\n",
      "morx NOT subset; don't know how to subset; dropped\n",
      "1 extra bytes in post.stringData array\n",
      "'created' timestamp seems very low; regarding as unix timestamp\n",
      "Zapf NOT subset; don't know how to subset; dropped\n",
      "feat NOT subset; don't know how to subset; dropped\n",
      "morx NOT subset; don't know how to subset; dropped\n"
     ]
    },
    {
     "data": {
      "image/png": "[encoded data removed]",
      "text/plain": [
       "<Figure size 288x288 with 1 Axes>"
      ]
     },
     "metadata": {
      "needs_background": "light"
     },
     "output_type": "display_data"
    },
    {
     "data": {
      "image/png": "[encoded data removed]",
      "text/plain": [
       "<Figure size 288x288 with 1 Axes>"
      ]
     },
     "metadata": {
      "needs_background": "light"
     },
     "output_type": "display_data"
    }
   ],
   "source": [
    "plt.figure(figsize=(4,4))\n",
    "sns.regplot(data=logFC_df_ASD_severity, x='PROC', y='combined_clinical_score', ci=False,\n",
    "                line_kws={\"lw\": 2, 'color':\"grey\"}, scatter_kws={'linewidth': 0, 's': 75})\n",
    "plt.ylabel('')\n",
    "plt.xlabel('')\n",
    "rho, pval = pearsonr(logFC_df_ASD_severity['PROC'], logFC_df_ASD_severity['combined_clinical_score'])\n",
    "plt.text(-.8, -35, f\"$\\\\rho$ = {rho:.2f}\\np = {pval:.2f}\", fontsize=19, color='k')\n",
    "plt.xlim(-1,1)\n",
    "plt.yticks([])\n",
    "plt.xticks([-1,0,1], fontsize=19)\n",
    "sns.despine(right=True)\n",
    "#plt.savefig('PROC_ADIR.pdf', dpi=1000)\n",
    "\n",
    "plt.figure(figsize=(4,4))\n",
    "sns.regplot(data=logFC_df_ASD_severity, x='LDHB', y='combined_clinical_score', ci=False,\n",
    "                line_kws={\"lw\": 2, 'color':\"grey\"}, scatter_kws={'linewidth': 0, 's': 75})\n",
    "plt.ylabel('')\n",
    "plt.xlabel('')\n",
    "rho, pval = pearsonr(logFC_df_ASD_severity['LDHB'], logFC_df_ASD_severity['combined_clinical_score'])\n",
    "plt.text(-.8, -35, f\"$\\\\rho$ = {rho:.2f}\\np = {pval:.2f}\", fontsize=19, color='k')\n",
    "plt.yticks([])\n",
    "plt.xlim(-1,1)\n",
    "plt.xticks([-1,0,1], fontsize=19)\n",
    "sns.despine(right=True)\n",
    "#plt.savefig('LDHB_ADIR.pdf', dpi=1000)"
   ]
  },
  {
   "cell_type": "code",
   "execution_count": 153,
   "id": "5f471c71-88f5-4343-9434-3be2c57fee27",
   "metadata": {},
   "outputs": [
    {
     "name": "stderr",
     "output_type": "stream",
     "text": [
      "1 extra bytes in post.stringData array\n",
      "'created' timestamp seems very low; regarding as unix timestamp\n",
      "Zapf NOT subset; don't know how to subset; dropped\n",
      "feat NOT subset; don't know how to subset; dropped\n",
      "morx NOT subset; don't know how to subset; dropped\n"
     ]
    },
    {
     "data": {
      "image/png": "[encoded data removed]",
      "text/plain": [
       "<Figure size 288x216 with 1 Axes>"
      ]
     },
     "metadata": {
      "needs_background": "light"
     },
     "output_type": "display_data"
    }
   ],
   "source": [
    "plt.figure(figsize=(4,3))\n",
    "sns.regplot(data=logFC_df_ASD_severity, x='ANGEL2', y='combined_clinical_score', ci=False,\n",
    "                line_kws={\"lw\": 2, 'color':\"red\"}, scatter_kws={'linewidth': 0, 's': 75})\n",
    "plt.ylabel('')\n",
    "plt.xlabel('')\n",
    "plt.title('')\n",
    "plt.yticks([])\n",
    "plt.xticks([-1,0,1], fontsize=19)\n",
    "plt.xlim(-1,1)\n",
    "sns.despine(right=True)\n",
    "rho, pval = pearsonr(logFC_df_ASD_severity['ANGEL2'], logFC_df_ASD_severity['combined_clinical_score'])\n",
    "plt.text(-.8, -35, f\"$\\\\rho$ = {rho:.2f}\\np = {pval:.2f}\", fontsize=19, color='red')\n",
    "#plt.savefig('ANGEL2_ADIR.pdf', dpi=1000)"
   ]
  },
  {
   "cell_type": "code",
   "execution_count": null,
   "id": "cf7c3d3f-08d5-4f71-8160-f1395bc2f2d4",
   "metadata": {},
   "outputs": [],
   "source": []
  }
 ],
 "metadata": {
  "kernelspec": {
   "display_name": "Python 3 (ipykernel)",
   "language": "python",
   "name": "python3"
  },
  "language_info": {
   "codemirror_mode": {
    "name": "ipython",
    "version": 3
   },
   "file_extension": ".py",
   "mimetype": "text/x-python",
   "name": "python",
   "nbconvert_exporter": "python",
   "pygments_lexer": "ipython3",
   "version": "3.8.8"
  }
 },
 "nbformat": 4,
 "nbformat_minor": 5
}
