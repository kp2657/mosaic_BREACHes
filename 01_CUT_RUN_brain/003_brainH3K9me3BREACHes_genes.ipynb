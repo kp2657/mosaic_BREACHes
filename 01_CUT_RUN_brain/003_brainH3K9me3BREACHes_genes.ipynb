{
 "cells": [
  {
   "cell_type": "code",
   "execution_count": 1,
   "id": "0ce4a868-998c-4f03-916a-022e08a0538b",
   "metadata": {},
   "outputs": [],
   "source": [
    "import pandas as pd\n",
    "import matplotlib.pyplot as plt\n",
    "import seaborn as sns\n",
    "import numpy as np\n",
    "import os\n",
    "import pybedtools\n",
    "import random\n",
    "from scipy.stats import zscore\n",
    "from statsmodels.stats.multitest import multipletests\n",
    "plt.rcParams['pdf.fonttype'] = 42\n",
    "plt.rcParams['ps.fonttype'] = 42\n",
    "plt.rcParams['font.family'] = 'Helvetica'"
   ]
  },
  {
   "cell_type": "code",
   "execution_count": 2,
   "id": "3aebedf6-a668-43f2-a58d-78df3b43af27",
   "metadata": {},
   "outputs": [],
   "source": [
    "MANE = pd.read_csv('MANE.GRCh38.v1.3.summary.txt', sep='\\t')\n",
    "MANE.rename(columns={'symbol': 'gene'}, inplace=True)\n",
    "MANE['chr'] = 'chr' + MANE['GRCh38_chr'].str.extract(r'(NC_\\d+)').squeeze().str.extract(r'NC_0*(\\d+)')\n",
    "MANE['length'] = abs(MANE['chr_start'] - MANE['chr_end'])\n",
    "MANE['chr'] = MANE['chr'].replace({'chr23': 'chrX', 'chr24': 'chrY'})\n",
    "MANE = MANE.dropna(subset=['chr'])\n",
    "MANE = MANE.drop(columns=['RefSeq_nuc',\n",
    " 'RefSeq_prot',\n",
    " 'Ensembl_nuc',\n",
    " 'Ensembl_prot',\n",
    " 'MANE_status']).drop_duplicates()\n",
    "genes = MANE[['gene', 'chr', 'chr_start', 'chr_end']].drop_duplicates()"
   ]
  },
  {
   "cell_type": "code",
   "execution_count": 3,
   "id": "ef25f4ec-551f-4bb5-af5b-8eecf76a6115",
   "metadata": {},
   "outputs": [],
   "source": [
    "annotated_BREACHES = pd.read_csv('./annotated_BREACHES.bed', sep='\\t', header=None, names=['chr', 'start', 'end', 'coverage'])\n",
    "\n",
    "filtered_genes = pd.merge(\n",
    "    genes,\n",
    "    annotated_BREACHES,\n",
    "    on='chr',  \n",
    ")\n",
    "\n",
    "filtered_genes = filtered_genes[\n",
    "    (filtered_genes['chr_start'] >= filtered_genes['start']) &\n",
    "    (filtered_genes['chr_end'] <= filtered_genes['end'])\n",
    "]\n",
    "\n",
    "filtered_genes = filtered_genes[['chr', 'chr_start', 'chr_end', 'gene']]"
   ]
  },
  {
   "cell_type": "code",
   "execution_count": 4,
   "id": "014f0900-e406-4da1-9dc5-9675b3c29fa3",
   "metadata": {},
   "outputs": [],
   "source": [
    "bed_files = [f for f in os.listdir('./RSEG') if f.endswith('_BREACHes.bed')]\n",
    "\n",
    "regions = {\n",
    "    \"gene_body\": lambda row: (row['chr_start'], row['chr_end']),  # Entire gene body\n",
    "    \"promoter_10kb\": lambda row: (row['chr_start'] - 2000, row['chr_start'] + 10000),  \n",
    "}\n",
    "\n",
    "result_df = filtered_genes[['gene', 'chr', 'chr_start', 'chr_end']].copy()\n",
    "result_df[['gene_body', 'promoter_10kb']] = 0  # Add columns for regions\n",
    "\n",
    "for bed_file in bed_files:\n",
    "    bed_path = os.path.join('./RSEG', bed_file)\n",
    "    \n",
    "    # Load the BED file\n",
    "    bed_df = pd.read_csv(bed_path, sep='\\t', header=None, names=['chr', 'start', 'end'])\n",
    "    \n",
    "    for region_name, region_func in regions.items():\n",
    "        # Iterate over each row in the result_df\n",
    "        for idx, gene_row in result_df.iterrows():\n",
    "            chr_gene = gene_row['chr']\n",
    "            start_region, end_region = region_func(gene_row)  # Calculate region boundaries\n",
    "            \n",
    "            # Filter the BED file to get rows that match the same chromosome\n",
    "            bed_chr = bed_df[bed_df['chr'] == chr_gene]\n",
    "            \n",
    "            for _, bed_row in bed_chr.iterrows():\n",
    "                # Calculate overlap\n",
    "                overlap_start = max(start_region, bed_row['start'])\n",
    "                overlap_end = min(end_region, bed_row['end'])\n",
    "                overlap_length = max(0, overlap_end - overlap_start)\n",
    "                \n",
    "                # Check if overlap is at least 90% of the region length\n",
    "                region_length = end_region - start_region\n",
    "                if overlap_length >= 0.9 * region_length:\n",
    "                    result_df.at[idx, region_name] += 1\n",
    "final_df = result_df[['gene', 'gene_body', 'promoter_10kb']].query('promoter_10kb > 0')"
   ]
  },
  {
   "cell_type": "code",
   "execution_count": 5,
   "id": "c1abd6d5-64c9-4263-9870-efb9c3ae377e",
   "metadata": {},
   "outputs": [],
   "source": [
    "genes_brain_CV = pd.read_csv('./genes_brain_CV.txt', sep ='\\t', index_col=False)\n",
    "genes_brain_CV['BRAIN_BREACH'] = genes_brain_CV['gene'].isin(final_df['gene'])"
   ]
  },
  {
   "cell_type": "code",
   "execution_count": 6,
   "id": "207b5abd-ce43-4a01-9ec8-96ea1d28083f",
   "metadata": {},
   "outputs": [
    {
     "data": {
      "image/png": "[encoded data removed]",
      "text/plain": [
       "<Figure size 504x432 with 1 Axes>"
      ]
     },
     "metadata": {
      "needs_background": "light"
     },
     "output_type": "display_data"
    }
   ],
   "source": [
    "plt.figure(figsize=(7, 6))\n",
    "breach_data = genes_brain_CV.query('BRAIN_BREACH == True').sort_values('cv_FXS_zscore', ascending = False)\n",
    "\n",
    "bar = sns.barplot(\n",
    "    data=breach_data, \n",
    "    x='gene', y='cv_FXS_zscore', width=0.8, color='cornflowerblue'\n",
    ")\n",
    "bar.spines[:].set_visible(False)\n",
    "\n",
    "plt.axvline(x='BCAP29', \n",
    "            color='k', linestyle='--', linewidth=1)\n",
    "plt.axvline(x='TEX26', \n",
    "            color='k', linestyle='--', linewidth=1)\n",
    "\n",
    "plt.axhline(y=0, \n",
    "            color='cornflowerblue', linewidth=0.5)\n",
    "\n",
    "plt.xticks([])\n",
    "\n",
    "plt.xlabel('')\n",
    "plt.ylabel('')\n",
    "plt.ylim(-3, 3)\n",
    "plt.yticks([-3, 3])\n",
    "\n",
    "#bar.figure.savefig('BRAIN_BREACH_genes_het_brain_ticked.pdf', dpi=1000)\n",
    "plt.show()"
   ]
  },
  {
   "cell_type": "code",
   "execution_count": 7,
   "id": "60db5477-f283-4495-a043-06cdfaf0ad79",
   "metadata": {},
   "outputs": [],
   "source": [
    "sfari = pd.read_csv('SFARI-Gene_genes_01-13-2025release_01-15-2025export.csv')"
   ]
  },
  {
   "cell_type": "code",
   "execution_count": 8,
   "id": "277030fa-858b-4f84-aea6-0d67f1fdaf7c",
   "metadata": {},
   "outputs": [],
   "source": [
    "genes_sfari = genes_brain_CV.merge(sfari, left_on='gene', right_on='gene-symbol', how='left')"
   ]
  },
  {
   "cell_type": "code",
   "execution_count": 9,
   "id": "90fd12a2-c0cd-4753-8821-b6db37b82d15",
   "metadata": {},
   "outputs": [],
   "source": [
    "breach_data_sfari = genes_sfari.query('BRAIN_BREACH == True')"
   ]
  },
  {
   "cell_type": "code",
   "execution_count": 10,
   "id": "cab3ede9-9933-4554-8c65-057bfc97d4b4",
   "metadata": {},
   "outputs": [
    {
     "name": "stdout",
     "output_type": "stream",
     "text": [
      "5\n",
      "10\n",
      "2\n"
     ]
    },
    {
     "name": "stderr",
     "output_type": "stream",
     "text": [
      "/var/folders/v1/3py01kc1619d4sj6bsmhx3br0000gn/T/ipykernel_54533/990128391.py:1: SettingWithCopyWarning: \n",
      "A value is trying to be set on a copy of a slice from a DataFrame.\n",
      "Try using .loc[row_indexer,col_indexer] = value instead\n",
      "\n",
      "See the caveats in the documentation: https://pandas.pydata.org/pandas-docs/stable/user_guide/indexing.html#returning-a-view-versus-a-copy\n",
      "  breach_data_sfari['cv_group'] = pd.cut(\n"
     ]
    },
    {
     "data": {
      "image/png": "[encoded data removed]",
      "text/plain": [
       "<Figure size 288x432 with 1 Axes>"
      ]
     },
     "metadata": {
      "needs_background": "light"
     },
     "output_type": "display_data"
    }
   ],
   "source": [
    "breach_data_sfari['cv_group'] = pd.cut(\n",
    "    breach_data_sfari['cv_FXS_zscore'],\n",
    "    bins=[-float('inf'), -1.25, 1.25, float('inf')],\n",
    "    labels=['< -1.25', '>= -1.25 & <= 1.25', '> 1.25']\n",
    ")\n",
    "\n",
    "proportions = {'cv_group': [], 'either': [], 'neither': []}\n",
    "\n",
    "for group in breach_data_sfari['cv_group'].unique():\n",
    "    group_data = breach_data_sfari[breach_data_sfari['cv_group'] == group]\n",
    "    total = len(group_data)\n",
    "    if total > 0:\n",
    "        either_count = ((group_data['gene-score'] < 3) | (group_data['syndromic'] == 1)).sum()\n",
    "        print(either_count)\n",
    "        neither_count = total - either_count\n",
    "        proportions['cv_group'].append(group)\n",
    "        proportions['either'].append(either_count / total)\n",
    "        proportions['neither'].append(neither_count / total)\n",
    "    else:\n",
    "        proportions['cv_group'].append(group)\n",
    "        proportions['either'].append(0)\n",
    "        proportions['neither'].append(0)\n",
    "\n",
    "proportions_df = pd.DataFrame(proportions)\n",
    "\n",
    "fig, ax = plt.subplots(figsize=(4, 6))\n",
    "bar_width = 0.5\n",
    "x = range(len(proportions_df))\n",
    "\n",
    "ax.bar(x, proportions_df['either'], width=bar_width, label='Either gene-score or syndromic < 3', color='orange')\n",
    "ax.bar(x, proportions_df['neither'], width=bar_width, bottom=proportions_df['either'], label='Neither', color='lightgrey')\n",
    "ax.set_xticks(x)\n",
    "ax.set_xticklabels([])\n",
    "ax.spines['top'].set_visible(False)\n",
    "ax.spines['right'].set_visible(False)\n",
    "\n",
    "plt.ylim(0, 0.4)\n",
    "plt.yticks([0, 0.5], rotation=90, fontsize=18)\n",
    "plt.tight_layout()\n",
    "\n",
    "#plt.savefig('sfari_S12.pdf', dpi=1000)\n",
    "plt.show()"
   ]
  },
  {
   "cell_type": "code",
   "execution_count": 11,
   "id": "a3cf35fe-b7ef-4240-9fb3-6f03775e6a61",
   "metadata": {},
   "outputs": [],
   "source": [
    "filtered_df = genes_sfari[(genes_sfari['BRAIN_BREACH'] == False)]\n",
    "random.seed('girlsoconfusing')\n",
    "empirical_samples = []\n",
    "for _ in range(10000):\n",
    "    sample = filtered_df.sample(n=20, replace=False)\n",
    "    proportion = len(sample[(sample['gene-score'] < 3) | (sample['syndromic'] == 1)]) / 20\n",
    "    empirical_samples.append(proportion)"
   ]
  },
  {
   "cell_type": "code",
   "execution_count": 17,
   "id": "851c2977-1de7-43a8-84ad-52c988bcdffd",
   "metadata": {},
   "outputs": [
    {
     "data": {
      "image/png": "[encoded data removed]",
      "text/plain": [
       "<Figure size 720x288 with 1 Axes>"
      ]
     },
     "metadata": {
      "needs_background": "light"
     },
     "output_type": "display_data"
    },
    {
     "name": "stdout",
     "output_type": "stream",
     "text": [
      "Empirical p-value for mosaic BREACH genes: 0.0036\n",
      "Empirical p-value for invariant BREACH genes: 0.3114\n"
     ]
    }
   ],
   "source": [
    "# Step 2: Analyze proportions for BRAIN_BREACH == True\n",
    "high_zscore = genes_sfari[(genes_sfari['BRAIN_BREACH'] == True) & \n",
    "                          (genes_sfari['cv_FXS_zscore'] > 1.25)]\n",
    "low_zscore = genes_sfari[(genes_sfari['BRAIN_BREACH'] == True) & \n",
    "                         (genes_sfari['cv_FXS_zscore'] < -1.25)]\n",
    "\n",
    "high_proportion = len(high_zscore[(high_zscore['gene-score'] < 3) | (high_zscore['syndromic'] == 1)]) / len(high_zscore)\n",
    "low_proportion = len(low_zscore[(low_zscore['gene-score'] < 3) | (low_zscore['syndromic'] == 1)]) / len(low_zscore)\n",
    "\n",
    "fig, ax = plt.subplots(figsize=(10, 4))\n",
    "\n",
    "plt.hist(empirical_samples, bins=7 ,color='lightblue', alpha=0.7, label='10,000 draws of 20 non-BREACH genes')\n",
    "plt.axvline(high_proportion, color='orangered', linestyle='--', linewidth=2, label='mosaic BREACH genes, N=20')\n",
    "plt.axvline(low_proportion, color='brown', linestyle=':', linewidth=2, label='invariant BREACH genes, N=20')\n",
    "\n",
    "\n",
    "ax.spines['top'].set_visible(False)\n",
    "ax.spines['right'].set_visible(False)\n",
    "\n",
    "\n",
    "plt.yticks([0,4000], fontsize=24)\n",
    "plt.xticks(fontsize=24)\n",
    "\n",
    "plt.savefig('sfari_S12_histogram.pdf', dpi=1000)\n",
    "plt.show()\n",
    "\n",
    "high_pvalue = np.mean(np.array(empirical_samples) >= high_proportion)\n",
    "low_pvalue = np.mean(np.array(empirical_samples) >= low_proportion)\n",
    "\n",
    "print(f\"Empirical p-value for mosaic BREACH genes: {high_pvalue}\")\n",
    "print(f\"Empirical p-value for invariant BREACH genes: {low_pvalue}\")"
   ]
  },
  {
   "cell_type": "code",
   "execution_count": null,
   "id": "e9acc1d0-f12c-4fb5-a13a-4eb98b511280",
   "metadata": {},
   "outputs": [],
   "source": []
  }
 ],
 "metadata": {
  "kernelspec": {
   "display_name": "Python 3 (ipykernel)",
   "language": "python",
   "name": "python3"
  },
  "language_info": {
   "codemirror_mode": {
    "name": "ipython",
    "version": 3
   },
   "file_extension": ".py",
   "mimetype": "text/x-python",
   "name": "python",
   "nbconvert_exporter": "python",
   "pygments_lexer": "ipython3",
   "version": "3.8.8"
  }
 },
 "nbformat": 4,
 "nbformat_minor": 5
}
