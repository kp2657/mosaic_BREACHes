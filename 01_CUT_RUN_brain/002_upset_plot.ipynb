{
 "cells": [
  {
   "cell_type": "code",
   "execution_count": 1,
   "id": "65320d43-de10-430f-beeb-bd13a204399b",
   "metadata": {},
   "outputs": [],
   "source": [
    "import pandas as pd\n",
    "import seaborn as sns\n",
    "import matplotlib.pyplot as plt\n",
    "from upsetplot import UpSet\n",
    "plt.rcParams['pdf.fonttype'] = 42\n",
    "plt.rcParams['ps.fonttype'] = 42\n",
    "plt.rcParams['font.family'] = 'Helvetica'\n",
    "plt.rcParams['font.size'] = 12"
   ]
  },
  {
   "cell_type": "code",
   "execution_count": 2,
   "id": "21093ffb-3149-4280-968e-efd563ec14eb",
   "metadata": {},
   "outputs": [],
   "source": [
    "data = pd.read_csv('upset_plot_data.txt', sep='\\t')\n",
    "data.rename(\n",
    "    columns={\n",
    "        \"NIH-5319_CN_H3K9me3_S9_ALTrBT2_SOMRD-DS_L-Filter-V2\": \"FXS_1\",\n",
    "        \"NIH-5746_CN_H3K9me3_S1_ALTrBT2_SOMRD-DS_L-Filter-V2\": \"FXS_2\",\n",
    "        \"NIH-5006_CN_H3K9me3_S13_ALTrBT2_SOMRD-DS_L-Filter-V2\": \"FXS_3\",\n",
    "        \"NIH-6131_CN_H3K9me3_S13_ALTrBT2_SOMRD-DS_L-Filter-V2\": \"FXS_4\",        \n",
    "    },\n",
    "    inplace=True\n",
    ")\n",
    "data.set_index(list(data.columns), inplace=True)"
   ]
  },
  {
   "cell_type": "code",
   "execution_count": 5,
   "id": "e3771486-be18-4a26-a0ef-03ceffbdf3d1",
   "metadata": {},
   "outputs": [
    {
     "name": "stderr",
     "output_type": "stream",
     "text": [
      "/var/folders/v1/3py01kc1619d4sj6bsmhx3br0000gn/T/ipykernel_55582/3618295563.py:17: UserWarning: This figure includes Axes that are not compatible with tight_layout, so results might be incorrect.\n",
      "  plt.tight_layout()\n"
     ]
    },
    {
     "data": {
      "image/png": "[encoded data removed]",
      "text/plain": [
       "<Figure size 352x448 with 4 Axes>"
      ]
     },
     "metadata": {
      "needs_background": "light"
     },
     "output_type": "display_data"
    }
   ],
   "source": [
    "upset = UpSet(data, intersection_plot_elements=10)\n",
    "fig = plt.figure(figsize=(12, 6))\n",
    "upset.plot(fig=fig)\n",
    "\n",
    "# Customize the plot\n",
    "ax = fig.axes\n",
    "\n",
    "for axis in ax:\n",
    "    axis.grid(False)  # Remove gridlines\n",
    "    axis.set_ylabel(\"\")\n",
    "    axis.set_ylim(0, 25)\n",
    "    axis.set_yticks([25])\n",
    "    axis.set_yticklabels([])\n",
    "\n",
    "        \n",
    "        \n",
    "plt.tight_layout()\n",
    "#plt.savefig('brain_upsetplot_top.pdf', dpi=1000)\n",
    "plt.show()"
   ]
  },
  {
   "cell_type": "code",
   "execution_count": 6,
   "id": "de7d63e1-6e11-45cc-b40f-7afd554d9a74",
   "metadata": {},
   "outputs": [
    {
     "name": "stderr",
     "output_type": "stream",
     "text": [
      "/var/folders/v1/3py01kc1619d4sj6bsmhx3br0000gn/T/ipykernel_55582/2248755300.py:13: UserWarning: This figure includes Axes that are not compatible with tight_layout, so results might be incorrect.\n",
      "  plt.tight_layout()\n"
     ]
    },
    {
     "data": {
      "image/png": "[encoded data removed]",
      "text/plain": [
       "<Figure size 352x448 with 4 Axes>"
      ]
     },
     "metadata": {
      "needs_background": "light"
     },
     "output_type": "display_data"
    }
   ],
   "source": [
    "upset = UpSet(data, intersection_plot_elements=10)\n",
    "fig = plt.figure(figsize=(12, 6))\n",
    "upset.plot(fig=fig)\n",
    "\n",
    "# Customize the plot\n",
    "ax = fig.axes\n",
    "\n",
    "for axis in ax:\n",
    "    axis.grid(False)  # Remove gridlines\n",
    "    if axis.get_ylabel():  # Customize y-axis labels if they exist\n",
    "        axis.set_ylabel(\"\")\n",
    " \n",
    "plt.tight_layout()\n",
    "#plt.savefig('brain_upsetplot_bottom.pdf', dpi=1000)\n",
    "plt.show()"
   ]
  }
 ],
 "metadata": {
  "kernelspec": {
   "display_name": "Python 3 (ipykernel)",
   "language": "python",
   "name": "python3"
  },
  "language_info": {
   "codemirror_mode": {
    "name": "ipython",
    "version": 3
   },
   "file_extension": ".py",
   "mimetype": "text/x-python",
   "name": "python",
   "nbconvert_exporter": "python",
   "pygments_lexer": "ipython3",
   "version": "3.8.8"
  }
 },
 "nbformat": 4,
 "nbformat_minor": 5
}
